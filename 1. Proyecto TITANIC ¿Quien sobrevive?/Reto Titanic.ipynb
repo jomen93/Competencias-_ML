{
 "cells": [
  {
   "cell_type": "markdown",
   "metadata": {},
   "source": [
    "# Reto del Titanic"
   ]
  },
  {
   "cell_type": "markdown",
   "metadata": {},
   "source": [
    "## 1.Preprocesamiento de los datos\n",
    "\n",
    "Esta primera parte esta dedicada a cargar las librerías necesarias, las bases de datos, manipulación de las bases (eliminación de variables irrelevantes, completar valores missing, entre otros). "
   ]
  },
  {
   "cell_type": "code",
   "execution_count": 496,
   "metadata": {},
   "outputs": [],
   "source": [
    "import numpy as np\n",
    "import matplotlib.pyplot as plt\n",
    "import pandas as pd\n",
    "import seaborn as sns\n",
    "\n",
    "# Machine Learning\n",
    "from sklearn.naive_bayes import BernoulliNB\n",
    "from sklearn.model_selection import (train_test_split,\n",
    "                                     GridSearchCV)\n",
    "from sklearn.ensemble import (RandomForestClassifier,\n",
    "                              StackingClassifier)\n",
    "from sklearn.metrics import (accuracy_score,\n",
    "                             recall_score,\n",
    "                             f1_score, precision_score,\n",
    "                             plot_confusion_matrix,\n",
    "                             roc_curve, auc,\n",
    "                             classification_report)\n",
    "from sklearn.linear_model import LogisticRegression\n",
    "from sklearn.preprocessing import OneHotEncoder\n",
    "from sklearn.tree import DecisionTreeClassifier\n",
    "from sklearn.impute import SimpleImputer\n",
    "\n",
    "import missingno as msno\n",
    "from fancyimpute import KNN\n",
    "from fancyimpute import IterativeImputer\n",
    "\n",
    "import warnings\n",
    "import sklearn.exceptions\n",
    "warnings.filterwarnings(\"ignore\",\n",
    "                        category=sklearn.exceptions.UndefinedMetricWarning)\n",
    "\n",
    "from IPython.display import display\n",
    "from IPython.display import HTML\n",
    "import IPython.core.display as di # Example: di.display_html('<h3>%s:</h3>' % str, raw=True)\n",
    "\n",
    "# This line will add a button to toggle visibility of code blocks, for use with the HTML export version\n",
    "#di.display_html('''<button onclick=\"jQuery('.input_area').toggle(); jQuery('.prompt').toggle();\">Toggle code</button>''', raw=True)\n",
    "\n",
    "# This line will hide code by default when the notebook is exported as HTML\n",
    "#di.display_html('<script>jQuery(function() {if (jQuery(\"body.notebook_app\").length == 0) { jQuery(\".input_area\").toggle(); jQuery(\".prompt\").toggle();}});</script>', raw=True)\n"
   ]
  },
  {
   "cell_type": "markdown",
   "metadata": {},
   "source": [
    "Lectura de los datos de entrenamiento y de validación"
   ]
  },
  {
   "cell_type": "code",
   "execution_count": 497,
   "metadata": {},
   "outputs": [],
   "source": [
    "data = pd.read_csv(\"DATA/train.csv\",na_values='.')\n",
    "test = pd.read_csv(\"DATA/test.csv\", na_values='.')\n",
    "pid = test.PassengerId"
   ]
  },
  {
   "cell_type": "markdown",
   "metadata": {},
   "source": [
    "Pequeña descripción estadística de la base de datos de entrenamiento"
   ]
  },
  {
   "cell_type": "code",
   "execution_count": 498,
   "metadata": {},
   "outputs": [
    {
     "data": {
      "text/html": [
       "<div>\n",
       "<style scoped>\n",
       "    .dataframe tbody tr th:only-of-type {\n",
       "        vertical-align: middle;\n",
       "    }\n",
       "\n",
       "    .dataframe tbody tr th {\n",
       "        vertical-align: top;\n",
       "    }\n",
       "\n",
       "    .dataframe thead th {\n",
       "        text-align: right;\n",
       "    }\n",
       "</style>\n",
       "<table border=\"1\" class=\"dataframe\">\n",
       "  <thead>\n",
       "    <tr style=\"text-align: right;\">\n",
       "      <th></th>\n",
       "      <th>PassengerId</th>\n",
       "      <th>Survived</th>\n",
       "      <th>Pclass</th>\n",
       "      <th>Age</th>\n",
       "      <th>SibSp</th>\n",
       "      <th>Parch</th>\n",
       "      <th>Fare</th>\n",
       "    </tr>\n",
       "  </thead>\n",
       "  <tbody>\n",
       "    <tr>\n",
       "      <th>count</th>\n",
       "      <td>891.000000</td>\n",
       "      <td>891.000000</td>\n",
       "      <td>891.000000</td>\n",
       "      <td>714.000000</td>\n",
       "      <td>891.000000</td>\n",
       "      <td>891.000000</td>\n",
       "      <td>891.000000</td>\n",
       "    </tr>\n",
       "    <tr>\n",
       "      <th>mean</th>\n",
       "      <td>446.000000</td>\n",
       "      <td>0.383838</td>\n",
       "      <td>2.308642</td>\n",
       "      <td>29.699118</td>\n",
       "      <td>0.523008</td>\n",
       "      <td>0.381594</td>\n",
       "      <td>32.204208</td>\n",
       "    </tr>\n",
       "    <tr>\n",
       "      <th>std</th>\n",
       "      <td>257.353842</td>\n",
       "      <td>0.486592</td>\n",
       "      <td>0.836071</td>\n",
       "      <td>14.526497</td>\n",
       "      <td>1.102743</td>\n",
       "      <td>0.806057</td>\n",
       "      <td>49.693429</td>\n",
       "    </tr>\n",
       "    <tr>\n",
       "      <th>min</th>\n",
       "      <td>1.000000</td>\n",
       "      <td>0.000000</td>\n",
       "      <td>1.000000</td>\n",
       "      <td>0.420000</td>\n",
       "      <td>0.000000</td>\n",
       "      <td>0.000000</td>\n",
       "      <td>0.000000</td>\n",
       "    </tr>\n",
       "    <tr>\n",
       "      <th>25%</th>\n",
       "      <td>223.500000</td>\n",
       "      <td>0.000000</td>\n",
       "      <td>2.000000</td>\n",
       "      <td>20.125000</td>\n",
       "      <td>0.000000</td>\n",
       "      <td>0.000000</td>\n",
       "      <td>7.910400</td>\n",
       "    </tr>\n",
       "    <tr>\n",
       "      <th>50%</th>\n",
       "      <td>446.000000</td>\n",
       "      <td>0.000000</td>\n",
       "      <td>3.000000</td>\n",
       "      <td>28.000000</td>\n",
       "      <td>0.000000</td>\n",
       "      <td>0.000000</td>\n",
       "      <td>14.454200</td>\n",
       "    </tr>\n",
       "    <tr>\n",
       "      <th>75%</th>\n",
       "      <td>668.500000</td>\n",
       "      <td>1.000000</td>\n",
       "      <td>3.000000</td>\n",
       "      <td>38.000000</td>\n",
       "      <td>1.000000</td>\n",
       "      <td>0.000000</td>\n",
       "      <td>31.000000</td>\n",
       "    </tr>\n",
       "    <tr>\n",
       "      <th>max</th>\n",
       "      <td>891.000000</td>\n",
       "      <td>1.000000</td>\n",
       "      <td>3.000000</td>\n",
       "      <td>80.000000</td>\n",
       "      <td>8.000000</td>\n",
       "      <td>6.000000</td>\n",
       "      <td>512.329200</td>\n",
       "    </tr>\n",
       "  </tbody>\n",
       "</table>\n",
       "</div>"
      ],
      "text/plain": [
       "       PassengerId    Survived      Pclass         Age       SibSp  \\\n",
       "count   891.000000  891.000000  891.000000  714.000000  891.000000   \n",
       "mean    446.000000    0.383838    2.308642   29.699118    0.523008   \n",
       "std     257.353842    0.486592    0.836071   14.526497    1.102743   \n",
       "min       1.000000    0.000000    1.000000    0.420000    0.000000   \n",
       "25%     223.500000    0.000000    2.000000   20.125000    0.000000   \n",
       "50%     446.000000    0.000000    3.000000   28.000000    0.000000   \n",
       "75%     668.500000    1.000000    3.000000   38.000000    1.000000   \n",
       "max     891.000000    1.000000    3.000000   80.000000    8.000000   \n",
       "\n",
       "            Parch        Fare  \n",
       "count  891.000000  891.000000  \n",
       "mean     0.381594   32.204208  \n",
       "std      0.806057   49.693429  \n",
       "min      0.000000    0.000000  \n",
       "25%      0.000000    7.910400  \n",
       "50%      0.000000   14.454200  \n",
       "75%      0.000000   31.000000  \n",
       "max      6.000000  512.329200  "
      ]
     },
     "execution_count": 498,
     "metadata": {},
     "output_type": "execute_result"
    }
   ],
   "source": [
    "data.describe()"
   ]
  },
  {
   "cell_type": "markdown",
   "metadata": {},
   "source": [
    "Se considera que el nombre no aporta ninguna decisión sustancial dado que solamente sirve como identificador y esa función la cumple perfectamente la variable (PassengerID), por tanto, se elimina de la base de datos. Por otra parte, también la variable (Ticket) tiene valores unicos que no aportan nadal modelo, se elimina también. Se eliminan en las dos bases de datos (entrenamiento y testeo). "
   ]
  },
  {
   "cell_type": "code",
   "execution_count": 499,
   "metadata": {},
   "outputs": [
    {
     "data": {
      "text/html": [
       "<div>\n",
       "<style scoped>\n",
       "    .dataframe tbody tr th:only-of-type {\n",
       "        vertical-align: middle;\n",
       "    }\n",
       "\n",
       "    .dataframe tbody tr th {\n",
       "        vertical-align: top;\n",
       "    }\n",
       "\n",
       "    .dataframe thead th {\n",
       "        text-align: right;\n",
       "    }\n",
       "</style>\n",
       "<table border=\"1\" class=\"dataframe\">\n",
       "  <thead>\n",
       "    <tr style=\"text-align: right;\">\n",
       "      <th></th>\n",
       "      <th>count</th>\n",
       "      <th>unique</th>\n",
       "      <th>top</th>\n",
       "      <th>freq</th>\n",
       "      <th>mean</th>\n",
       "      <th>std</th>\n",
       "      <th>min</th>\n",
       "      <th>25%</th>\n",
       "      <th>50%</th>\n",
       "      <th>75%</th>\n",
       "      <th>max</th>\n",
       "    </tr>\n",
       "  </thead>\n",
       "  <tbody>\n",
       "    <tr>\n",
       "      <th>PassengerId</th>\n",
       "      <td>891</td>\n",
       "      <td>NaN</td>\n",
       "      <td>NaN</td>\n",
       "      <td>NaN</td>\n",
       "      <td>446</td>\n",
       "      <td>257.354</td>\n",
       "      <td>1</td>\n",
       "      <td>223.5</td>\n",
       "      <td>446</td>\n",
       "      <td>668.5</td>\n",
       "      <td>891</td>\n",
       "    </tr>\n",
       "    <tr>\n",
       "      <th>Survived</th>\n",
       "      <td>891</td>\n",
       "      <td>NaN</td>\n",
       "      <td>NaN</td>\n",
       "      <td>NaN</td>\n",
       "      <td>0.383838</td>\n",
       "      <td>0.486592</td>\n",
       "      <td>0</td>\n",
       "      <td>0</td>\n",
       "      <td>0</td>\n",
       "      <td>1</td>\n",
       "      <td>1</td>\n",
       "    </tr>\n",
       "    <tr>\n",
       "      <th>Pclass</th>\n",
       "      <td>891</td>\n",
       "      <td>NaN</td>\n",
       "      <td>NaN</td>\n",
       "      <td>NaN</td>\n",
       "      <td>2.30864</td>\n",
       "      <td>0.836071</td>\n",
       "      <td>1</td>\n",
       "      <td>2</td>\n",
       "      <td>3</td>\n",
       "      <td>3</td>\n",
       "      <td>3</td>\n",
       "    </tr>\n",
       "    <tr>\n",
       "      <th>Sex</th>\n",
       "      <td>891</td>\n",
       "      <td>2</td>\n",
       "      <td>male</td>\n",
       "      <td>577</td>\n",
       "      <td>NaN</td>\n",
       "      <td>NaN</td>\n",
       "      <td>NaN</td>\n",
       "      <td>NaN</td>\n",
       "      <td>NaN</td>\n",
       "      <td>NaN</td>\n",
       "      <td>NaN</td>\n",
       "    </tr>\n",
       "    <tr>\n",
       "      <th>Age</th>\n",
       "      <td>714</td>\n",
       "      <td>NaN</td>\n",
       "      <td>NaN</td>\n",
       "      <td>NaN</td>\n",
       "      <td>29.6991</td>\n",
       "      <td>14.5265</td>\n",
       "      <td>0.42</td>\n",
       "      <td>20.125</td>\n",
       "      <td>28</td>\n",
       "      <td>38</td>\n",
       "      <td>80</td>\n",
       "    </tr>\n",
       "    <tr>\n",
       "      <th>SibSp</th>\n",
       "      <td>891</td>\n",
       "      <td>NaN</td>\n",
       "      <td>NaN</td>\n",
       "      <td>NaN</td>\n",
       "      <td>0.523008</td>\n",
       "      <td>1.10274</td>\n",
       "      <td>0</td>\n",
       "      <td>0</td>\n",
       "      <td>0</td>\n",
       "      <td>1</td>\n",
       "      <td>8</td>\n",
       "    </tr>\n",
       "    <tr>\n",
       "      <th>Parch</th>\n",
       "      <td>891</td>\n",
       "      <td>NaN</td>\n",
       "      <td>NaN</td>\n",
       "      <td>NaN</td>\n",
       "      <td>0.381594</td>\n",
       "      <td>0.806057</td>\n",
       "      <td>0</td>\n",
       "      <td>0</td>\n",
       "      <td>0</td>\n",
       "      <td>0</td>\n",
       "      <td>6</td>\n",
       "    </tr>\n",
       "    <tr>\n",
       "      <th>Fare</th>\n",
       "      <td>891</td>\n",
       "      <td>NaN</td>\n",
       "      <td>NaN</td>\n",
       "      <td>NaN</td>\n",
       "      <td>32.2042</td>\n",
       "      <td>49.6934</td>\n",
       "      <td>0</td>\n",
       "      <td>7.9104</td>\n",
       "      <td>14.4542</td>\n",
       "      <td>31</td>\n",
       "      <td>512.329</td>\n",
       "    </tr>\n",
       "    <tr>\n",
       "      <th>Cabin</th>\n",
       "      <td>204</td>\n",
       "      <td>147</td>\n",
       "      <td>G6</td>\n",
       "      <td>4</td>\n",
       "      <td>NaN</td>\n",
       "      <td>NaN</td>\n",
       "      <td>NaN</td>\n",
       "      <td>NaN</td>\n",
       "      <td>NaN</td>\n",
       "      <td>NaN</td>\n",
       "      <td>NaN</td>\n",
       "    </tr>\n",
       "    <tr>\n",
       "      <th>Embarked</th>\n",
       "      <td>889</td>\n",
       "      <td>3</td>\n",
       "      <td>S</td>\n",
       "      <td>644</td>\n",
       "      <td>NaN</td>\n",
       "      <td>NaN</td>\n",
       "      <td>NaN</td>\n",
       "      <td>NaN</td>\n",
       "      <td>NaN</td>\n",
       "      <td>NaN</td>\n",
       "      <td>NaN</td>\n",
       "    </tr>\n",
       "  </tbody>\n",
       "</table>\n",
       "</div>"
      ],
      "text/plain": [
       "            count unique   top freq      mean       std   min     25%  \\\n",
       "PassengerId   891    NaN   NaN  NaN       446   257.354     1   223.5   \n",
       "Survived      891    NaN   NaN  NaN  0.383838  0.486592     0       0   \n",
       "Pclass        891    NaN   NaN  NaN   2.30864  0.836071     1       2   \n",
       "Sex           891      2  male  577       NaN       NaN   NaN     NaN   \n",
       "Age           714    NaN   NaN  NaN   29.6991   14.5265  0.42  20.125   \n",
       "SibSp         891    NaN   NaN  NaN  0.523008   1.10274     0       0   \n",
       "Parch         891    NaN   NaN  NaN  0.381594  0.806057     0       0   \n",
       "Fare          891    NaN   NaN  NaN   32.2042   49.6934     0  7.9104   \n",
       "Cabin         204    147    G6    4       NaN       NaN   NaN     NaN   \n",
       "Embarked      889      3     S  644       NaN       NaN   NaN     NaN   \n",
       "\n",
       "                 50%    75%      max  \n",
       "PassengerId      446  668.5      891  \n",
       "Survived           0      1        1  \n",
       "Pclass             3      3        3  \n",
       "Sex              NaN    NaN      NaN  \n",
       "Age               28     38       80  \n",
       "SibSp              0      1        8  \n",
       "Parch              0      0        6  \n",
       "Fare         14.4542     31  512.329  \n",
       "Cabin            NaN    NaN      NaN  \n",
       "Embarked         NaN    NaN      NaN  "
      ]
     },
     "execution_count": 499,
     "metadata": {},
     "output_type": "execute_result"
    }
   ],
   "source": [
    "# columnas a eliminar: La de nombres (3) y la del Ticket (8): No nos interesan. \n",
    "name_data = data.columns[3]\n",
    "ticket_data = data.columns[8]\n",
    "\n",
    "name_test = test.columns[2]\n",
    "ticket_test = test.columns[7]\n",
    "\n",
    "data = data.drop([name_data, ticket_data], axis=1)\n",
    "test = test.drop([name_test, ticket_test], axis=1)\n",
    "\n",
    "data.describe(include='all').transpose()"
   ]
  },
  {
   "cell_type": "markdown",
   "metadata": {},
   "source": [
    "### Análisis de reemplazo de las variables vacias: \n",
    "\n",
    "Se puede notar que existen espacios vacios por la fila de Count.  Por tal razón, se debe hacer ingenieria de parámetros para poder rellenar los espacios en blanco y asi poder entrenar con seguridad los modelos. Como salida se obtienen tres bases de datos. Primero se identifica las variables que contienen valores vacios. \n",
    "\n",
    "Se utiliza la paquetería \"missingno\" y \"fancyimpute\" el cual facilita la imputación de los datos faltantes. \n",
    "\n",
    "Según la literatura, se deben evaluar las razones para la existencia de los valores missing. Pueden ocurrir tres situaciones: \n",
    "\n",
    "\n",
    "<ul>\n",
    "<li>Missing Completely at Random (MCAR): Los datos faltantes existan por razones completamente aleatoria. </li>\n",
    "<li>Missing at Random (MAR): Los datos faltantes existan por razones aleatorias, sin embargo, se lográ observar una relación en sentido débil entre los atributos. </li>\n",
    "<li>Missing Not at Random (MNAR): Los datos faltantes existan por atributos que estén correlacionados entre sí.</li>\n",
    "</ul>\n",
    " \n",
    "\n",
    "Una forma de encontrar si los atributos de los datos faltantes están correlacionados es realizando una matriz de correlaciones y un mapa \"dendograma\" . Luego se escoge el método de imputación. La calidad de las imputaciones puede verificarse graficando las distribuciones de las variables missing y no missing, o corriendo regresiones lineales.\n",
    "\n",
    "Como resultado de este apartado se obtienen cuatro bases de datos: \n",
    "\n",
    "<ol>\n",
    "<li>data</li>\n",
    "<li>data</li>\n",
    "<li>Cheese</li>\n",
    "<li>Cheese</li>\n",
    "</ol>\n",
    "\n",
    "Los datos originales queda guardada en un objeto que se llama data_orginal. \n",
    "\n",
    "Ahora se evidencia la cantidad de valores vacios en la base de datos de entrenamiento y validacion"
   ]
  },
  {
   "cell_type": "code",
   "execution_count": 500,
   "metadata": {},
   "outputs": [
    {
     "data": {
      "text/plain": [
       "<matplotlib.axes._subplots.AxesSubplot at 0x15686eca0>"
      ]
     },
     "execution_count": 500,
     "metadata": {},
     "output_type": "execute_result"
    },
    {
     "data": {
      "image/png": "[encoded data removed]",
      "text/plain": [
       "<Figure size 1080x360 with 3 Axes>"
      ]
     },
     "metadata": {
      "needs_background": "light"
     },
     "output_type": "display_data"
    }
   ],
   "source": [
    "msno.bar(data, color=\"green\", figsize=(15, 5))"
   ]
  },
  {
   "cell_type": "markdown",
   "metadata": {},
   "source": [
    "Para tener una visión general de la base de datos se hace un plot de las variables notando la relación de vacios en relación con la orden de los datos"
   ]
  },
  {
   "cell_type": "code",
   "execution_count": 501,
   "metadata": {},
   "outputs": [
    {
     "data": {
      "text/plain": [
       "<matplotlib.axes._subplots.AxesSubplot at 0x153c38190>"
      ]
     },
     "execution_count": 501,
     "metadata": {},
     "output_type": "execute_result"
    },
    {
     "data": {
      "image/png": "[encoded data removed]",
      "text/plain": [
       "<Figure size 1080x360 with 2 Axes>"
      ]
     },
     "metadata": {
      "needs_background": "light"
     },
     "output_type": "display_data"
    }
   ],
   "source": [
    "msno.matrix(data, color=(0.0, 0.5, 0.0), figsize=(15, 5))"
   ]
  },
  {
   "cell_type": "markdown",
   "metadata": {},
   "source": [
    "Para ver si existe alguna relación se ordena los datos teniendo como referencia la variabla **Cabin**, de esta manera ver si existe a simple vista algún tipo de correlación entre **Age** y **Cabin**"
   ]
  },
  {
   "cell_type": "code",
   "execution_count": 502,
   "metadata": {},
   "outputs": [
    {
     "data": {
      "text/plain": [
       "<matplotlib.axes._subplots.AxesSubplot at 0x15e8592e0>"
      ]
     },
     "execution_count": 502,
     "metadata": {},
     "output_type": "execute_result"
    },
    {
     "data": {
      "image/png": "[encoded data removed]",
      "text/plain": [
       "<Figure size 1080x360 with 2 Axes>"
      ]
     },
     "metadata": {
      "needs_background": "light"
     },
     "output_type": "display_data"
    }
   ],
   "source": [
    "data_ordenada=data.sort_values(\"Cabin\") #Se evalua si ordenando por Cabin existe alguna relación entre los missing. \n",
    "msno.matrix(data_ordenada, color=(0.0, 0.5, 0.0), figsize=(15, 5)) #Alguna relación entre cabin y Age, parece que si pero es demasiado débil, sigue siendo aleatorio. \n",
    "#msno.heatmap(data_ordenada)\n",
    "#msno.dendrogram(data_ordenada) #Diagrama de arbol para datos faltantes, describe la correlación de las variables faltantes. \n",
    "\n"
   ]
  },
  {
   "cell_type": "markdown",
   "metadata": {},
   "source": [
    "Pero para confirmar "
   ]
  },
  {
   "cell_type": "code",
   "execution_count": 503,
   "metadata": {},
   "outputs": [
    {
     "data": {
      "text/plain": [
       "<matplotlib.axes._subplots.AxesSubplot at 0x1568187c0>"
      ]
     },
     "execution_count": 503,
     "metadata": {},
     "output_type": "execute_result"
    },
    {
     "data": {
      "image/png": "[encoded data removed]",
      "text/plain": [
       "<Figure size 720x360 with 2 Axes>"
      ]
     },
     "metadata": {
      "needs_background": "light"
     },
     "output_type": "display_data"
    }
   ],
   "source": [
    "msno.heatmap(data, figsize=(10,5))\n"
   ]
  },
  {
   "cell_type": "markdown",
   "metadata": {},
   "source": [
    "### Imputación en la base de entrenamiento "
   ]
  },
  {
   "cell_type": "markdown",
   "metadata": {},
   "source": [
    "#### Valores originales "
   ]
  },
  {
   "cell_type": "code",
   "execution_count": 504,
   "metadata": {},
   "outputs": [],
   "source": [
    "data_original=data.copy(deep=True)\n",
    "test_original=test.copy(deep=True)"
   ]
  },
  {
   "cell_type": "markdown",
   "metadata": {},
   "source": [
    "#### Imputación arbitraria\n",
    "\n",
    "Se hace una propuesta para rellenar los espacios vacios considerando eel promedio si es una variable continua y la moda si es una variable categórica"
   ]
  },
  {
   "cell_type": "code",
   "execution_count": 505,
   "metadata": {},
   "outputs": [],
   "source": [
    "data_arb = data_original.copy(deep=True)\n",
    "test_arb = test_original.copy(deep=True)\n",
    "\n",
    "# se replaza los valores de age con el promedio. \n",
    "data_arb[\"Age\"].fillna(value=round(data_arb.Age.mean()), inplace=True)\n",
    "test_arb[\"Age\"].fillna(value=round(test_arb.Age.mean()), inplace=True)\n",
    "\n",
    "# Se reemplaza los valores vacios por U, elección arbitraria\n",
    "data_arb.Cabin.fillna(value=\"U\", inplace=True)\n",
    "test_arb.Cabin.fillna(value=\"U\", inplace=True)\n",
    "\n",
    "# por utlimo la variable embarked tiene 2 posiciones vacias las reemplazamos\n",
    "# arbitrariamente con S, aunque puede ser a elección\n",
    "data_arb[\"Embarked\"].fillna(value=\"S\", inplace=True)\n",
    "\n",
    "# Para test se rellena con el promedio de datos en la variables Fare\n",
    "test_arb[\"Fare\"].fillna(test_arb.Fare.mean(), inplace=True)\n"
   ]
  },
  {
   "cell_type": "markdown",
   "metadata": {},
   "source": [
    "#### 2. Imputación de acuerdo a la moda:"
   ]
  },
  {
   "cell_type": "code",
   "execution_count": 506,
   "metadata": {},
   "outputs": [],
   "source": [
    "data_mode = data_original.copy(deep=True)\n",
    "mode_imputer = SimpleImputer(strategy=\"most_frequent\") # Create mode imputer object\n",
    "data_mode.iloc[:, :] = mode_imputer.fit_transform(data_mode) # Impute using most frequent value in the DataFrame mode_imputer\n",
    "\n",
    "test_mode = test_original.copy(deep=True)\n",
    "mode_imputer = SimpleImputer(strategy=\"most_frequent\") # Create mode imputer object\n",
    "test_mode.iloc[:, :] = mode_imputer.fit_transform(test_mode) # Impute using most frequent value in the testFrame mode_imputer\n",
    "\n",
    "#Se crea función para devolver la función get_dummys:  \n",
    "def undummify(df, prefix_sep=\"_\"):\n",
    "    cols2collapse = {\n",
    "        item.split(prefix_sep)[0]: (prefix_sep in item) for item in df.columns\n",
    "    }\n",
    "    series_list = []\n",
    "    for col, needs_to_collapse in cols2collapse.items():\n",
    "        if needs_to_collapse:\n",
    "            undummified = (\n",
    "                df.filter(like=col)\n",
    "                .idxmax(axis=1)\n",
    "                .apply(lambda x: x.split(prefix_sep, maxsplit=1)[1])\n",
    "                .rename(col)\n",
    "            )\n",
    "            series_list.append(undummified)\n",
    "        else:\n",
    "            series_list.append(df[col])\n",
    "    undummified_df = pd.concat(series_list, axis=1)\n",
    "    return undummified_df\n"
   ]
  },
  {
   "cell_type": "markdown",
   "metadata": {},
   "source": [
    "#### 3. Imputación por k-means\n"
   ]
  },
  {
   "cell_type": "code",
   "execution_count": 507,
   "metadata": {},
   "outputs": [
    {
     "name": "stdout",
     "output_type": "stream",
     "text": [
      "Imputing row 1/891 with 0 missing, elapsed time: 0.905\n",
      "Imputing row 101/891 with 0 missing, elapsed time: 0.907\n",
      "Imputing row 201/891 with 0 missing, elapsed time: 0.910\n",
      "Imputing row 301/891 with 1 missing, elapsed time: 0.911\n",
      "Imputing row 401/891 with 0 missing, elapsed time: 0.913\n",
      "Imputing row 501/891 with 0 missing, elapsed time: 0.915\n",
      "Imputing row 601/891 with 0 missing, elapsed time: 0.917\n",
      "Imputing row 701/891 with 0 missing, elapsed time: 0.919\n",
      "Imputing row 801/891 with 0 missing, elapsed time: 0.920\n",
      "Imputing row 1/418 with 0 missing, elapsed time: 0.117\n",
      "Imputing row 101/418 with 0 missing, elapsed time: 0.119\n",
      "Imputing row 201/418 with 1 missing, elapsed time: 0.121\n",
      "Imputing row 301/418 with 0 missing, elapsed time: 0.123\n",
      "Imputing row 401/418 with 0 missing, elapsed time: 0.125\n"
     ]
    }
   ],
   "source": [
    "data_knn_imputed = data_original.copy(deep=True)\n",
    "data_knn_imputed=pd.get_dummies(data_knn_imputed)\n",
    "knn_imputer = KNN()\n",
    "data_knn_imputed.iloc[:, :] = knn_imputer.fit_transform(data_knn_imputed) # Impute using fit_tranform on diabetes_knn_imputed\n",
    "data_knn_imputed = undummify(data_knn_imputed)\n",
    "\n",
    "test_knn_imputed = test_original.copy(deep=True)\n",
    "test_knn_imputed=pd.get_dummies(test_knn_imputed)\n",
    "knn_imputer = KNN()\n",
    "test_knn_imputed.iloc[:, :] = knn_imputer.fit_transform(test_knn_imputed) # Impute using fit_tranform on diabetes_knn_imputed\n",
    "test_knn_imputed = undummify(test_knn_imputed)\n",
    "\n",
    "#4. Imputación por IterativeImputer: \n",
    "from fancyimpute import IterativeImputer\n",
    "\n",
    "data_mice_imputed = data_original.copy(deep=True)\n",
    "data_mice_imputed=pd.get_dummies(data_mice_imputed)\n",
    "mice_imputer = IterativeImputer()\n",
    "data_mice_imputed.iloc[:, :] = mice_imputer.fit_transform(data_mice_imputed)\n",
    "data_mice_imputed = undummify(data_mice_imputed)\n",
    "\n",
    "test_mice_imputed = test_original.copy(deep=True)\n",
    "test_mice_imputed=pd.get_dummies(test_mice_imputed)\n",
    "mice_imputer = IterativeImputer()\n",
    "test_mice_imputed.iloc[:, :] = mice_imputer.fit_transform(test_mice_imputed)\n",
    "test_mice_imputed = undummify(test_mice_imputed)\n",
    "\n"
   ]
  },
  {
   "cell_type": "markdown",
   "metadata": {},
   "source": [
    "#### 4. Imputación por IterativeImputer"
   ]
  },
  {
   "cell_type": "code",
   "execution_count": 509,
   "metadata": {},
   "outputs": [],
   "source": [
    "data_mice_imputed = data_original.copy(deep=True)\n",
    "data_mice_imputed=pd.get_dummies(data_mice_imputed)\n",
    "mice_imputer = IterativeImputer()\n",
    "data_mice_imputed.iloc[:, :] = mice_imputer.fit_transform(data_mice_imputed)\n",
    "data_mice_imputed = undummify(data_mice_imputed)\n",
    "\n",
    "test_mice_imputed = test_original.copy(deep=True)\n",
    "test_mice_imputed=pd.get_dummies(test_mice_imputed)\n",
    "mice_imputer = IterativeImputer()\n",
    "test_mice_imputed.iloc[:, :] = mice_imputer.fit_transform(test_mice_imputed)\n",
    "test_mice_imputed = undummify(test_mice_imputed)\n"
   ]
  },
  {
   "cell_type": "markdown",
   "metadata": {},
   "source": [
    "Se guardan las bases de datos que se rellenaron por los diferentes métodos"
   ]
  },
  {
   "cell_type": "code",
   "execution_count": 510,
   "metadata": {},
   "outputs": [],
   "source": [
    "data_arb.to_csv(\"DATA/data_arb.csv\", index=False)\n",
    "data_mode.to_csv(\"DATA/data_mode.csv\", index=False)\n",
    "data_knn_imputed.to_csv(\"DATA/data_knn_imputed.csv\", index=False)\n",
    "data_mice_imputed.to_csv(\"DATA/data_mice_imputed.csv\", index=False)\n"
   ]
  },
  {
   "cell_type": "markdown",
   "metadata": {},
   "source": [
    "Ahora se construye el modelo pero teniendo diferentes fuentes de datos de entrenamiento, que se propusieron anteriormente"
   ]
  },
  {
   "cell_type": "markdown",
   "metadata": {},
   "source": [
    "# Modelo\n",
    "\n",
    "En este modelo se incluyen cuatro clasificadores para contruir un metamodelo que será el modelo definitivo en la propuesta de reolución del problema, estos modelos son:\n",
    "\n",
    "* Clasificador Bayesiano Ingenuo (Bernoulli)\n",
    "* Clasificador Arbol de decisión\n",
    "* Regresión logística\n",
    "* Clasificador Random Forest\n",
    "\n",
    "El metamodelo se construye a partir de un **StackingClassifier**\n",
    "\n"
   ]
  },
  {
   "cell_type": "markdown",
   "metadata": {},
   "source": [
    "Ahora se hace un analisis de la base de datos para poder tener un mejor conjunto de entrenamiento. Para esto se hace análisis entre características y la variable objetivo, es decir, si es un sobreviviente o no. La primera variable que se quiere tratar es la edad de los pasajeros, el siguiente diagrama muestra como se distribuye las edades de los sobrevivientes. El eje $x$ representa la edad de los pasajeros y el eje $y$ el conteo por edad. \n",
    "\n",
    "Esto se hace para cada base de datos "
   ]
  },
  {
   "cell_type": "code",
   "execution_count": 511,
   "metadata": {},
   "outputs": [],
   "source": [
    "Data = [data_arb, data_mode, data_knn_imputed, data_mice_imputed]\n",
    "Data_test = [test_arb, test_mode, test_knn_imputed, test_mice_imputed]"
   ]
  },
  {
   "cell_type": "markdown",
   "metadata": {},
   "source": [
    "#### Imputación arbitaria"
   ]
  },
  {
   "cell_type": "code",
   "execution_count": 512,
   "metadata": {},
   "outputs": [
    {
     "data": {
      "text/plain": [
       "<seaborn.axisgrid.FacetGrid at 0x154c44040>"
      ]
     },
     "execution_count": 512,
     "metadata": {},
     "output_type": "execute_result"
    },
    {
     "data": {
      "image/png": "[encoded data removed]",
      "text/plain": [
       "<Figure size 432x216 with 2 Axes>"
      ]
     },
     "metadata": {
      "needs_background": "light"
     },
     "output_type": "display_data"
    }
   ],
   "source": [
    "g = sns.FacetGrid(data_arb, col='Survived')\n",
    "g.map(plt.hist, 'Age', bins=20)"
   ]
  },
  {
   "cell_type": "markdown",
   "metadata": {},
   "source": [
    "#### Imputación por moda"
   ]
  },
  {
   "cell_type": "code",
   "execution_count": 513,
   "metadata": {},
   "outputs": [
    {
     "data": {
      "text/plain": [
       "<seaborn.axisgrid.FacetGrid at 0x1538cb9a0>"
      ]
     },
     "execution_count": 513,
     "metadata": {},
     "output_type": "execute_result"
    },
    {
     "data": {
      "image/png": "[encoded data removed]",
      "text/plain": [
       "<Figure size 432x216 with 2 Axes>"
      ]
     },
     "metadata": {
      "needs_background": "light"
     },
     "output_type": "display_data"
    }
   ],
   "source": [
    "g = sns.FacetGrid(data_mode, col='Survived')\n",
    "g.map(plt.hist, 'Age', bins=20)"
   ]
  },
  {
   "cell_type": "markdown",
   "metadata": {},
   "source": [
    "#### Imputación por K-means"
   ]
  },
  {
   "cell_type": "code",
   "execution_count": 514,
   "metadata": {},
   "outputs": [
    {
     "data": {
      "text/plain": [
       "<seaborn.axisgrid.FacetGrid at 0x155f57160>"
      ]
     },
     "execution_count": 514,
     "metadata": {},
     "output_type": "execute_result"
    },
    {
     "data": {
      "image/png": "[encoded data removed]",
      "text/plain": [
       "<Figure size 432x216 with 2 Axes>"
      ]
     },
     "metadata": {
      "needs_background": "light"
     },
     "output_type": "display_data"
    }
   ],
   "source": [
    "g = sns.FacetGrid(data_knn_imputed, col='Survived')\n",
    "g.map(plt.hist, 'Age', bins=20)"
   ]
  },
  {
   "cell_type": "markdown",
   "metadata": {},
   "source": [
    "#### Imputacion iterativa"
   ]
  },
  {
   "cell_type": "code",
   "execution_count": 515,
   "metadata": {},
   "outputs": [
    {
     "data": {
      "text/plain": [
       "<seaborn.axisgrid.FacetGrid at 0x1627c0430>"
      ]
     },
     "execution_count": 515,
     "metadata": {},
     "output_type": "execute_result"
    },
    {
     "data": {
      "image/png": "[encoded data removed]",
      "text/plain": [
       "<Figure size 432x216 with 2 Axes>"
      ]
     },
     "metadata": {
      "needs_background": "light"
     },
     "output_type": "display_data"
    }
   ],
   "source": [
    "g = sns.FacetGrid(data_mice_imputed, col='Survived')\n",
    "g.map(plt.hist, 'Age', bins=20)"
   ]
  },
  {
   "cell_type": "markdown",
   "metadata": {},
   "source": [
    "dado que se ve es esta sesgado los datos podemos hacer grupos que agrupen diferentes rangos de edades para agrupar las personas por edades. Esto se hace para cada base de datos con diferente imputación  "
   ]
  },
  {
   "cell_type": "code",
   "execution_count": 516,
   "metadata": {},
   "outputs": [
    {
     "name": "stdout",
     "output_type": "stream",
     "text": [
      "          Age_group  Survived\n",
      "0    (0.34, 16.336]  0.550000\n",
      "1  (16.336, 32.252]  0.344168\n",
      "2  (32.252, 48.168]  0.404255\n",
      "3  (48.168, 64.084]  0.434783\n",
      "4    (64.084, 80.0]  0.090909\n",
      "          Age_group  Survived\n",
      "0    (0.34, 16.336]  0.550000\n",
      "1  (16.336, 32.252]  0.344168\n",
      "2  (32.252, 48.168]  0.404255\n",
      "3  (48.168, 64.084]  0.434783\n",
      "4    (64.084, 80.0]  0.090909\n",
      "          Age_group  Survived\n",
      "0    (0.34, 16.336]  0.548077\n",
      "1  (16.336, 32.252]  0.353070\n",
      "2  (32.252, 48.168]  0.372000\n",
      "3  (48.168, 64.084]  0.428571\n",
      "4    (64.084, 80.0]  0.090909\n",
      "          Age_group  Survived\n",
      "0   (-6.099, 11.19]  0.520000\n",
      "1   (11.19, 28.392]  0.398329\n",
      "2  (28.392, 45.595]  0.342697\n",
      "3  (45.595, 62.797]  0.406977\n",
      "4    (62.797, 80.0]  0.200000\n"
     ]
    }
   ],
   "source": [
    "for dataset in Data:\n",
    "    dataset[\"Age_group\"] = pd.cut(dataset[\"Age\"],5)\n",
    "    print(dataset[[\"Age_group\", \"Survived\"]].groupby([\"Age_group\"], as_index=False).mean().sort_values(by=\"Age_group\", ascending=True))"
   ]
  },
  {
   "cell_type": "markdown",
   "metadata": {},
   "source": [
    "Ahora se reemplaza en las bases de datos de entrenamiento y testeo\n"
   ]
  },
  {
   "cell_type": "code",
   "execution_count": 517,
   "metadata": {},
   "outputs": [],
   "source": [
    "for j in range(len(Data)):\n",
    "    for dataset in [Data[j], Data_test[j]]:\n",
    "        dataset.loc[dataset[\"Age\"] <= 16, \"Age\"] = 0\n",
    "        dataset.loc[(dataset[\"Age\"] > 16) & (dataset[\"Age\"] <= 32), \"Age\"] = 1\n",
    "        dataset.loc[(dataset[\"Age\"] > 32) & (dataset[\"Age\"] <= 48), \"Age\"] = 2\n",
    "        dataset.loc[(dataset[\"Age\"] > 48) & (dataset[\"Age\"] <= 64), \"Age\"] = 3\n",
    "\n",
    "# Se borra la columna auxiliar para la construcción de los grupos\n",
    "for i in range(len(Data)):\n",
    "    Data[i] = Data[i].drop([\"Age_group\"], axis=1)\n",
    "\n"
   ]
  },
  {
   "cell_type": "markdown",
   "metadata": {},
   "source": [
    "Ahora se hace una compactificación de las características utilizando el número de heramanos/conyuges *SibSp* y el número de padres/hijos *Parch*. Se crea una nueva columna en la base de datos para tal propuesta"
   ]
  },
  {
   "cell_type": "code",
   "execution_count": 518,
   "metadata": {},
   "outputs": [],
   "source": [
    "for j in range(len(Data)):\n",
    "    Data[j][\"FamilySize\"] = Data[j][\"SibSp\"] + Data[j][\"Parch\"] + 1\n",
    "    Data_test[j][\"FamilySize\"] = Data_test[j][\"SibSp\"] + Data_test[j][\"Parch\"] + 1\n"
   ]
  },
  {
   "cell_type": "code",
   "execution_count": 519,
   "metadata": {},
   "outputs": [
    {
     "data": {
      "text/html": [
       "<div>\n",
       "<style scoped>\n",
       "    .dataframe tbody tr th:only-of-type {\n",
       "        vertical-align: middle;\n",
       "    }\n",
       "\n",
       "    .dataframe tbody tr th {\n",
       "        vertical-align: top;\n",
       "    }\n",
       "\n",
       "    .dataframe thead th {\n",
       "        text-align: right;\n",
       "    }\n",
       "</style>\n",
       "<table border=\"1\" class=\"dataframe\">\n",
       "  <thead>\n",
       "    <tr style=\"text-align: right;\">\n",
       "      <th></th>\n",
       "      <th>FamilySize</th>\n",
       "      <th>Survived</th>\n",
       "    </tr>\n",
       "  </thead>\n",
       "  <tbody>\n",
       "    <tr>\n",
       "      <th>3</th>\n",
       "      <td>4</td>\n",
       "      <td>0.724138</td>\n",
       "    </tr>\n",
       "    <tr>\n",
       "      <th>2</th>\n",
       "      <td>3</td>\n",
       "      <td>0.578431</td>\n",
       "    </tr>\n",
       "    <tr>\n",
       "      <th>1</th>\n",
       "      <td>2</td>\n",
       "      <td>0.552795</td>\n",
       "    </tr>\n",
       "    <tr>\n",
       "      <th>6</th>\n",
       "      <td>7</td>\n",
       "      <td>0.333333</td>\n",
       "    </tr>\n",
       "    <tr>\n",
       "      <th>0</th>\n",
       "      <td>1</td>\n",
       "      <td>0.303538</td>\n",
       "    </tr>\n",
       "    <tr>\n",
       "      <th>4</th>\n",
       "      <td>5</td>\n",
       "      <td>0.200000</td>\n",
       "    </tr>\n",
       "    <tr>\n",
       "      <th>5</th>\n",
       "      <td>6</td>\n",
       "      <td>0.136364</td>\n",
       "    </tr>\n",
       "    <tr>\n",
       "      <th>7</th>\n",
       "      <td>8</td>\n",
       "      <td>0.000000</td>\n",
       "    </tr>\n",
       "    <tr>\n",
       "      <th>8</th>\n",
       "      <td>11</td>\n",
       "      <td>0.000000</td>\n",
       "    </tr>\n",
       "  </tbody>\n",
       "</table>\n",
       "</div>"
      ],
      "text/plain": [
       "   FamilySize  Survived\n",
       "3           4  0.724138\n",
       "2           3  0.578431\n",
       "1           2  0.552795\n",
       "6           7  0.333333\n",
       "0           1  0.303538\n",
       "4           5  0.200000\n",
       "5           6  0.136364\n",
       "7           8  0.000000\n",
       "8          11  0.000000"
      ]
     },
     "execution_count": 519,
     "metadata": {},
     "output_type": "execute_result"
    }
   ],
   "source": [
    "Data[0][['FamilySize', 'Survived']].groupby(['FamilySize'], as_index=False).mean().sort_values(by='Survived', ascending=False)"
   ]
  },
  {
   "cell_type": "markdown",
   "metadata": {},
   "source": [
    "La propuesta es ver si una persona que estuviera sola en el barco tenía más opción de salvarse que otra que tuviera algún tipo de lazo familiar , para esto se introduce una nueva variable que se llamará \"Alone\", y se indexarán las tres columnas *SibSp*, *Parch* y *FamilySize* en la nueva columna *Alone* "
   ]
  },
  {
   "cell_type": "code",
   "execution_count": 520,
   "metadata": {},
   "outputs": [
    {
     "data": {
      "text/html": [
       "<div>\n",
       "<style scoped>\n",
       "    .dataframe tbody tr th:only-of-type {\n",
       "        vertical-align: middle;\n",
       "    }\n",
       "\n",
       "    .dataframe tbody tr th {\n",
       "        vertical-align: top;\n",
       "    }\n",
       "\n",
       "    .dataframe thead th {\n",
       "        text-align: right;\n",
       "    }\n",
       "</style>\n",
       "<table border=\"1\" class=\"dataframe\">\n",
       "  <thead>\n",
       "    <tr style=\"text-align: right;\">\n",
       "      <th></th>\n",
       "      <th>Alone</th>\n",
       "      <th>Survived</th>\n",
       "    </tr>\n",
       "  </thead>\n",
       "  <tbody>\n",
       "    <tr>\n",
       "      <th>0</th>\n",
       "      <td>0</td>\n",
       "      <td>0.505650</td>\n",
       "    </tr>\n",
       "    <tr>\n",
       "      <th>1</th>\n",
       "      <td>1</td>\n",
       "      <td>0.303538</td>\n",
       "    </tr>\n",
       "  </tbody>\n",
       "</table>\n",
       "</div>"
      ],
      "text/plain": [
       "   Alone  Survived\n",
       "0      0  0.505650\n",
       "1      1  0.303538"
      ]
     },
     "execution_count": 520,
     "metadata": {},
     "output_type": "execute_result"
    }
   ],
   "source": [
    "for j in range(len(Data)):\n",
    "    Data[j][\"Alone\"] = 0\n",
    "    Data[j].loc[Data[j][\"FamilySize\"] == 1, \"Alone\"] = 1\n",
    "    Data_test[j][\"Alone\"] = 0\n",
    "    Data_test[j].loc[Data_test[j][\"FamilySize\"] == 1, \"Alone\"] = 1\n",
    "\n",
    "Data[0][['Alone', 'Survived']].groupby(['Alone'], as_index=False).mean()"
   ]
  },
  {
   "cell_type": "markdown",
   "metadata": {},
   "source": [
    "Borramos las variables que se utilizaron y no se quieren tener para el entrenamiento "
   ]
  },
  {
   "cell_type": "code",
   "execution_count": 521,
   "metadata": {},
   "outputs": [],
   "source": [
    "for i in range(len(Data)):\n",
    "    Data[i] = Data[i].drop([\"Parch\", \"SibSp\", \"FamilySize\"], axis =1)\n",
    "    Data_test[i] = Data_test[i].drop([\"Parch\", \"SibSp\", \"FamilySize\"], axis =1)\n"
   ]
  },
  {
   "cell_type": "code",
   "execution_count": 522,
   "metadata": {},
   "outputs": [
    {
     "name": "stdout",
     "output_type": "stream",
     "text": [
      "(891, 9)\n",
      "(418, 8)\n"
     ]
    }
   ],
   "source": [
    "print(np.shape(Data[0]))\n",
    "print(np.shape(Data_test[0]))"
   ]
  },
  {
   "cell_type": "markdown",
   "metadata": {},
   "source": [
    "Variables para el modelo"
   ]
  },
  {
   "cell_type": "code",
   "execution_count": 523,
   "metadata": {},
   "outputs": [],
   "source": [
    "X = []\n",
    "y =[]\n",
    "for dataset in Data:\n",
    "    x = dataset.drop([\"Survived\"], axis=1)\n",
    "    X.append(x)\n",
    "    y.append(dataset[\"Survived\"])"
   ]
  },
  {
   "cell_type": "code",
   "execution_count": 524,
   "metadata": {},
   "outputs": [
    {
     "name": "stdout",
     "output_type": "stream",
     "text": [
      "(891, 8)\n",
      "(418, 8)\n"
     ]
    }
   ],
   "source": [
    "print(np.shape(X[0]))\n",
    "print(np.shape(Data_test[0]))"
   ]
  },
  {
   "cell_type": "markdown",
   "metadata": {},
   "source": [
    "Existen en la base de datos variables categoricas que deben codificarse, para este caso se utiliza la codificación más simple, variables dummy. Se utiliza matrices de numpy para poder llamar la clase OneHotEncoder de scikit learn, que permite codificar las variables de la base de datos de entrenamiento"
   ]
  },
  {
   "cell_type": "code",
   "execution_count": 525,
   "metadata": {},
   "outputs": [],
   "source": [
    "enc = []\n",
    "for i in range(len(X)):\n",
    "    X[i] = X[i].to_numpy()\n",
    "    y[i] = y[i].to_numpy()\n",
    "    enc.append(OneHotEncoder(handle_unknown=\"ignore\"))\n",
    "    enc[i].fit(X[i])\n",
    "    X[i] = enc[i].transform(X[i]).toarray()"
   ]
  },
  {
   "cell_type": "markdown",
   "metadata": {},
   "source": [
    "separación de datos en conjuntos de validación y entrenamiento "
   ]
  },
  {
   "cell_type": "code",
   "execution_count": 526,
   "metadata": {},
   "outputs": [],
   "source": [
    "X_train = []\n",
    "X_test = []\n",
    "y_train = []\n",
    "y_test = []\n",
    "\n",
    "for i in range(len(X)):\n",
    "    aux = train_test_split(X[i], y[i], test_size=0.2, random_state=11)\n",
    "    X_train.append(aux[0])\n",
    "    X_test.append(aux[1])\n",
    "    y_train.append(aux[2])\n",
    "    y_test.append(aux[3])\n"
   ]
  },
  {
   "cell_type": "markdown",
   "metadata": {},
   "source": [
    "### Optimización de hiperparámetros de los modelos \n",
    "\n",
    "Para la optimización de parámetros se utiliza *GridSearchCV* un clase disponible en scikit-learn que permite evaluar y seleccionar de forma sistemática los parámetros de determinado modelo. La facilidad es que se puede manejar el rango de hiperparámetros que se quiere probar y asi evaluar los adecuados para obtener el mejor rendimiento mediante validación cruzada.  "
   ]
  },
  {
   "cell_type": "markdown",
   "metadata": {},
   "source": [
    "Para construir el metamodelo se deben elegir de la manera más óptima los hiperparámetros de cada sub modelo, esta propuesta se hace con la intención de tener el mayor rendimiento en las métricas que se usarán"
   ]
  },
  {
   "cell_type": "code",
   "execution_count": 527,
   "metadata": {},
   "outputs": [],
   "source": [
    "# variable de reproducibilidad\n",
    "seed = 11\n",
    "\n",
    "# Métricas a utilizar\n",
    "scoring = {\"Accuracy\": \"accuracy\",\n",
    "           \"f1_Score\": \"f1\",\n",
    "           \"Precision\": \"precision\",\n",
    "           \"Recall\": \"recall\"}"
   ]
  },
  {
   "cell_type": "markdown",
   "metadata": {},
   "source": [
    "#### Arbol de decisión (Hiperparámetros)"
   ]
  },
  {
   "cell_type": "code",
   "execution_count": 528,
   "metadata": {},
   "outputs": [
    {
     "name": "stdout",
     "output_type": "stream",
     "text": [
      "Nombre modelo:  GridSearchCV\n",
      "Mejores parametros: {'max_depth': 23}\n",
      "Mejor puntaje: 0.80\n",
      " \n",
      "Nombre modelo:  GridSearchCV\n",
      "Mejores parametros: {'max_depth': 14}\n",
      "Mejor puntaje: 0.80\n",
      " \n",
      "Nombre modelo:  GridSearchCV\n",
      "Mejores parametros: {'max_depth': 25}\n",
      "Mejor puntaje: 0.79\n",
      " \n",
      "Nombre modelo:  GridSearchCV\n",
      "Mejores parametros: {'max_depth': 21}\n",
      "Mejor puntaje: 0.80\n",
      " \n"
     ]
    }
   ],
   "source": [
    "parametros_decision_tree = {\"max_depth\": np.arange(1, 30)}\n",
    "model_desicion_tree = DecisionTreeClassifier(class_weight='balanced',\n",
    "                                             random_state=seed\n",
    "                                             )\n",
    "model_desicion_tree = GridSearchCV(model_desicion_tree,\n",
    "                                   parametros_decision_tree,\n",
    "                                   cv=5,\n",
    "                                   scoring=scoring,\n",
    "                                   refit=\"Accuracy\"\n",
    "                                   )\n",
    "max_depth_DT = []\n",
    "for i in range(len(X)):\n",
    "    model_desicion_tree.fit(X_train[i], y_train[i])\n",
    "    print(\"Nombre modelo: \", type(model_desicion_tree).__name__)\n",
    "    print(\"Mejores parametros: {}\".format(model_desicion_tree.best_params_))\n",
    "    print(\"Mejor puntaje: {:.2f}\".format(model_desicion_tree.best_score_))\n",
    "    print(\" \")\n",
    "\n",
    "    max_depth_DT.append(model_desicion_tree.best_params_[\"max_depth\"])"
   ]
  },
  {
   "cell_type": "markdown",
   "metadata": {},
   "source": [
    "#### Bosque Aleatorio (Hiperparámetros)"
   ]
  },
  {
   "cell_type": "code",
   "execution_count": 529,
   "metadata": {},
   "outputs": [
    {
     "name": "stdout",
     "output_type": "stream",
     "text": [
      "Nombre modelo:  GridSearchCV\n",
      "Mejores parametros: {'max_depth': 7, 'max_samples': 13, 'n_estimators': 14}\n",
      "Mejor puntaje: 0.76\n",
      " \n",
      "Nombre modelo:  GridSearchCV\n",
      "Mejores parametros: {'max_depth': 5, 'max_samples': 12, 'n_estimators': 13}\n",
      "Mejor puntaje: 0.74\n",
      " \n",
      "Nombre modelo:  GridSearchCV\n",
      "Mejores parametros: {'max_depth': 4, 'max_samples': 7, 'n_estimators': 10}\n",
      "Mejor puntaje: 0.72\n",
      " \n",
      "Nombre modelo:  GridSearchCV\n",
      "Mejores parametros: {'max_depth': 3, 'max_samples': 8, 'n_estimators': 5}\n",
      "Mejor puntaje: 0.71\n",
      " \n"
     ]
    }
   ],
   "source": [
    "parametros_Random_forest = {\"n_estimators\": np.arange(1, 15),\n",
    "                            \"max_depth\": np.arange(1, 15),\n",
    "                            \"max_samples\": np.arange(1, 15)}\n",
    "model_random_forest = RandomForestClassifier(bootstrap=True,\n",
    "                                             ccp_alpha=0.0,\n",
    "                                             criterion=\"entropy\",\n",
    "                                             random_state=seed\n",
    "                                             )\n",
    "model_random_forest = GridSearchCV(model_random_forest,\n",
    "                                   parametros_Random_forest,\n",
    "                                   cv=5,\n",
    "                                   scoring=scoring,\n",
    "                                   refit=\"Accuracy\")\n",
    "n_estimators_RF = []\n",
    "max_depth_RF = []\n",
    "max_samples_RF = []\n",
    "for i in range(len(X)):\n",
    "    model_random_forest.fit(X_train[i], y_train[i])\n",
    "    print(\"Nombre modelo: \", type(model_random_forest).__name__)\n",
    "    print(\"Mejores parametros: {}\".format(model_random_forest.best_params_))\n",
    "    print(\"Mejor puntaje: {:.2f}\".format(model_random_forest.best_score_))\n",
    "    print(\" \")\n",
    "\n",
    "    n_estimators_RF.append(model_random_forest.best_params_[\"n_estimators\"])\n",
    "    max_depth_RF.append(model_random_forest.best_params_[\"max_depth\"])\n",
    "    max_samples_RF.append(model_random_forest.best_params_[\"max_samples\"])"
   ]
  },
  {
   "cell_type": "markdown",
   "metadata": {},
   "source": [
    "#### Metamodelo"
   ]
  },
  {
   "cell_type": "code",
   "execution_count": 530,
   "metadata": {},
   "outputs": [
    {
     "name": "stdout",
     "output_type": "stream",
     "text": [
      "Arbitraria\n",
      "Name:  StackingClassifier\n",
      " \n",
      "test Accuracy: 0.89\n",
      " \n",
      "Recall test: 0.80\n",
      " \n",
      "F1-Score test: 0.83\n",
      " \n",
      "Precision test: 0.86\n",
      " \n",
      "Moda\n",
      "Name:  StackingClassifier\n",
      " \n",
      "test Accuracy: 0.90\n",
      " \n",
      "Recall test: 0.82\n",
      " \n",
      "F1-Score test: 0.85\n",
      " \n",
      "Precision test: 0.88\n",
      " \n",
      "KNN\n",
      "Name:  StackingClassifier\n",
      " \n",
      "test Accuracy: 0.89\n",
      " \n",
      "Recall test: 0.79\n",
      " \n",
      "F1-Score test: 0.83\n",
      " \n",
      "Precision test: 0.87\n",
      " \n",
      "Iterativa\n",
      "Name:  StackingClassifier\n",
      " \n",
      "test Accuracy: 0.91\n",
      " \n",
      "Recall test: 0.82\n",
      " \n",
      "F1-Score test: 0.86\n",
      " \n",
      "Precision test: 0.91\n",
      " \n"
     ]
    }
   ],
   "source": [
    "# Metamodelo para cada una de las imputaciones \n",
    "clfs = []\n",
    "\n",
    "for i in range(len(X)):\n",
    "    clfs.append([(\"Bernoulli\", BernoulliNB(alpha=0.8)),\n",
    "            (\"Arbol Decision\", DecisionTreeClassifier(max_depth=max_depth_DT[i],\n",
    "                                                      class_weight=\"balanced\",\n",
    "                                                      random_state=seed)),\n",
    "            (\"LR\", LogisticRegression(solver=\"liblinear\",\n",
    "                                      class_weight=\"balanced\",\n",
    "                                      random_state=seed)),\n",
    "            (\"Forest\", RandomForestClassifier(bootstrap=True,\n",
    "                                              criterion=\"entropy\",\n",
    "                                              max_depth=max_depth_RF[i],\n",
    "                                              n_estimators=n_estimators_RF[i],\n",
    "                                              max_samples=max_samples_RF[i],\n",
    "                                              random_state=seed))])\n",
    "clf = []\n",
    "pred_test = []\n",
    "imputacion = [\"Arbitraria\", \"Moda\", \"KNN\", \"Iterativa\"]\n",
    "for i in range(len(X)):\n",
    "    clf.append(StackingClassifier(estimators=clfs[i],\n",
    "                         final_estimator=LogisticRegression(),\n",
    "                         cv=10,\n",
    "                         stack_method=\"auto\",\n",
    "                         n_jobs=-1,\n",
    "                         passthrough=True))\n",
    "\n",
    "    clf[i].fit(X_train[i], y_train[i])\n",
    "    pred_test.append(clf[i].predict(X_test[i]))\n",
    "    print(imputacion[i])\n",
    "    print(\"Name: \", type(clf[i]).__name__)\n",
    "    print(\" \")\n",
    "    print(\"test Accuracy: {:.2f}\".format(accuracy_score(y_test[i], pred_test[i])))\n",
    "    print(\" \")\n",
    "    print('Recall test: {:.2f}'.format(recall_score(y_test[i], pred_test[i])))\n",
    "    print(\" \")\n",
    "    print('F1-Score test: {:.2f}'.format(f1_score(y_test[i], pred_test[i])))\n",
    "    print(\" \")\n",
    "    print('Precision test: {:.2f}'.format(precision_score(y_test[i], pred_test[i])))\n",
    "    print(\" \")\n"
   ]
  },
  {
   "cell_type": "markdown",
   "metadata": {},
   "source": [
    "##### Matriz de Confusion del modelo "
   ]
  },
  {
   "cell_type": "code",
   "execution_count": 531,
   "metadata": {},
   "outputs": [
    {
     "data": {
      "image/png": "[encoded data removed]",
      "text/plain": [
       "<Figure size 432x288 with 2 Axes>"
      ]
     },
     "metadata": {
      "needs_background": "light"
     },
     "output_type": "display_data"
    },
    {
     "data": {
      "image/png": "[encoded data removed]",
      "text/plain": [
       "<Figure size 432x288 with 2 Axes>"
      ]
     },
     "metadata": {
      "needs_background": "light"
     },
     "output_type": "display_data"
    },
    {
     "data": {
      "image/png": "[encoded data removed]",
      "text/plain": [
       "<Figure size 432x288 with 2 Axes>"
      ]
     },
     "metadata": {
      "needs_background": "light"
     },
     "output_type": "display_data"
    },
    {
     "data": {
      "image/png": "[encoded data removed]",
      "text/plain": [
       "<Figure size 432x288 with 2 Axes>"
      ]
     },
     "metadata": {
      "needs_background": "light"
     },
     "output_type": "display_data"
    }
   ],
   "source": [
    "for i in range(len(X)):\n",
    "    plot_confusion_matrix(clf[i], X_test[i],\n",
    "                          y_test[i], cmap=\"Blues\",\n",
    "                          display_labels=[1,0])\n",
    "    plt.savefig(\"Metamodelo_\"+imputacion[i])"
   ]
  },
  {
   "cell_type": "code",
   "execution_count": 532,
   "metadata": {},
   "outputs": [
    {
     "name": "stdout",
     "output_type": "stream",
     "text": [
      "Arbitraria\n",
      "              precision    recall  f1-score   support\n",
      "\n",
      "           0       0.90      0.93      0.92       118\n",
      "           1       0.86      0.80      0.83        61\n",
      "\n",
      "    accuracy                           0.89       179\n",
      "   macro avg       0.88      0.87      0.87       179\n",
      "weighted avg       0.89      0.89      0.89       179\n",
      "\n",
      "Moda\n",
      "              precision    recall  f1-score   support\n",
      "\n",
      "           0       0.91      0.94      0.93       118\n",
      "           1       0.88      0.82      0.85        61\n",
      "\n",
      "    accuracy                           0.90       179\n",
      "   macro avg       0.89      0.88      0.89       179\n",
      "weighted avg       0.90      0.90      0.90       179\n",
      "\n",
      "KNN\n",
      "              precision    recall  f1-score   support\n",
      "\n",
      "         0.0       0.90      0.94      0.92       118\n",
      "         1.0       0.87      0.79      0.83        61\n",
      "\n",
      "    accuracy                           0.89       179\n",
      "   macro avg       0.88      0.86      0.87       179\n",
      "weighted avg       0.89      0.89      0.89       179\n",
      "\n",
      "Iterativa\n",
      "              precision    recall  f1-score   support\n",
      "\n",
      "         0.0       0.91      0.96      0.93       118\n",
      "         1.0       0.91      0.82      0.86        61\n",
      "\n",
      "    accuracy                           0.91       179\n",
      "   macro avg       0.91      0.89      0.90       179\n",
      "weighted avg       0.91      0.91      0.91       179\n",
      "\n"
     ]
    }
   ],
   "source": [
    "for i in range(len(X)):\n",
    "    print(imputacion[i])\n",
    "    print(classification_report(y_test[i],pred_test[i]))"
   ]
  },
  {
   "cell_type": "markdown",
   "metadata": {},
   "source": [
    "Construcción resultado para someter al sistema Kaggle"
   ]
  },
  {
   "cell_type": "code",
   "execution_count": 535,
   "metadata": {},
   "outputs": [],
   "source": [
    "test_encode = enc[3].transform(Data_test[3]).toarray()\n",
    "output = pd.DataFrame({\"PassengerID\": pid,\n",
    "                       \"Survived\": clf[i].predict(test_encode)})\n",
    "output.to_csv(\"submission.csv\", index=False)"
   ]
  },
  {
   "cell_type": "markdown",
   "metadata": {},
   "source": [
    "# Modelo 2 :"
   ]
  },
  {
   "cell_type": "code",
   "execution_count": 46,
   "metadata": {},
   "outputs": [
    {
     "data": {
      "image/png": "[encoded data removed]",
      "text/plain": [
       "<Figure size 432x216 with 2 Axes>"
      ]
     },
     "metadata": {
      "needs_background": "light"
     },
     "output_type": "display_data"
    }
   ],
   "source": [
    "g = sns.FacetGrid(data_mode, col='Survived')\n",
    "g.map(plt.hist, 'Age', bins=20)\n",
    "\n",
    "data_mode[\"Age_group\"] = pd.cut(data_mode[\"Age\"],5)\n",
    "data_mode[[\"Age_group\", \"Survived\"]].groupby([\"Age_group\"], as_index=False).mean().sort_values(by=\"Age_group\", ascending=True)\n",
    "\n",
    "for dataset in [data_mode, test_mode]:\n",
    "    dataset.loc[dataset[\"Age\"] <= 16, \"Age\"] = 0\n",
    "    dataset.loc[(dataset[\"Age\"] > 16) & (dataset[\"Age\"] <= 32), \"Age\"] = 1\n",
    "    dataset.loc[(dataset[\"Age\"] > 32) & (dataset[\"Age\"] <= 48), \"Age\"] = 2\n",
    "    dataset.loc[(dataset[\"Age\"] > 48) & (dataset[\"Age\"] <= 64), \"Age\"] = 3\n",
    "\n",
    "# Se borra la columna auxiliar para la construcción de los grupos\n",
    "data_mode = data_mode.drop([\"Age_group\"], axis=1)\n",
    "data_mode.head(10)\n",
    "\n",
    "for dataset in [data_mode, test_mode]:\n",
    "    dataset[\"FamilySize\"] = dataset[\"SibSp\"] + dataset[\"Parch\"] + 1\n",
    "    \n",
    "\n",
    "data_mode[['FamilySize', 'Survived']].groupby(['FamilySize'], as_index=False).mean().sort_values(by='Survived', ascending=False)\n",
    "\n",
    "for dataset in [data_mode, test_mode]:\n",
    "    dataset[\"Alone\"] = 0\n",
    "    dataset.loc[dataset[\"FamilySize\"] == 1, \"Alone\"] = 1\n",
    "\n",
    "data_mode = data_mode.drop([\"Parch\", \"SibSp\", \"FamilySize\"], axis =1)\n",
    "test_mode = test_mode.drop([\"Parch\", \"SibSp\", \"FamilySize\"], axis =1)\n",
    "\n",
    "data_mode[['Alone', 'Survived']].groupby(['Alone'], as_index=False).mean()\n",
    "\n",
    "Survival = data_mode.columns[1]\n",
    "X = data_mode.drop([Survival], axis=1)\n",
    "y = data_mode[Survival]\n",
    "X.columns\n",
    "\n",
    "X = X.to_numpy()\n",
    "Y = y.to_numpy()\n",
    "enc = OneHotEncoder(handle_unknown='ignore')\n",
    "enc.fit(X)\n",
    "X = enc.transform(X).toarray()\n",
    "\n",
    "\n",
    "X_train, X_test, y_train, y_test = train_test_split(X,\n",
    "                                                    y,\n",
    "                                                    test_size=0.2,\n",
    "                                                    random_state=11)\n"
   ]
  },
  {
   "cell_type": "code",
   "execution_count": 47,
   "metadata": {},
   "outputs": [
    {
     "name": "stdout",
     "output_type": "stream",
     "text": [
      "Nombre modelo:  GridSearchCV\n",
      "Mejores parametros: {'max_depth': 23}\n",
      "Mejor puntaje: 0.80\n",
      " \n",
      "Nombre modelo:  GridSearchCV\n",
      "Mejores parametros: {'max_depth': 5, 'max_samples': 12, 'n_estimators': 13}\n",
      "Mejor puntaje: 0.74\n",
      " \n",
      "Name:  StackingClassifier\n",
      " \n",
      "test Accuracy: 0.90\n",
      " \n",
      "Recall test: 0.79\n",
      " \n",
      "F1-Score test: 0.84\n",
      " \n",
      "Precision test: 0.91\n",
      "              precision    recall  f1-score   support\n",
      "\n",
      "           0       0.90      0.96      0.93       118\n",
      "           1       0.91      0.79      0.84        61\n",
      "\n",
      "    accuracy                           0.90       179\n",
      "   macro avg       0.90      0.87      0.88       179\n",
      "weighted avg       0.90      0.90      0.90       179\n",
      "\n"
     ]
    },
    {
     "data": {
      "image/png": "[encoded data removed]",
      "text/plain": [
       "<Figure size 432x288 with 2 Axes>"
      ]
     },
     "metadata": {
      "needs_background": "light"
     },
     "output_type": "display_data"
    }
   ],
   "source": [
    "# variable de reproducibilidad\n",
    "seed = 11\n",
    "\n",
    "# Métricas a utilizar\n",
    "scoring = {\"Accuracy\": \"accuracy\",\n",
    "           \"f1_Score\": \"f1\",\n",
    "           \"Precision\": \"precision\",\n",
    "           \"Recall\": \"recall\"}\n",
    "\n",
    "parametros_decision_tree = {\"max_depth\": np.arange(1, 30)}\n",
    "model_desicion_tree = DecisionTreeClassifier(class_weight='balanced',\n",
    "                                             random_state=seed\n",
    "                                             )\n",
    "model_desicion_tree = GridSearchCV(model_desicion_tree,\n",
    "                                   parametros_decision_tree,\n",
    "                                   cv=5,\n",
    "                                   scoring=scoring,\n",
    "                                   refit=\"Accuracy\"\n",
    "                                   )\n",
    "model_desicion_tree.fit(X_train, y_train)\n",
    "print(\"Nombre modelo: \", type(model_desicion_tree).__name__)\n",
    "print(\"Mejores parametros: {}\".format(model_desicion_tree.best_params_))\n",
    "print(\"Mejor puntaje: {:.2f}\".format(model_desicion_tree.best_score_))\n",
    "print(\" \")\n",
    "\n",
    "max_depth_DT = model_desicion_tree.best_params_[\"max_depth\"]\n",
    "\n",
    "\n",
    "parametros_Random_forest = {\"n_estimators\": np.arange(1, 15),\n",
    "                            \"max_depth\": np.arange(1, 15),\n",
    "                            \"max_samples\": np.arange(1, 15)}\n",
    "model_random_forest = RandomForestClassifier(bootstrap=True,\n",
    "                                             ccp_alpha=0.0,\n",
    "                                             criterion=\"entropy\",\n",
    "                                             random_state=seed\n",
    "                                             )\n",
    "model_random_forest = GridSearchCV(model_random_forest,\n",
    "                                   parametros_Random_forest,\n",
    "                                   cv=5,\n",
    "                                   scoring=scoring,\n",
    "                                   refit=\"Accuracy\")\n",
    "model_random_forest.fit(X_train, y_train)\n",
    "print(\"Nombre modelo: \", type(model_random_forest).__name__)\n",
    "print(\"Mejores parametros: {}\".format(model_random_forest.best_params_))\n",
    "print(\"Mejor puntaje: {:.2f}\".format(model_random_forest.best_score_))\n",
    "print(\" \")\n",
    "\n",
    "n_estimators_RF = model_random_forest.best_params_[\"n_estimators\"]\n",
    "max_depth_RF = model_random_forest.best_params_[\"max_depth\"]\n",
    "max_samples_RF = model_random_forest.best_params_[\"max_samples\"]\n",
    "\n",
    "clfs = [(\"Bernoulli\", BernoulliNB(alpha=0.8)),\n",
    "        (\"Arbol Decision\", DecisionTreeClassifier(max_depth=max_depth_DT,\n",
    "                                                  class_weight=\"balanced\",\n",
    "                                                  random_state=seed)),\n",
    "        (\"LR\", LogisticRegression(solver=\"liblinear\",\n",
    "                                  class_weight=\"balanced\",\n",
    "                                  random_state=seed)),\n",
    "        (\"Forest\", RandomForestClassifier(bootstrap=True,\n",
    "                                          criterion=\"entropy\",\n",
    "                                          max_depth=max_depth_RF,\n",
    "                                          n_estimators=n_estimators_RF,\n",
    "                                          max_samples=max_samples_RF,\n",
    "                                          random_state=seed))]\n",
    "\n",
    "clf = StackingClassifier(estimators=clfs,\n",
    "                         final_estimator=LogisticRegression(),\n",
    "                         cv=10,\n",
    "                         stack_method=\"auto\",\n",
    "                         n_jobs=-1,\n",
    "                         passthrough=True)\n",
    "\n",
    "\n",
    "clf.fit(X_train, y_train)\n",
    "pred_test = clf.predict(X_test)\n",
    "print(\"Name: \", type(clf).__name__)\n",
    "print(\" \")\n",
    "print(\"test Accuracy: {:.2f}\".format(accuracy_score(y_test, pred_test)))\n",
    "print(\" \")\n",
    "print('Recall test: {:.2f}'.format(recall_score(y_test, pred_test)))\n",
    "print(\" \")\n",
    "print('F1-Score test: {:.2f}'.format(f1_score(y_test, pred_test)))\n",
    "print(\" \")\n",
    "print('Precision test: {:.2f}'.format(precision_score(y_test, pred_test)))\n",
    "\n",
    "plot_confusion_matrix(clf, X_test,\n",
    "                      y_test, cmap=\"Blues\",\n",
    "                      display_labels=[1,0])\n",
    "plt.savefig(\"Metamodelo\")\n",
    "\n",
    "print(classification_report(y_test,pred_test))"
   ]
  },
  {
   "cell_type": "code",
   "execution_count": null,
   "metadata": {},
   "outputs": [],
   "source": [
    "# Modelo 3: "
   ]
  },
  {
   "cell_type": "code",
   "execution_count": 48,
   "metadata": {},
   "outputs": [
    {
     "data": {
      "image/png": "[encoded data removed]",
      "text/plain": [
       "<Figure size 432x216 with 2 Axes>"
      ]
     },
     "metadata": {
      "needs_background": "light"
     },
     "output_type": "display_data"
    }
   ],
   "source": [
    "g = sns.FacetGrid(data_knn_imputed, col='Survived')\n",
    "g.map(plt.hist, 'Age', bins=20)\n",
    "\n",
    "data_knn_imputed[\"Age_group\"] = pd.cut(data_knn_imputed[\"Age\"],5)\n",
    "data_knn_imputed[[\"Age_group\", \"Survived\"]].groupby([\"Age_group\"], as_index=False).mean().sort_values(by=\"Age_group\", ascending=True)\n",
    "\n",
    "for dataset in [data_knn_imputed, test_knn_imputed]:\n",
    "    dataset.loc[dataset[\"Age\"] <= 16, \"Age\"] = 0\n",
    "    dataset.loc[(dataset[\"Age\"] > 16) & (dataset[\"Age\"] <= 32), \"Age\"] = 1\n",
    "    dataset.loc[(dataset[\"Age\"] > 32) & (dataset[\"Age\"] <= 48), \"Age\"] = 2\n",
    "    dataset.loc[(dataset[\"Age\"] > 48) & (dataset[\"Age\"] <= 64), \"Age\"] = 3\n",
    "\n",
    "# Se borra la columna auxiliar para la construcción de los grupos\n",
    "data_knn_imputed = data_knn_imputed.drop([\"Age_group\"], axis=1)\n",
    "data_knn_imputed.head(10)\n",
    "\n",
    "for dataset in [data_knn_imputed, test_knn_imputed]:\n",
    "    dataset[\"FamilySize\"] = dataset[\"SibSp\"] + dataset[\"Parch\"] + 1\n",
    "    \n",
    "\n",
    "data_knn_imputed[['FamilySize', 'Survived']].groupby(['FamilySize'], as_index=False).mean().sort_values(by='Survived', ascending=False)\n",
    "\n",
    "for dataset in [data_knn_imputed, test_knn_imputed]:\n",
    "    dataset[\"Alone\"] = 0\n",
    "    dataset.loc[dataset[\"FamilySize\"] == 1, \"Alone\"] = 1\n",
    "\n",
    "data_knn_imputed = data_knn_imputed.drop([\"Parch\", \"SibSp\", \"FamilySize\"], axis =1)\n",
    "test_knn_imputed = test_knn_imputed.drop([\"Parch\", \"SibSp\", \"FamilySize\"], axis =1)\n",
    "\n",
    "data_knn_imputed[['Alone', 'Survived']].groupby(['Alone'], as_index=False).mean()\n",
    "\n",
    "Survival = data_knn_imputed.columns[1]\n",
    "X = data_knn_imputed.drop([Survival], axis=1)\n",
    "y = data_knn_imputed[Survival]\n",
    "X.columns\n",
    "\n",
    "X = X.to_numpy()\n",
    "Y = y.to_numpy()\n",
    "enc = OneHotEncoder(handle_unknown='ignore')\n",
    "enc.fit(X)\n",
    "X = enc.transform(X).toarray()\n",
    "\n",
    "\n",
    "X_train, X_test, y_train, y_test = train_test_split(X,\n",
    "                                                    y,\n",
    "                                                    test_size=0.2,\n",
    "                                                    random_state=11)\n",
    "\n",
    "\n"
   ]
  },
  {
   "cell_type": "code",
   "execution_count": 49,
   "metadata": {},
   "outputs": [
    {
     "name": "stdout",
     "output_type": "stream",
     "text": [
      "Nombre modelo:  GridSearchCV\n",
      "Mejores parametros: {'max_depth': 22}\n",
      "Mejor puntaje: 0.79\n",
      " \n",
      "Nombre modelo:  GridSearchCV\n",
      "Mejores parametros: {'max_depth': 4, 'max_samples': 7, 'n_estimators': 10}\n",
      "Mejor puntaje: 0.72\n",
      " \n",
      "Name:  StackingClassifier\n",
      " \n",
      "test Accuracy: 0.89\n",
      " \n",
      "Recall test: 0.79\n",
      " \n",
      "F1-Score test: 0.83\n",
      " \n",
      "Precision test: 0.87\n",
      "              precision    recall  f1-score   support\n",
      "\n",
      "         0.0       0.90      0.94      0.92       118\n",
      "         1.0       0.87      0.79      0.83        61\n",
      "\n",
      "    accuracy                           0.89       179\n",
      "   macro avg       0.88      0.86      0.87       179\n",
      "weighted avg       0.89      0.89      0.89       179\n",
      "\n"
     ]
    },
    {
     "data": {
      "image/png": "[encoded data removed]",
      "text/plain": [
       "<Figure size 432x288 with 2 Axes>"
      ]
     },
     "metadata": {
      "needs_background": "light"
     },
     "output_type": "display_data"
    }
   ],
   "source": [
    "# variable de reproducibilidad\n",
    "seed = 11\n",
    "\n",
    "# Métricas a utilizar\n",
    "scoring = {\"Accuracy\": \"accuracy\",\n",
    "           \"f1_Score\": \"f1\",\n",
    "           \"Precision\": \"precision\",\n",
    "           \"Recall\": \"recall\"}\n",
    "\n",
    "parametros_decision_tree = {\"max_depth\": np.arange(1, 30)}\n",
    "model_desicion_tree = DecisionTreeClassifier(class_weight='balanced',\n",
    "                                             random_state=seed\n",
    "                                             )\n",
    "model_desicion_tree = GridSearchCV(model_desicion_tree,\n",
    "                                   parametros_decision_tree,\n",
    "                                   cv=5,\n",
    "                                   scoring=scoring,\n",
    "                                   refit=\"Accuracy\"\n",
    "                                   )\n",
    "model_desicion_tree.fit(X_train, y_train)\n",
    "print(\"Nombre modelo: \", type(model_desicion_tree).__name__)\n",
    "print(\"Mejores parametros: {}\".format(model_desicion_tree.best_params_))\n",
    "print(\"Mejor puntaje: {:.2f}\".format(model_desicion_tree.best_score_))\n",
    "print(\" \")\n",
    "\n",
    "max_depth_DT = model_desicion_tree.best_params_[\"max_depth\"]\n",
    "\n",
    "\n",
    "parametros_Random_forest = {\"n_estimators\": np.arange(1, 15),\n",
    "                            \"max_depth\": np.arange(1, 15),\n",
    "                            \"max_samples\": np.arange(1, 15)}\n",
    "model_random_forest = RandomForestClassifier(bootstrap=True,\n",
    "                                             ccp_alpha=0.0,\n",
    "                                             criterion=\"entropy\",\n",
    "                                             random_state=seed\n",
    "                                             )\n",
    "model_random_forest = GridSearchCV(model_random_forest,\n",
    "                                   parametros_Random_forest,\n",
    "                                   cv=5,\n",
    "                                   scoring=scoring,\n",
    "                                   refit=\"Accuracy\")\n",
    "model_random_forest.fit(X_train, y_train)\n",
    "print(\"Nombre modelo: \", type(model_random_forest).__name__)\n",
    "print(\"Mejores parametros: {}\".format(model_random_forest.best_params_))\n",
    "print(\"Mejor puntaje: {:.2f}\".format(model_random_forest.best_score_))\n",
    "print(\" \")\n",
    "\n",
    "n_estimators_RF = model_random_forest.best_params_[\"n_estimators\"]\n",
    "max_depth_RF = model_random_forest.best_params_[\"max_depth\"]\n",
    "max_samples_RF = model_random_forest.best_params_[\"max_samples\"]\n",
    "\n",
    "clfs = [(\"Bernoulli\", BernoulliNB(alpha=0.8)),\n",
    "        (\"Arbol Decision\", DecisionTreeClassifier(max_depth=max_depth_DT,\n",
    "                                                  class_weight=\"balanced\",\n",
    "                                                  random_state=seed)),\n",
    "        (\"LR\", LogisticRegression(solver=\"liblinear\",\n",
    "                                  class_weight=\"balanced\",\n",
    "                                  random_state=seed)),\n",
    "        (\"Forest\", RandomForestClassifier(bootstrap=True,\n",
    "                                          criterion=\"entropy\",\n",
    "                                          max_depth=max_depth_RF,\n",
    "                                          n_estimators=n_estimators_RF,\n",
    "                                          max_samples=max_samples_RF,\n",
    "                                          random_state=seed))]\n",
    "\n",
    "clf = StackingClassifier(estimators=clfs,\n",
    "                         final_estimator=LogisticRegression(),\n",
    "                         cv=10,\n",
    "                         stack_method=\"auto\",\n",
    "                         n_jobs=-1,\n",
    "                         passthrough=True)\n",
    "\n",
    "\n",
    "clf.fit(X_train, y_train)\n",
    "pred_test = clf.predict(X_test)\n",
    "print(\"Name: \", type(clf).__name__)\n",
    "print(\" \")\n",
    "print(\"test Accuracy: {:.2f}\".format(accuracy_score(y_test, pred_test)))\n",
    "print(\" \")\n",
    "print('Recall test: {:.2f}'.format(recall_score(y_test, pred_test)))\n",
    "print(\" \")\n",
    "print('F1-Score test: {:.2f}'.format(f1_score(y_test, pred_test)))\n",
    "print(\" \")\n",
    "print('Precision test: {:.2f}'.format(precision_score(y_test, pred_test)))\n",
    "\n",
    "plot_confusion_matrix(clf, X_test,\n",
    "                      y_test, cmap=\"Blues\",\n",
    "                      display_labels=[1,0])\n",
    "plt.savefig(\"Metamodelo\")\n",
    "\n",
    "print(classification_report(y_test,pred_test))"
   ]
  },
  {
   "cell_type": "code",
   "execution_count": null,
   "metadata": {},
   "outputs": [],
   "source": [
    "# Modelo 4: "
   ]
  },
  {
   "cell_type": "code",
   "execution_count": 70,
   "metadata": {},
   "outputs": [
    {
     "data": {
      "image/png": "[encoded data removed]",
      "text/plain": [
       "<Figure size 432x216 with 2 Axes>"
      ]
     },
     "metadata": {
      "needs_background": "light"
     },
     "output_type": "display_data"
    }
   ],
   "source": [
    "g = sns.FacetGrid(data_mice_imputed, col='Survived')\n",
    "g.map(plt.hist, 'Age', bins=20)\n",
    "\n",
    "data_mice_imputed[\"Age_group\"] = pd.cut(data_mice_imputed[\"Age\"],5)\n",
    "data_mice_imputed[[\"Age_group\", \"Survived\"]].groupby([\"Age_group\"], as_index=False).mean().sort_values(by=\"Age_group\", ascending=True)\n",
    "\n",
    "for dataset in [data_mice_imputed, test_mice_imputed]:\n",
    "    dataset.loc[dataset[\"Age\"] <= 16, \"Age\"] = 0\n",
    "    dataset.loc[(dataset[\"Age\"] > 16) & (dataset[\"Age\"] <= 32), \"Age\"] = 1\n",
    "    dataset.loc[(dataset[\"Age\"] > 32) & (dataset[\"Age\"] <= 48), \"Age\"] = 2\n",
    "    dataset.loc[(dataset[\"Age\"] > 48) & (dataset[\"Age\"] <= 64), \"Age\"] = 3\n",
    "\n",
    "# Se borra la columna auxiliar para la construcción de los grupos\n",
    "data_mice_imputed = data_mice_imputed.drop([\"Age_group\"], axis=1)\n",
    "data_mice_imputed.head(10)\n",
    "\n",
    "for dataset in [data_mice_imputed, test_mice_imputed]:\n",
    "    dataset[\"FamilySize\"] = dataset[\"SibSp\"] + dataset[\"Parch\"] + 1\n",
    "    \n",
    "\n",
    "data_mice_imputed[['FamilySize', 'Survived']].groupby(['FamilySize'], as_index=False).mean().sort_values(by='Survived', ascending=False)\n",
    "\n",
    "for dataset in [data_mice_imputed, test_mice_imputed]:\n",
    "    dataset[\"Alone\"] = 0\n",
    "    dataset.loc[dataset[\"FamilySize\"] == 1, \"Alone\"] = 1\n",
    "\n",
    "data_mice_imputed = data_mice_imputed.drop([\"Parch\", \"SibSp\", \"FamilySize\"], axis =1)\n",
    "test_mice_imputed = test_mice_imputed.drop([\"Parch\", \"SibSp\", \"FamilySize\"], axis =1)\n",
    "\n",
    "data_mice_imputed[['Alone', 'Survived']].groupby(['Alone'], as_index=False).mean()\n",
    "\n",
    "Survival = data_mice_imputed.columns[1]\n",
    "X = data_mice_imputed.drop([Survival], axis=1)\n",
    "y = data_mice_imputed[Survival]\n",
    "X.columns\n",
    "\n",
    "X = X.to_numpy()\n",
    "Y = y.to_numpy()\n",
    "enc = OneHotEncoder(handle_unknown='ignore')\n",
    "enc.fit(X)\n",
    "X = enc.transform(X).toarray()\n",
    "\n",
    "\n",
    "X_train, X_test, y_train, y_test = train_test_split(X,\n",
    "                                                    y,\n",
    "                                                    test_size=0.2,\n",
    "                                                    random_state=11)\n",
    "\n"
   ]
  },
  {
   "cell_type": "code",
   "execution_count": 71,
   "metadata": {},
   "outputs": [
    {
     "name": "stdout",
     "output_type": "stream",
     "text": [
      "Nombre modelo:  GridSearchCV\n",
      "Mejores parametros: {'max_depth': 25}\n",
      "Mejor puntaje: 0.80\n",
      " \n",
      "Nombre modelo:  GridSearchCV\n",
      "Mejores parametros: {'max_depth': 3, 'max_samples': 8, 'n_estimators': 5}\n",
      "Mejor puntaje: 0.71\n",
      " \n",
      "Name:  StackingClassifier\n",
      " \n",
      "test Accuracy: 0.90\n",
      " \n",
      "Recall test: 0.79\n",
      " \n",
      "F1-Score test: 0.84\n",
      " \n",
      "Precision test: 0.91\n",
      "              precision    recall  f1-score   support\n",
      "\n",
      "         0.0       0.90      0.96      0.93       118\n",
      "         1.0       0.91      0.79      0.84        61\n",
      "\n",
      "    accuracy                           0.90       179\n",
      "   macro avg       0.90      0.87      0.88       179\n",
      "weighted avg       0.90      0.90      0.90       179\n",
      "\n"
     ]
    },
    {
     "data": {
      "image/png": "[encoded data removed]",
      "text/plain": [
       "<Figure size 432x288 with 2 Axes>"
      ]
     },
     "metadata": {
      "needs_background": "light"
     },
     "output_type": "display_data"
    }
   ],
   "source": [
    "# variable de reproducibilidad\n",
    "seed = 11\n",
    "\n",
    "# Métricas a utilizar\n",
    "scoring = {\"Accuracy\": \"accuracy\",\n",
    "           \"f1_Score\": \"f1\",\n",
    "           \"Precision\": \"precision\",\n",
    "           \"Recall\": \"recall\"}\n",
    "\n",
    "parametros_decision_tree = {\"max_depth\": np.arange(1, 30)}\n",
    "model_desicion_tree = DecisionTreeClassifier(class_weight='balanced',\n",
    "                                             random_state=seed\n",
    "                                             )\n",
    "model_desicion_tree = GridSearchCV(model_desicion_tree,\n",
    "                                   parametros_decision_tree,\n",
    "                                   cv=5,\n",
    "                                   scoring=scoring,\n",
    "                                   refit=\"Accuracy\"\n",
    "                                   )\n",
    "model_desicion_tree.fit(X_train, y_train)\n",
    "print(\"Nombre modelo: \", type(model_desicion_tree).__name__)\n",
    "print(\"Mejores parametros: {}\".format(model_desicion_tree.best_params_))\n",
    "print(\"Mejor puntaje: {:.2f}\".format(model_desicion_tree.best_score_))\n",
    "print(\" \")\n",
    "\n",
    "max_depth_DT = model_desicion_tree.best_params_[\"max_depth\"]\n",
    "\n",
    "\n",
    "parametros_Random_forest = {\"n_estimators\": np.arange(1, 15),\n",
    "                            \"max_depth\": np.arange(1, 15),\n",
    "                            \"max_samples\": np.arange(1, 15)}\n",
    "model_random_forest = RandomForestClassifier(bootstrap=True,\n",
    "                                             ccp_alpha=0.0,\n",
    "                                             criterion=\"entropy\",\n",
    "                                             random_state=seed\n",
    "                                             )\n",
    "model_random_forest = GridSearchCV(model_random_forest,\n",
    "                                   parametros_Random_forest,\n",
    "                                   cv=5,\n",
    "                                   scoring=scoring,\n",
    "                                   refit=\"Accuracy\")\n",
    "model_random_forest.fit(X_train, y_train)\n",
    "print(\"Nombre modelo: \", type(model_random_forest).__name__)\n",
    "print(\"Mejores parametros: {}\".format(model_random_forest.best_params_))\n",
    "print(\"Mejor puntaje: {:.2f}\".format(model_random_forest.best_score_))\n",
    "print(\" \")\n",
    "\n",
    "n_estimators_RF = model_random_forest.best_params_[\"n_estimators\"]\n",
    "max_depth_RF = model_random_forest.best_params_[\"max_depth\"]\n",
    "max_samples_RF = model_random_forest.best_params_[\"max_samples\"]\n",
    "\n",
    "clfs = [(\"Bernoulli\", BernoulliNB(alpha=0.8)),\n",
    "        (\"Arbol Decision\", DecisionTreeClassifier(max_depth=max_depth_DT,\n",
    "                                                  class_weight=\"balanced\",\n",
    "                                                  random_state=seed)),\n",
    "        (\"LR\", LogisticRegression(solver=\"liblinear\",\n",
    "                                  class_weight=\"balanced\",\n",
    "                                  random_state=seed)),\n",
    "        (\"Forest\", RandomForestClassifier(bootstrap=True,\n",
    "                                          criterion=\"entropy\",\n",
    "                                          max_depth=max_depth_RF,\n",
    "                                          n_estimators=n_estimators_RF,\n",
    "                                          max_samples=max_samples_RF,\n",
    "                                          random_state=seed))]\n",
    "\n",
    "clf = StackingClassifier(estimators=clfs,\n",
    "                         final_estimator=LogisticRegression(),\n",
    "                         cv=10,\n",
    "                         stack_method=\"auto\",\n",
    "                         n_jobs=-1,\n",
    "                         passthrough=True)\n",
    "\n",
    "\n",
    "clf.fit(X_train, y_train)\n",
    "pred_test = clf.predict(X_test)\n",
    "print(\"Name: \", type(clf).__name__)\n",
    "print(\" \")\n",
    "print(\"test Accuracy: {:.2f}\".format(accuracy_score(y_test, pred_test)))\n",
    "print(\" \")\n",
    "print('Recall test: {:.2f}'.format(recall_score(y_test, pred_test)))\n",
    "print(\" \")\n",
    "print('F1-Score test: {:.2f}'.format(f1_score(y_test, pred_test)))\n",
    "print(\" \")\n",
    "print('Precision test: {:.2f}'.format(precision_score(y_test, pred_test)))\n",
    "\n",
    "plot_confusion_matrix(clf, X_test,\n",
    "                      y_test, cmap=\"Blues\",\n",
    "                      display_labels=[1,0])\n",
    "plt.savefig(\"Metamodelo\")\n",
    "\n",
    "print(classification_report(y_test,pred_test))"
   ]
  },
  {
   "cell_type": "code",
   "execution_count": null,
   "metadata": {},
   "outputs": [],
   "source": []
  }
 ],
 "metadata": {
  "kernelspec": {
   "display_name": "Python 3",
   "language": "python",
   "name": "python3"
  },
  "language_info": {
   "codemirror_mode": {
    "name": "ipython",
    "version": 3
   },
   "file_extension": ".py",
   "mimetype": "text/x-python",
   "name": "python",
   "nbconvert_exporter": "python",
   "pygments_lexer": "ipython3",
   "version": "3.8.3"
  }
 },
 "nbformat": 4,
 "nbformat_minor": 4
}
