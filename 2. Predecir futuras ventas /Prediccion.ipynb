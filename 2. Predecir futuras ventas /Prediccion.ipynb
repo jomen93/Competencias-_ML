{
 "cells": [
  {
   "cell_type": "markdown",
   "metadata": {},
   "source": [
    "## Librerias necesarias"
   ]
  },
  {
   "cell_type": "code",
   "execution_count": 64,
   "metadata": {},
   "outputs": [],
   "source": [
    "import numpy as np \n",
    "import pandas as pd\n",
    "import matplotlib.pyplot as plt\n",
    "import seaborn as sns\n",
    "\n",
    "# sklearn utilities\n",
    "from sklearn.preprocessing import MinMaxScaler\n",
    "from sklearn.model_selection import train_test_split\n",
    "\n",
    "# Deep Learning\n",
    "from keras.models import Sequential\n",
    "from keras.layers import (LSTM,\n",
    "                          Dense,\n",
    "                          Activation,\n",
    "                          Dropout)\n",
    "from keras.optimizers import Adam, SGD, RMSprop\n",
    "from keras import backend as K\n",
    "from keras.callbacks import EarlyStopping\n"
   ]
  },
  {
   "cell_type": "markdown",
   "metadata": {},
   "source": [
    "## Descripción de los datos"
   ]
  },
  {
   "cell_type": "markdown",
   "metadata": {},
   "source": [
    "Datos históricos de ventas diarias. La idea principal es pronosticar la cantidad total de productos vendidos en cada tienda para el conjunto de prueba.\n",
    "___\n",
    "#### Descripción de los archivos \n",
    "\n",
    "+ **Sales_train.csv:** Datos históricos desde Enero de 2013 hasta Octubre de 2015\n",
    "+ **test.csv:** Conjunto de testeo. Con este archivo se debe pronosticar las ventas de estas tiendas y productos para Noviembre de 2015\n",
    "+ **sample_submission.csv:** Un archivo de muestra para evidenciar el formato correcto de sometimiento de los resultados \n",
    "+ **items.csv:** Información complementaria sobre los productos\n",
    "+ **item_categories.csv:** Información complementario sobre las categorías de los items\n",
    "+ **shops.csv:** Información complementaria sobre las tiendas\n",
    "\n",
    "#### Campos de los datos \n",
    "\n",
    "+ **ID:** Identificador que representa una tupla determinada por (tienda, atículo) dentro del conjunto de prueba\n",
    "+ **shop_id:** Identificador único de tienda\n",
    "+ **item_id:** Identificador único de producto\n",
    "+ **item_categoty_id:** Identificador único de la categoría del artículo\n",
    "+ **item_cnt_day:** número de productos vendidos. \n",
    "+ **item_price:** precio actual de un artículo \n",
    "+ **date:** fecha en formato dd/mm/yyyy\n",
    "+ **date_block_num:** un número de mes consecutivo, utilizado por conveniencia. Enero de 2013 es 0, febrero de 2013 es 1, ..., octubre de 2015 es 33\n",
    "+ **item_name:** Nombre del artículo\n",
    "+ **shop_name:** Nombre de la tienda\n",
    "+ **item_category_name:** nombre de la categoría del artículo"
   ]
  },
  {
   "cell_type": "markdown",
   "metadata": {},
   "source": [
    "## Carga de datos"
   ]
  },
  {
   "cell_type": "code",
   "execution_count": 38,
   "metadata": {},
   "outputs": [],
   "source": [
    "train = pd.read_csv(\"DATA/sales_train.csv\", \n",
    "                    parse_dates=[\"date\"],\n",
    "                    infer_datetime_format=True,\n",
    "                    dayfirst=True)\n",
    "items = pd.read_csv(\"DATA/items.csv\")\n",
    "shops = pd.read_csv(\"DATA/shops.csv\")\n",
    "categories = pd.read_csv(\"DATA/item_categories.csv\")\n",
    "test = pd.read_csv(\"DATA/test.csv\")\n",
    "sample = pd.read_csv(\"DATA/sample_submission.csv\")\n"
   ]
  },
  {
   "cell_type": "markdown",
   "metadata": {},
   "source": [
    "## Limpieza de datos\n",
    "\n",
    "Se remueven los datos atípicos de la base de datos "
   ]
  },
  {
   "cell_type": "code",
   "execution_count": 4,
   "metadata": {},
   "outputs": [
    {
     "data": {
      "text/plain": [
       "Text(0.5, 1.0, 'Número de productos vendidos')"
      ]
     },
     "execution_count": 4,
     "metadata": {},
     "output_type": "execute_result"
    },
    {
     "data": {
      "image/png": "[encoded data removed]",
      "text/plain": [
       "<Figure size 432x288 with 1 Axes>"
      ]
     },
     "metadata": {
      "needs_background": "light"
     },
     "output_type": "display_data"
    }
   ],
   "source": [
    "plt.figure()\n",
    "flp = dict(marker=\"o\",\n",
    "           markerfacecolor=\"red\",\n",
    "           markersize=5,\n",
    "           linestyle=\"--\",\n",
    "           markeredgecolor=\"black\")\n",
    "sns.boxplot(x=train.item_cnt_day,\n",
    "            flierprops=flp,)\n",
    "plt.grid(True)\n",
    "plt.xlim(train.item_cnt_day.min(),\n",
    "         train.item_cnt_day.max()*1.1)\n",
    "plt.title(\"Número de productos vendidos\")"
   ]
  },
  {
   "cell_type": "markdown",
   "metadata": {},
   "source": [
    "Se remueven los artículos que estén arriba de un flujo de venta de 1000"
   ]
  },
  {
   "cell_type": "code",
   "execution_count": 39,
   "metadata": {},
   "outputs": [],
   "source": [
    "train = train[train.item_cnt_day < 1000]"
   ]
  },
  {
   "cell_type": "code",
   "execution_count": 6,
   "metadata": {},
   "outputs": [
    {
     "data": {
      "text/plain": [
       "Text(0.5, 1.0, 'Precio actual del artículo')"
      ]
     },
     "execution_count": 6,
     "metadata": {},
     "output_type": "execute_result"
    },
    {
     "data": {
      "image/png": "[encoded data removed]",
      "text/plain": [
       "<Figure size 432x288 with 1 Axes>"
      ]
     },
     "metadata": {
      "needs_background": "light"
     },
     "output_type": "display_data"
    }
   ],
   "source": [
    "plt.figure()\n",
    "flp = dict(marker=\"o\",\n",
    "           markerfacecolor=\"red\",\n",
    "           markersize=5,\n",
    "           linestyle=\"--\",\n",
    "           markeredgecolor=\"black\")\n",
    "sns.boxplot(x=train.item_price,\n",
    "            flierprops=flp,)\n",
    "plt.grid(True)\n",
    "plt.xlim(train.item_price.min(),\n",
    "         train.item_price.max()*1.1)\n",
    "plt.title(\"Precio actual del artículo\")"
   ]
  },
  {
   "cell_type": "markdown",
   "metadata": {},
   "source": [
    "Se encuentra un valor atípico arriba del precio de 300.000, tomamos como referencia el valor de 100.000 para despreciar los valores que no son comunes en la base de datos "
   ]
  },
  {
   "cell_type": "code",
   "execution_count": 40,
   "metadata": {},
   "outputs": [],
   "source": [
    "train = train[train.item_price < 100000]"
   ]
  },
  {
   "cell_type": "markdown",
   "metadata": {},
   "source": [
    "Se quitan las filas en el conjunto de datos de entrenamiento en donde la cantidad de artículos vendidos  es negativa, esto no tiene sentido alguno para el propósito del análisis y se cambia por cero "
   ]
  },
  {
   "cell_type": "code",
   "execution_count": 41,
   "metadata": {},
   "outputs": [],
   "source": [
    "train.loc[train.item_cnt_day < 1, \"item_cnt_day\"] = 0"
   ]
  },
  {
   "cell_type": "code",
   "execution_count": null,
   "metadata": {},
   "outputs": [],
   "source": []
  },
  {
   "cell_type": "code",
   "execution_count": null,
   "metadata": {},
   "outputs": [],
   "source": []
  },
  {
   "cell_type": "code",
   "execution_count": null,
   "metadata": {},
   "outputs": [],
   "source": []
  },
  {
   "cell_type": "markdown",
   "metadata": {},
   "source": [
    "## Exploración de datos "
   ]
  },
  {
   "cell_type": "markdown",
   "metadata": {},
   "source": [
    "Revisión de la estadística descriptiva de los datos "
   ]
  },
  {
   "cell_type": "code",
   "execution_count": 9,
   "metadata": {},
   "outputs": [
    {
     "data": {
      "text/html": [
       "<div>\n",
       "<style scoped>\n",
       "    .dataframe tbody tr th:only-of-type {\n",
       "        vertical-align: middle;\n",
       "    }\n",
       "\n",
       "    .dataframe tbody tr th {\n",
       "        vertical-align: top;\n",
       "    }\n",
       "\n",
       "    .dataframe thead th {\n",
       "        text-align: right;\n",
       "    }\n",
       "</style>\n",
       "<table border=\"1\" class=\"dataframe\">\n",
       "  <thead>\n",
       "    <tr style=\"text-align: right;\">\n",
       "      <th></th>\n",
       "      <th>date_block_num</th>\n",
       "      <th>shop_id</th>\n",
       "      <th>item_id</th>\n",
       "      <th>item_price</th>\n",
       "      <th>item_cnt_day</th>\n",
       "    </tr>\n",
       "  </thead>\n",
       "  <tbody>\n",
       "    <tr>\n",
       "      <th>count</th>\n",
       "      <td>2.935846e+06</td>\n",
       "      <td>2.935846e+06</td>\n",
       "      <td>2.935846e+06</td>\n",
       "      <td>2.935846e+06</td>\n",
       "      <td>2.935846e+06</td>\n",
       "    </tr>\n",
       "    <tr>\n",
       "      <th>mean</th>\n",
       "      <td>1.456990e+01</td>\n",
       "      <td>3.300175e+01</td>\n",
       "      <td>1.019722e+04</td>\n",
       "      <td>8.907492e+02</td>\n",
       "      <td>1.244131e+00</td>\n",
       "    </tr>\n",
       "    <tr>\n",
       "      <th>std</th>\n",
       "      <td>9.422985e+00</td>\n",
       "      <td>1.622697e+01</td>\n",
       "      <td>6.324297e+03</td>\n",
       "      <td>1.720491e+03</td>\n",
       "      <td>2.215525e+00</td>\n",
       "    </tr>\n",
       "    <tr>\n",
       "      <th>min</th>\n",
       "      <td>0.000000e+00</td>\n",
       "      <td>0.000000e+00</td>\n",
       "      <td>0.000000e+00</td>\n",
       "      <td>-1.000000e+00</td>\n",
       "      <td>0.000000e+00</td>\n",
       "    </tr>\n",
       "    <tr>\n",
       "      <th>25%</th>\n",
       "      <td>7.000000e+00</td>\n",
       "      <td>2.200000e+01</td>\n",
       "      <td>4.476000e+03</td>\n",
       "      <td>2.490000e+02</td>\n",
       "      <td>1.000000e+00</td>\n",
       "    </tr>\n",
       "    <tr>\n",
       "      <th>50%</th>\n",
       "      <td>1.400000e+01</td>\n",
       "      <td>3.100000e+01</td>\n",
       "      <td>9.343000e+03</td>\n",
       "      <td>3.990000e+02</td>\n",
       "      <td>1.000000e+00</td>\n",
       "    </tr>\n",
       "    <tr>\n",
       "      <th>75%</th>\n",
       "      <td>2.300000e+01</td>\n",
       "      <td>4.700000e+01</td>\n",
       "      <td>1.568400e+04</td>\n",
       "      <td>9.990000e+02</td>\n",
       "      <td>1.000000e+00</td>\n",
       "    </tr>\n",
       "    <tr>\n",
       "      <th>max</th>\n",
       "      <td>3.300000e+01</td>\n",
       "      <td>5.900000e+01</td>\n",
       "      <td>2.216900e+04</td>\n",
       "      <td>5.920000e+04</td>\n",
       "      <td>6.690000e+02</td>\n",
       "    </tr>\n",
       "  </tbody>\n",
       "</table>\n",
       "</div>"
      ],
      "text/plain": [
       "       date_block_num       shop_id       item_id    item_price  item_cnt_day\n",
       "count    2.935846e+06  2.935846e+06  2.935846e+06  2.935846e+06  2.935846e+06\n",
       "mean     1.456990e+01  3.300175e+01  1.019722e+04  8.907492e+02  1.244131e+00\n",
       "std      9.422985e+00  1.622697e+01  6.324297e+03  1.720491e+03  2.215525e+00\n",
       "min      0.000000e+00  0.000000e+00  0.000000e+00 -1.000000e+00  0.000000e+00\n",
       "25%      7.000000e+00  2.200000e+01  4.476000e+03  2.490000e+02  1.000000e+00\n",
       "50%      1.400000e+01  3.100000e+01  9.343000e+03  3.990000e+02  1.000000e+00\n",
       "75%      2.300000e+01  4.700000e+01  1.568400e+04  9.990000e+02  1.000000e+00\n",
       "max      3.300000e+01  5.900000e+01  2.216900e+04  5.920000e+04  6.690000e+02"
      ]
     },
     "execution_count": 9,
     "metadata": {},
     "output_type": "execute_result"
    }
   ],
   "source": [
    "train.describe()"
   ]
  },
  {
   "cell_type": "markdown",
   "metadata": {},
   "source": [
    "Recuento de los diferentes valores que toma cada variable"
   ]
  },
  {
   "cell_type": "code",
   "execution_count": 10,
   "metadata": {},
   "outputs": [
    {
     "data": {
      "text/plain": [
       "date               1034\n",
       "date_block_num       34\n",
       "shop_id              60\n",
       "item_id           21806\n",
       "item_price        19991\n",
       "item_cnt_day        188\n",
       "dtype: int64"
      ]
     },
     "execution_count": 10,
     "metadata": {},
     "output_type": "execute_result"
    }
   ],
   "source": [
    "train.nunique()"
   ]
  },
  {
   "cell_type": "markdown",
   "metadata": {},
   "source": [
    "¿cómo son las ventas a traves del tiempo?, compactamos los datos respecto de la variable \"date_block_num\", que es un identificador de los meses, sumando todas las ventas por cada valor único de esta variable"
   ]
  },
  {
   "cell_type": "code",
   "execution_count": 11,
   "metadata": {},
   "outputs": [
    {
     "data": {
      "text/plain": [
       "Text(0, 0.5, 'Número de artículos vendidos')"
      ]
     },
     "execution_count": 11,
     "metadata": {},
     "output_type": "execute_result"
    },
    {
     "data": {
      "image/png": "[encoded data removed]",
      "text/plain": [
       "<Figure size 432x288 with 1 Axes>"
      ]
     },
     "metadata": {
      "needs_background": "light"
     },
     "output_type": "display_data"
    }
   ],
   "source": [
    "x_v = train.groupby(\"date_block_num\").agg({\"item_cnt_day\": \"sum\"})\n",
    "plt.title(\"Ventas totales por mes\")\n",
    "plt.plot(x_v.index, x_v[\"item_cnt_day\"],\n",
    "         \"b-\")\n",
    "plt.plot(x_v.index, x_v[\"item_cnt_day\"],\n",
    "         \"b.\")\n",
    "\n",
    "plt.grid(color='k',\n",
    "         alpha=0.5,\n",
    "         linestyle='dashed',\n",
    "         linewidth=0.9)\n",
    "\n",
    "plt.xlabel(\"Identificador de mes\")\n",
    "plt.ylabel(\"Número de artículos vendidos\")"
   ]
  },
  {
   "cell_type": "markdown",
   "metadata": {},
   "source": [
    "Sin embargo se puede hacer un análisis mas específico de cada año y ver un comparativo entre años"
   ]
  },
  {
   "cell_type": "code",
   "execution_count": 12,
   "metadata": {},
   "outputs": [],
   "source": [
    "x_1_ano = x_v[x_v.index < 12]\n",
    "\n",
    "x_2_ano = x_v[x_v.index >= 12]\n",
    "x_2_ano = x_2_ano[x_2_ano.index < 24]\n",
    "\n",
    "x_3_ano = x_v[x_v.index >= 24]\n",
    "\n",
    "t = np.arange(1,13)"
   ]
  },
  {
   "cell_type": "code",
   "execution_count": 13,
   "metadata": {},
   "outputs": [
    {
     "data": {
      "text/plain": [
       "Text(0.5, 0, 'Mes del año')"
      ]
     },
     "execution_count": 13,
     "metadata": {},
     "output_type": "execute_result"
    },
    {
     "data": {
      "image/png": "[encoded data removed]",
      "text/plain": [
       "<Figure size 432x288 with 1 Axes>"
      ]
     },
     "metadata": {
      "needs_background": "light"
     },
     "output_type": "display_data"
    }
   ],
   "source": [
    "plt.plot(t, x_1_ano[\"item_cnt_day\"],\n",
    "         \"b-\",\n",
    "         label = \"2013\")\n",
    "plt.plot(t, x_1_ano[\"item_cnt_day\"],\n",
    "         \"b.\")\n",
    "\n",
    "plt.plot(t, x_2_ano[\"item_cnt_day\"],\n",
    "         \"g-\",\n",
    "         label = \"2014\")\n",
    "plt.plot(t, x_2_ano[\"item_cnt_day\"],\n",
    "         \"g.\")\n",
    "\n",
    "plt.plot(t[:-2], x_3_ano[\"item_cnt_day\"],\n",
    "         \"r-\",\n",
    "         label = \"2015\")\n",
    "plt.plot(t[:-2], x_3_ano[\"item_cnt_day\"],\n",
    "         \"r.\",)\n",
    "\n",
    "plt.grid(color='k',\n",
    "         alpha=0.5,\n",
    "         linestyle='dashed',\n",
    "         linewidth=0.9)\n",
    "\n",
    "plt.legend()\n",
    "plt.title(\"Ventas totales por Mes\")\n",
    "plt.ylabel(\"Numero de artículos vendidos\")\n",
    "plt.xlabel(\"Mes del año\")"
   ]
  },
  {
   "cell_type": "markdown",
   "metadata": {},
   "source": [
    "Veamos ahora un diagrama de Paretto para ver la relación entre la cantidad de unidades vendidas y precio"
   ]
  },
  {
   "cell_type": "code",
   "execution_count": 14,
   "metadata": {},
   "outputs": [
    {
     "data": {
      "text/plain": [
       "Text(0, 0.5, 'Número de artículos vendidos')"
      ]
     },
     "execution_count": 14,
     "metadata": {},
     "output_type": "execute_result"
    },
    {
     "data": {
      "image/png": "[encoded data removed]",
      "text/plain": [
       "<Figure size 432x288 with 1 Axes>"
      ]
     },
     "metadata": {
      "needs_background": "light"
     },
     "output_type": "display_data"
    }
   ],
   "source": [
    "x_p = train.groupby(\"item_price\").agg({\"item_cnt_day\": \"sum\"})\n",
    "plt.scatter(x_p.index, x_p[\"item_cnt_day\"],\n",
    "            s=10,\n",
    "            c=\"blue\",\n",
    "            marker=\"o\",\n",
    "            alpha=0.5,\n",
    "            edgecolors=\"face\")\n",
    "\n",
    "plt.grid(color='k',\n",
    "         alpha=0.5,\n",
    "         linestyle='dashed',\n",
    "         linewidth=0.9)\n",
    "\n",
    "plt.title(\"Items vendidos, por precio\")\n",
    "plt.xlabel(\"Precio\")\n",
    "plt.ylabel(\"Número de artículos vendidos\")"
   ]
  },
  {
   "cell_type": "code",
   "execution_count": null,
   "metadata": {},
   "outputs": [],
   "source": []
  },
  {
   "cell_type": "code",
   "execution_count": null,
   "metadata": {},
   "outputs": [],
   "source": []
  },
  {
   "cell_type": "code",
   "execution_count": null,
   "metadata": {},
   "outputs": [],
   "source": []
  },
  {
   "cell_type": "markdown",
   "metadata": {},
   "source": [
    "Se reorganizan lo datos para que se puedan ver como ventas mensuales por items, además se reorganiza la base de datos para tener solamente cuatro variables"
   ]
  },
  {
   "cell_type": "code",
   "execution_count": 42,
   "metadata": {},
   "outputs": [],
   "source": [
    "df = train.groupby([train.date.apply(lambda x: x.strftime('%Y-%m')),'item_id','shop_id']).sum().reset_index()\n",
    "df = df[['date','item_id','shop_id','item_cnt_day']]"
   ]
  },
  {
   "cell_type": "markdown",
   "metadata": {},
   "source": [
    "Ahora se cercan los datos en la variable número de artículos de ventas por días. Poniendo de límite el conjunto [0,20], los valores más altos que veinte se reemplazarán por veinte y los menores de cero, se pondrán como cero"
   ]
  },
  {
   "cell_type": "code",
   "execution_count": 43,
   "metadata": {},
   "outputs": [],
   "source": [
    "df[\"item_cnt_day\"].clip(0.,20.,inplace=True)"
   ]
  },
  {
   "cell_type": "markdown",
   "metadata": {},
   "source": [
    "Ahora lo que se quiere hacer es agrupar los datos, teniendo como referencia las columnas de identificador de itmes(**item_id**) y identificador de tienda (**shop_id**). para poder tener explicitamente el numero de artículos vendidos a traves del tiempo de cada item en cada tienda"
   ]
  },
  {
   "cell_type": "code",
   "execution_count": 44,
   "metadata": {},
   "outputs": [],
   "source": [
    "df = df.pivot_table(index=['item_id','shop_id'], columns='date',values='item_cnt_day',fill_value=0).reset_index()"
   ]
  },
  {
   "cell_type": "markdown",
   "metadata": {},
   "source": [
    "Inicialemnte se considera el modelo más simple, para esto se eliminan los datos categóricos, solamentes se quiere tener series de tiempo sin nungún tipo de procesamiento"
   ]
  },
  {
   "cell_type": "code",
   "execution_count": 45,
   "metadata": {},
   "outputs": [],
   "source": [
    "df = df.drop(labels=[\"item_id\",\"shop_id\"],axis=1)"
   ]
  },
  {
   "cell_type": "markdown",
   "metadata": {},
   "source": [
    "Se recalculan los campos de precio para tener el promedio de precio mensual por atículo, por tienda. Es un propuesta para reducir la complejidad del modelo"
   ]
  },
  {
   "cell_type": "code",
   "execution_count": 52,
   "metadata": {},
   "outputs": [],
   "source": [
    "scaler = MinMaxScaler(feature_range=(0,1))\n",
    "train[\"item_price\"] = scaler.fit_transform(train[\"item_price\"].values.reshape(-1,1))\n",
    "df2 = train.groupby([train.date.apply(lambda x: x.strftime('%Y-%m')),'item_id','shop_id']).mean().reset_index()\n",
    "df2 = df2[['date',\n",
    "             'item_id',\n",
    "             'shop_id',\n",
    "             'item_price']].pivot_table(index=['item_id','shop_id'],\n",
    "                                        columns='date',\n",
    "                                        values='item_price',\n",
    "                                        fill_value=0).reset_index()\n",
    "df2 = df2.drop(labels=[\"item_id\",\"shop_id\"], axis =1)"
   ]
  },
  {
   "cell_type": "markdown",
   "metadata": {},
   "source": [
    "Se designan los conjuntos de entrenamiento y validación"
   ]
  },
  {
   "cell_type": "code",
   "execution_count": 80,
   "metadata": {},
   "outputs": [],
   "source": [
    "y_train = df[\"2015-10\"]\n",
    "x_sales = df.drop(labels=[\"2015-10\"], axis=1)\n",
    "x_prices = df2.drop(labels=[\"2015-10\"], axis=1)"
   ]
  },
  {
   "cell_type": "markdown",
   "metadata": {},
   "source": [
    "Se redimenzionaliza para poder pasarla al modelo de la red neuronal \n",
    "\n"
   ]
  },
  {
   "cell_type": "code",
   "execution_count": 81,
   "metadata": {},
   "outputs": [],
   "source": [
    "x_sales = x_sales.values.reshape((x_sales.shape[0], x_sales.shape[1], 1))\n",
    "x_prices= x_prices.values.reshape((x_prices.shape[0], x_prices.shape[1], 1))"
   ]
  },
  {
   "cell_type": "markdown",
   "metadata": {},
   "source": [
    "por ultimo se compactifica en una matriz multidimensional las series temporales, de esta manera se tiene el conjunto de entrenamiento "
   ]
  },
  {
   "cell_type": "code",
   "execution_count": 82,
   "metadata": {},
   "outputs": [
    {
     "name": "stdout",
     "output_type": "stream",
     "text": [
      "Tamaño datos entrenamiento:  (424123, 33, 2)\n",
      "Tamaño datos objetivo:  (424123,)\n"
     ]
    }
   ],
   "source": [
    "X = np.append(x_sales, x_prices, axis=2)\n",
    "y = y_train\n",
    "print(\"Tamaño datos entrenamiento: \",X.shape)\n",
    "print(\"Tamaño datos objetivo: \",y.shape)"
   ]
  },
  {
   "cell_type": "code",
   "execution_count": 85,
   "metadata": {},
   "outputs": [
    {
     "name": "stdout",
     "output_type": "stream",
     "text": [
      "Tamaño de entrenamiento:  (339298, 33, 2)\n",
      "Tamaño de validacion:  (84825, 33, 2)\n",
      "Tamaño objetivo entrenamiento:  (339298,)\n",
      "Tamaño objetivo validación:  (84825,)\n"
     ]
    }
   ],
   "source": [
    "X_train, X_val, y_train, y_val = train_test_split(X,\n",
    "                                                  y,\n",
    "                                                  test_size=0.2,\n",
    "                                                  random_state=11,\n",
    "                                                  shuffle=False) \n",
    "\n",
    "print(\"Tamaño de entrenamiento: \",np.shape(X_train))\n",
    "print(\"Tamaño de validacion: \",X_val.shape)\n",
    "print(\"Tamaño objetivo entrenamiento: \",y_train.shape)\n",
    "print(\"Tamaño objetivo validación: \",y_val.shape)\n",
    "    "
   ]
  },
  {
   "cell_type": "markdown",
   "metadata": {},
   "source": [
    "### Construcción de la Red Neuronal\n",
    "\n"
   ]
  },
  {
   "cell_type": "code",
   "execution_count": 103,
   "metadata": {},
   "outputs": [
    {
     "name": "stdout",
     "output_type": "stream",
     "text": [
      "Model: \"sequential_3\"\n",
      "_________________________________________________________________\n",
      "Layer (type)                 Output Shape              Param #   \n",
      "=================================================================\n",
      "lstm_6 (LSTM)                (None, 33, 16)            1216      \n",
      "_________________________________________________________________\n",
      "dropout_6 (Dropout)          (None, 33, 16)            0         \n",
      "_________________________________________________________________\n",
      "lstm_7 (LSTM)                (None, 32)                6272      \n",
      "_________________________________________________________________\n",
      "dropout_7 (Dropout)          (None, 32)                0         \n",
      "_________________________________________________________________\n",
      "dense_12 (Dense)             (None, 32)                1056      \n",
      "_________________________________________________________________\n",
      "dense_13 (Dense)             (None, 16)                528       \n",
      "_________________________________________________________________\n",
      "dense_14 (Dense)             (None, 8)                 136       \n",
      "_________________________________________________________________\n",
      "dense_15 (Dense)             (None, 4)                 36        \n",
      "_________________________________________________________________\n",
      "dense_16 (Dense)             (None, 1)                 5         \n",
      "=================================================================\n",
      "Total params: 9,249\n",
      "Trainable params: 9,249\n",
      "Non-trainable params: 0\n",
      "_________________________________________________________________\n",
      "None\n"
     ]
    }
   ],
   "source": [
    "modelo = Sequential()\n",
    "modelo.add(LSTM(16, \n",
    "                input_shape=(X.shape[1], X.shape[2]), \n",
    "                return_sequences=True))\n",
    "modelo.add(Dropout(0.2))\n",
    "modelo.add(LSTM(32))\n",
    "modelo.add(Dropout(0.2))\n",
    "modelo.add(Dense(32))\n",
    "modelo.add(Dense(16))\n",
    "modelo.add(Dense(8))\n",
    "modelo.add(Dense(4))\n",
    "modelo.add(Dense(1))\n",
    "\n",
    "modelo.compile(optimizer=\"adam\", \n",
    "               loss=\"mse\",\n",
    "               metrics=[\"mse\"])\n",
    "\n",
    "print(modelo.summary())\n",
    "\n",
    "\n"
   ]
  },
  {
   "cell_type": "markdown",
   "metadata": {},
   "source": [
    "Definición de los parámetros de la red"
   ]
  },
  {
   "cell_type": "code",
   "execution_count": 104,
   "metadata": {},
   "outputs": [],
   "source": [
    "LSTM_PARAM = {\"batch_size\": 128,\n",
    "              \"verbose\": 1,\n",
    "              \"epochs\": 10}"
   ]
  },
  {
   "cell_type": "markdown",
   "metadata": {},
   "source": [
    "Definición de parada temprana para evitar sobrecostos computacionales"
   ]
  },
  {
   "cell_type": "code",
   "execution_count": 105,
   "metadata": {},
   "outputs": [],
   "source": [
    "callback = [EarlyStopping(monitor=\"val_loss\",\n",
    "                          min_delta=0.01,\n",
    "                          patience=3,\n",
    "                          mode=\"auto\")]"
   ]
  },
  {
   "cell_type": "markdown",
   "metadata": {},
   "source": [
    "Entrenamiento de la red"
   ]
  },
  {
   "cell_type": "code",
   "execution_count": 106,
   "metadata": {},
   "outputs": [
    {
     "name": "stdout",
     "output_type": "stream",
     "text": [
      "Epoch 1/10\n",
      "2651/2651 [==============================] - 241s 91ms/step - loss: 0.6022 - mse: 0.6022 - val_loss: 0.3620 - val_mse: 0.3620\n",
      "Epoch 2/10\n",
      "2651/2651 [==============================] - 267s 101ms/step - loss: 0.5186 - mse: 0.5186 - val_loss: 0.3358 - val_mse: 0.3358\n",
      "Epoch 3/10\n",
      "2651/2651 [==============================] - 269s 102ms/step - loss: 0.4998 - mse: 0.4998 - val_loss: 0.3123 - val_mse: 0.3123\n",
      "Epoch 4/10\n",
      "2651/2651 [==============================] - 270s 102ms/step - loss: 0.4926 - mse: 0.4926 - val_loss: 0.3267 - val_mse: 0.3267\n",
      "Epoch 5/10\n",
      "2651/2651 [==============================] - 265s 100ms/step - loss: 0.4904 - mse: 0.4904 - val_loss: 0.3088 - val_mse: 0.3088\n",
      "Epoch 6/10\n",
      "2651/2651 [==============================] - 249s 94ms/step - loss: 0.4890 - mse: 0.4890 - val_loss: 0.3229 - val_mse: 0.3229\n"
     ]
    }
   ],
   "source": [
    "hist = modelo.fit(X_train,\n",
    "                  y_train,\n",
    "                  validation_data=(X_val,y_val),\n",
    "                  callbacks=callback,\n",
    "                  **LSTM_PARAM)\n"
   ]
  },
  {
   "cell_type": "code",
   "execution_count": 107,
   "metadata": {},
   "outputs": [],
   "source": [
    "pred = modelo.predict(X_val)"
   ]
  },
  {
   "cell_type": "code",
   "execution_count": 108,
   "metadata": {},
   "outputs": [
    {
     "name": "stdout",
     "output_type": "stream",
     "text": [
      "Mejor época: {} 4\n",
      "Puntaje entrenamiento: 0.4904417395591736, Puntaje Validación: 0.3088111877441406\n"
     ]
    }
   ],
   "source": [
    "best = np.argmin(hist.history[\"val_loss\"])\n",
    "print(\"Mejor época: {}\",best)\n",
    "print(\"Puntaje entrenamiento: {}, Puntaje Validación: {}\".format(hist.history[\"loss\"][best],hist.history[\"val_loss\"][best]))"
   ]
  },
  {
   "cell_type": "code",
   "execution_count": 109,
   "metadata": {},
   "outputs": [
    {
     "name": "stdout",
     "output_type": "stream",
     "text": [
      "Salida para la competencia\n"
     ]
    }
   ],
   "source": [
    "print(\"Salida para la competencia\")\n",
    "submission = pd.DataFrame(pred,columns=['item_cnt_month'])\n",
    "submission.to_csv('submission.csv',index_label='ID')"
   ]
  },
  {
   "cell_type": "code",
   "execution_count": 111,
   "metadata": {},
   "outputs": [
    {
     "data": {
      "text/plain": [
       "<matplotlib.legend.Legend at 0x14c3a3fa0>"
      ]
     },
     "execution_count": 111,
     "metadata": {},
     "output_type": "execute_result"
    },
    {
     "data": {
      "image/png": "[encoded data removed]",
      "text/plain": [
       "<Figure size 432x288 with 1 Axes>"
      ]
     },
     "metadata": {
      "needs_background": "light"
     },
     "output_type": "display_data"
    }
   ],
   "source": [
    "plt.plot(hist.history['loss'], \"r-\", label='train')\n",
    "plt.plot(hist.history['val_loss'], \"b-\", label='validacion')\n",
    "plt.xlabel(\"épocas\")\n",
    "plt.ylabel(\"Error cuadrático promedio\")\n",
    "plt.grid(color='k',\n",
    "         alpha=0.5,\n",
    "         linestyle='dashed',\n",
    "         linewidth=0.9)\n",
    "plt.legend()\n"
   ]
  },
  {
   "cell_type": "code",
   "execution_count": 112,
   "metadata": {},
   "outputs": [
    {
     "data": {
      "text/html": [
       "<div>\n",
       "<style scoped>\n",
       "    .dataframe tbody tr th:only-of-type {\n",
       "        vertical-align: middle;\n",
       "    }\n",
       "\n",
       "    .dataframe tbody tr th {\n",
       "        vertical-align: top;\n",
       "    }\n",
       "\n",
       "    .dataframe thead th {\n",
       "        text-align: right;\n",
       "    }\n",
       "</style>\n",
       "<table border=\"1\" class=\"dataframe\">\n",
       "  <thead>\n",
       "    <tr style=\"text-align: right;\">\n",
       "      <th></th>\n",
       "      <th>item_cnt_month</th>\n",
       "    </tr>\n",
       "  </thead>\n",
       "  <tbody>\n",
       "    <tr>\n",
       "      <th>0</th>\n",
       "      <td>0.135890</td>\n",
       "    </tr>\n",
       "    <tr>\n",
       "      <th>1</th>\n",
       "      <td>-0.018584</td>\n",
       "    </tr>\n",
       "    <tr>\n",
       "      <th>2</th>\n",
       "      <td>0.086179</td>\n",
       "    </tr>\n",
       "    <tr>\n",
       "      <th>3</th>\n",
       "      <td>-0.027838</td>\n",
       "    </tr>\n",
       "    <tr>\n",
       "      <th>4</th>\n",
       "      <td>-0.027997</td>\n",
       "    </tr>\n",
       "    <tr>\n",
       "      <th>...</th>\n",
       "      <td>...</td>\n",
       "    </tr>\n",
       "    <tr>\n",
       "      <th>84820</th>\n",
       "      <td>-0.027123</td>\n",
       "    </tr>\n",
       "    <tr>\n",
       "      <th>84821</th>\n",
       "      <td>-0.028074</td>\n",
       "    </tr>\n",
       "    <tr>\n",
       "      <th>84822</th>\n",
       "      <td>-0.028074</td>\n",
       "    </tr>\n",
       "    <tr>\n",
       "      <th>84823</th>\n",
       "      <td>-0.028051</td>\n",
       "    </tr>\n",
       "    <tr>\n",
       "      <th>84824</th>\n",
       "      <td>-0.025809</td>\n",
       "    </tr>\n",
       "  </tbody>\n",
       "</table>\n",
       "<p>84825 rows × 1 columns</p>\n",
       "</div>"
      ],
      "text/plain": [
       "       item_cnt_month\n",
       "0            0.135890\n",
       "1           -0.018584\n",
       "2            0.086179\n",
       "3           -0.027838\n",
       "4           -0.027997\n",
       "...               ...\n",
       "84820       -0.027123\n",
       "84821       -0.028074\n",
       "84822       -0.028074\n",
       "84823       -0.028051\n",
       "84824       -0.025809\n",
       "\n",
       "[84825 rows x 1 columns]"
      ]
     },
     "execution_count": 112,
     "metadata": {},
     "output_type": "execute_result"
    }
   ],
   "source": [
    "submission"
   ]
  },
  {
   "cell_type": "code",
   "execution_count": null,
   "metadata": {},
   "outputs": [],
   "source": []
  }
 ],
 "metadata": {
  "kernelspec": {
   "display_name": "Python 3",
   "language": "python",
   "name": "python3"
  },
  "language_info": {
   "codemirror_mode": {
    "name": "ipython",
    "version": 3
   },
   "file_extension": ".py",
   "mimetype": "text/x-python",
   "name": "python",
   "nbconvert_exporter": "python",
   "pygments_lexer": "ipython3",
   "version": "3.8.3"
  }
 },
 "nbformat": 4,
 "nbformat_minor": 4
}
