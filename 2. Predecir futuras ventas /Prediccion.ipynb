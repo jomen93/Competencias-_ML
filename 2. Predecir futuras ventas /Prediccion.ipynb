{
 "cells": [
  {
   "cell_type": "markdown",
   "metadata": {},
   "source": [
    "## Librerias necesarias"
   ]
  },
  {
   "cell_type": "code",
   "execution_count": 119,
   "metadata": {},
   "outputs": [],
   "source": [
    "import numpy as np \n",
    "import pandas as pd\n",
    "import matplotlib.pyplot as plt\n",
    "import seaborn as sns\n",
    "\n",
    "# sklearn utilities\n",
    "from sklearn.preprocessing import MinMaxScaler\n",
    "from sklearn.model_selection import train_test_split\n",
    "\n",
    "# Deep Learning\n",
    "from keras.models import Sequential\n",
    "from keras.layers import (LSTM,\n",
    "                          Dense,\n",
    "                          Activation,\n",
    "                          Dropout,\n",
    "                          Conv1D)\n",
    "from keras.optimizers import Adam, SGD, RMSprop\n",
    "from keras import backend as K\n",
    "from keras.callbacks import EarlyStopping\n",
    "from keras.utils.vis_utils import plot_model\n",
    "\n"
   ]
  },
  {
   "cell_type": "markdown",
   "metadata": {},
   "source": [
    "### Funciones útiles para describir las bases de datos"
   ]
  },
  {
   "cell_type": "code",
   "execution_count": 120,
   "metadata": {},
   "outputs": [],
   "source": [
    "def data_info(df, name):\n",
    "    print(\"------------ Tamaño de \"+name+\"--------------\")\n",
    "    print(df.shape)\n",
    "    print(\"------------ Valores perdidos ---------------\")\n",
    "    print(df.isnull().sum())\n",
    "    print(\"------------ Valores nulos ------------------\")\n",
    "    print(df.isna().sum())\n",
    "    print(\"------------ Tipo de datos ------------------\")\n",
    "    print(df.dtypes)\n",
    "    print(\"------------ Uso de memoria -----------------\")\n",
    "    print(np.round(df.memory_usage(deep = True).sum() / 1024**2, 2),\"MB\")        "
   ]
  },
  {
   "cell_type": "markdown",
   "metadata": {},
   "source": [
    "## Descripción de los datos"
   ]
  },
  {
   "cell_type": "markdown",
   "metadata": {},
   "source": [
    "Datos históricos de ventas diarias. La idea principal es pronosticar la cantidad total de productos vendidos en cada tienda para el conjunto de prueba.\n",
    "___\n",
    "#### Descripción de los archivos \n",
    "\n",
    "+ **Sales_train.csv:** Datos históricos desde Enero de 2013 hasta Octubre de 2015\n",
    "+ **test.csv:** Conjunto de testeo. Con este archivo se debe pronosticar las ventas de estas tiendas y productos para Noviembre de 2015\n",
    "+ **sample_submission.csv:** Un archivo de muestra para evidenciar el formato correcto de sometimiento de los resultados \n",
    "+ **items.csv:** Información complementaria sobre los productos\n",
    "+ **item_categories.csv:** Información complementario sobre las categorías de los items\n",
    "+ **shops.csv:** Información complementaria sobre las tiendas\n",
    "\n",
    "#### Campos de los datos \n",
    "\n",
    "+ **ID:** Identificador que representa una tupla determinada por (tienda, atículo) dentro del conjunto de prueba\n",
    "+ **shop_id:** Identificador único de tienda\n",
    "+ **item_id:** Identificador único de producto\n",
    "+ **item_categoty_id:** Identificador único de la categoría del artículo\n",
    "+ **item_cnt_day:** número de productos vendidos. \n",
    "+ **item_price:** precio actual de un artículo \n",
    "+ **date:** fecha en formato dd/mm/yyyy\n",
    "+ **date_block_num:** un número de mes consecutivo, utilizado por conveniencia. Enero de 2013 es 0, febrero de 2013 es 1, ..., octubre de 2015 es 33\n",
    "+ **item_name:** Nombre del artículo\n",
    "+ **shop_name:** Nombre de la tienda\n",
    "+ **item_category_name:** nombre de la categoría del artículo"
   ]
  },
  {
   "cell_type": "markdown",
   "metadata": {},
   "source": [
    "## Carga de datos"
   ]
  },
  {
   "cell_type": "code",
   "execution_count": 121,
   "metadata": {},
   "outputs": [],
   "source": [
    "train = pd.read_csv(\"DATA/sales_train.csv\", \n",
    "                    parse_dates=[\"date\"],\n",
    "                    infer_datetime_format=True,\n",
    "                    dayfirst=True)\n",
    "items = pd.read_csv(\"DATA/items.csv\")\n",
    "shops = pd.read_csv(\"DATA/shops.csv\")\n",
    "categories = pd.read_csv(\"DATA/item_categories.csv\")\n",
    "val = pd.read_csv(\"DATA/test.csv\")\n",
    "sample = pd.read_csv(\"DATA/sample_submission.csv\")\n"
   ]
  },
  {
   "cell_type": "markdown",
   "metadata": {},
   "source": [
    "Datos básicos de las bases"
   ]
  },
  {
   "cell_type": "code",
   "execution_count": 122,
   "metadata": {},
   "outputs": [
    {
     "name": "stdout",
     "output_type": "stream",
     "text": [
      "------------ Tamaño de Ventas--------------\n",
      "(2935849, 6)\n",
      "------------ Valores perdidos ---------------\n",
      "date              0\n",
      "date_block_num    0\n",
      "shop_id           0\n",
      "item_id           0\n",
      "item_price        0\n",
      "item_cnt_day      0\n",
      "dtype: int64\n",
      "------------ Valores nulos ------------------\n",
      "date              0\n",
      "date_block_num    0\n",
      "shop_id           0\n",
      "item_id           0\n",
      "item_price        0\n",
      "item_cnt_day      0\n",
      "dtype: int64\n",
      "------------ Tipo de datos ------------------\n",
      "date              datetime64[ns]\n",
      "date_block_num             int64\n",
      "shop_id                    int64\n",
      "item_id                    int64\n",
      "item_price               float64\n",
      "item_cnt_day             float64\n",
      "dtype: object\n",
      "------------ Uso de memoria -----------------\n",
      "134.39 MB\n"
     ]
    }
   ],
   "source": [
    "data_info(train,\"Ventas\")"
   ]
  },
  {
   "cell_type": "code",
   "execution_count": 123,
   "metadata": {},
   "outputs": [
    {
     "name": "stdout",
     "output_type": "stream",
     "text": [
      "------------ Tamaño de Productos--------------\n",
      "(22170, 3)\n",
      "------------ Valores perdidos ---------------\n",
      "item_name           0\n",
      "item_id             0\n",
      "item_category_id    0\n",
      "dtype: int64\n",
      "------------ Valores nulos ------------------\n",
      "item_name           0\n",
      "item_id             0\n",
      "item_category_id    0\n",
      "dtype: int64\n",
      "------------ Tipo de datos ------------------\n",
      "item_name           object\n",
      "item_id              int64\n",
      "item_category_id     int64\n",
      "dtype: object\n",
      "------------ Uso de memoria -----------------\n",
      "3.66 MB\n"
     ]
    }
   ],
   "source": [
    "data_info(items, \"Productos\")"
   ]
  },
  {
   "cell_type": "code",
   "execution_count": 124,
   "metadata": {},
   "outputs": [
    {
     "name": "stdout",
     "output_type": "stream",
     "text": [
      "------------ Tamaño de Tiendas--------------\n",
      "(60, 2)\n",
      "------------ Valores perdidos ---------------\n",
      "shop_name    0\n",
      "shop_id      0\n",
      "dtype: int64\n",
      "------------ Valores nulos ------------------\n",
      "shop_name    0\n",
      "shop_id      0\n",
      "dtype: int64\n",
      "------------ Tipo de datos ------------------\n",
      "shop_name    object\n",
      "shop_id       int64\n",
      "dtype: object\n",
      "------------ Uso de memoria -----------------\n",
      "0.01 MB\n"
     ]
    }
   ],
   "source": [
    "data_info(shops, \"Tiendas\")"
   ]
  },
  {
   "cell_type": "code",
   "execution_count": 125,
   "metadata": {},
   "outputs": [
    {
     "name": "stdout",
     "output_type": "stream",
     "text": [
      "------------ Tamaño de Categorias productos--------------\n",
      "(84, 2)\n",
      "------------ Valores perdidos ---------------\n",
      "item_category_name    0\n",
      "item_category_id      0\n",
      "dtype: int64\n",
      "------------ Valores nulos ------------------\n",
      "item_category_name    0\n",
      "item_category_id      0\n",
      "dtype: int64\n",
      "------------ Tipo de datos ------------------\n",
      "item_category_name    object\n",
      "item_category_id       int64\n",
      "dtype: object\n",
      "------------ Uso de memoria -----------------\n",
      "0.01 MB\n"
     ]
    }
   ],
   "source": [
    "data_info(categories, \"Categorias productos\")"
   ]
  },
  {
   "cell_type": "code",
   "execution_count": 126,
   "metadata": {},
   "outputs": [
    {
     "name": "stdout",
     "output_type": "stream",
     "text": [
      "------------ Tamaño de Conjunto validación--------------\n",
      "(214200, 3)\n",
      "------------ Valores perdidos ---------------\n",
      "ID         0\n",
      "shop_id    0\n",
      "item_id    0\n",
      "dtype: int64\n",
      "------------ Valores nulos ------------------\n",
      "ID         0\n",
      "shop_id    0\n",
      "item_id    0\n",
      "dtype: int64\n",
      "------------ Tipo de datos ------------------\n",
      "ID         int64\n",
      "shop_id    int64\n",
      "item_id    int64\n",
      "dtype: object\n",
      "------------ Uso de memoria -----------------\n",
      "4.9 MB\n"
     ]
    }
   ],
   "source": [
    "data_info(val, \"Conjunto validación\")"
   ]
  },
  {
   "cell_type": "markdown",
   "metadata": {},
   "source": [
    "## Limpieza de datos\n",
    "\n",
    "Se remueven los datos atípicos de la base de datos "
   ]
  },
  {
   "cell_type": "code",
   "execution_count": 127,
   "metadata": {},
   "outputs": [
    {
     "data": {
      "text/plain": [
       "Text(0.5, 1.0, 'Número de productos vendidos')"
      ]
     },
     "execution_count": 127,
     "metadata": {},
     "output_type": "execute_result"
    },
    {
     "data": {
      "image/png": "[encoded data removed]",
      "text/plain": [
       "<Figure size 432x288 with 1 Axes>"
      ]
     },
     "metadata": {
      "needs_background": "light"
     },
     "output_type": "display_data"
    }
   ],
   "source": [
    "plt.figure()\n",
    "flp = dict(marker=\"o\",\n",
    "           markerfacecolor=\"red\",\n",
    "           markersize=5,\n",
    "           linestyle=\"--\",\n",
    "           markeredgecolor=\"black\")\n",
    "sns.boxplot(x=train.item_cnt_day,\n",
    "            flierprops=flp,)\n",
    "plt.grid(True)\n",
    "plt.xlim(train.item_cnt_day.min(),\n",
    "         train.item_cnt_day.max()*1.1)\n",
    "plt.title(\"Número de productos vendidos\")"
   ]
  },
  {
   "cell_type": "markdown",
   "metadata": {},
   "source": [
    "Se remueven los artículos que estén arriba de un flujo de venta de 1000"
   ]
  },
  {
   "cell_type": "code",
   "execution_count": 128,
   "metadata": {},
   "outputs": [],
   "source": [
    "train = train[train.item_cnt_day < 1000]"
   ]
  },
  {
   "cell_type": "code",
   "execution_count": 129,
   "metadata": {},
   "outputs": [
    {
     "data": {
      "text/plain": [
       "Text(0.5, 1.0, 'Precio actual del artículo')"
      ]
     },
     "execution_count": 129,
     "metadata": {},
     "output_type": "execute_result"
    },
    {
     "data": {
      "image/png": "[encoded data removed]",
      "text/plain": [
       "<Figure size 432x288 with 1 Axes>"
      ]
     },
     "metadata": {
      "needs_background": "light"
     },
     "output_type": "display_data"
    }
   ],
   "source": [
    "plt.figure()\n",
    "flp = dict(marker=\"o\",\n",
    "           markerfacecolor=\"red\",\n",
    "           markersize=5,\n",
    "           linestyle=\"--\",\n",
    "           markeredgecolor=\"black\")\n",
    "sns.boxplot(x=train.item_price,\n",
    "            flierprops=flp,)\n",
    "plt.grid(True)\n",
    "plt.xlim(train.item_price.min(),\n",
    "         train.item_price.max()*1.1)\n",
    "plt.title(\"Precio actual del artículo\")"
   ]
  },
  {
   "cell_type": "markdown",
   "metadata": {},
   "source": [
    "Se encuentra un valor atípico arriba del precio de 300.000, tomamos como referencia el valor de 100.000 para despreciar los valores que no son comunes en la base de datos "
   ]
  },
  {
   "cell_type": "code",
   "execution_count": 130,
   "metadata": {},
   "outputs": [],
   "source": [
    "train = train[train.item_price < 100000]"
   ]
  },
  {
   "cell_type": "markdown",
   "metadata": {},
   "source": [
    "Se quitan las filas en el conjunto de datos de entrenamiento en donde la cantidad de artículos vendidos  es negativa, esto no tiene sentido alguno para el propósito del análisis y se cambia por cero "
   ]
  },
  {
   "cell_type": "code",
   "execution_count": 131,
   "metadata": {},
   "outputs": [],
   "source": [
    "train.loc[train.item_cnt_day < 1, \"item_cnt_day\"] = 0"
   ]
  },
  {
   "cell_type": "markdown",
   "metadata": {},
   "source": [
    "## Exploración de datos "
   ]
  },
  {
   "cell_type": "markdown",
   "metadata": {},
   "source": [
    "Revisión de la estadística descriptiva de los datos "
   ]
  },
  {
   "cell_type": "code",
   "execution_count": 132,
   "metadata": {},
   "outputs": [
    {
     "data": {
      "text/html": [
       "<div>\n",
       "<style scoped>\n",
       "    .dataframe tbody tr th:only-of-type {\n",
       "        vertical-align: middle;\n",
       "    }\n",
       "\n",
       "    .dataframe tbody tr th {\n",
       "        vertical-align: top;\n",
       "    }\n",
       "\n",
       "    .dataframe thead th {\n",
       "        text-align: right;\n",
       "    }\n",
       "</style>\n",
       "<table border=\"1\" class=\"dataframe\">\n",
       "  <thead>\n",
       "    <tr style=\"text-align: right;\">\n",
       "      <th></th>\n",
       "      <th>date_block_num</th>\n",
       "      <th>shop_id</th>\n",
       "      <th>item_id</th>\n",
       "      <th>item_price</th>\n",
       "      <th>item_cnt_day</th>\n",
       "    </tr>\n",
       "  </thead>\n",
       "  <tbody>\n",
       "    <tr>\n",
       "      <th>count</th>\n",
       "      <td>2.935846e+06</td>\n",
       "      <td>2.935846e+06</td>\n",
       "      <td>2.935846e+06</td>\n",
       "      <td>2.935846e+06</td>\n",
       "      <td>2.935846e+06</td>\n",
       "    </tr>\n",
       "    <tr>\n",
       "      <th>mean</th>\n",
       "      <td>1.456990e+01</td>\n",
       "      <td>3.300175e+01</td>\n",
       "      <td>1.019722e+04</td>\n",
       "      <td>8.907492e+02</td>\n",
       "      <td>1.244131e+00</td>\n",
       "    </tr>\n",
       "    <tr>\n",
       "      <th>std</th>\n",
       "      <td>9.422985e+00</td>\n",
       "      <td>1.622697e+01</td>\n",
       "      <td>6.324297e+03</td>\n",
       "      <td>1.720491e+03</td>\n",
       "      <td>2.215525e+00</td>\n",
       "    </tr>\n",
       "    <tr>\n",
       "      <th>min</th>\n",
       "      <td>0.000000e+00</td>\n",
       "      <td>0.000000e+00</td>\n",
       "      <td>0.000000e+00</td>\n",
       "      <td>-1.000000e+00</td>\n",
       "      <td>0.000000e+00</td>\n",
       "    </tr>\n",
       "    <tr>\n",
       "      <th>25%</th>\n",
       "      <td>7.000000e+00</td>\n",
       "      <td>2.200000e+01</td>\n",
       "      <td>4.476000e+03</td>\n",
       "      <td>2.490000e+02</td>\n",
       "      <td>1.000000e+00</td>\n",
       "    </tr>\n",
       "    <tr>\n",
       "      <th>50%</th>\n",
       "      <td>1.400000e+01</td>\n",
       "      <td>3.100000e+01</td>\n",
       "      <td>9.343000e+03</td>\n",
       "      <td>3.990000e+02</td>\n",
       "      <td>1.000000e+00</td>\n",
       "    </tr>\n",
       "    <tr>\n",
       "      <th>75%</th>\n",
       "      <td>2.300000e+01</td>\n",
       "      <td>4.700000e+01</td>\n",
       "      <td>1.568400e+04</td>\n",
       "      <td>9.990000e+02</td>\n",
       "      <td>1.000000e+00</td>\n",
       "    </tr>\n",
       "    <tr>\n",
       "      <th>max</th>\n",
       "      <td>3.300000e+01</td>\n",
       "      <td>5.900000e+01</td>\n",
       "      <td>2.216900e+04</td>\n",
       "      <td>5.920000e+04</td>\n",
       "      <td>6.690000e+02</td>\n",
       "    </tr>\n",
       "  </tbody>\n",
       "</table>\n",
       "</div>"
      ],
      "text/plain": [
       "       date_block_num       shop_id       item_id    item_price  item_cnt_day\n",
       "count    2.935846e+06  2.935846e+06  2.935846e+06  2.935846e+06  2.935846e+06\n",
       "mean     1.456990e+01  3.300175e+01  1.019722e+04  8.907492e+02  1.244131e+00\n",
       "std      9.422985e+00  1.622697e+01  6.324297e+03  1.720491e+03  2.215525e+00\n",
       "min      0.000000e+00  0.000000e+00  0.000000e+00 -1.000000e+00  0.000000e+00\n",
       "25%      7.000000e+00  2.200000e+01  4.476000e+03  2.490000e+02  1.000000e+00\n",
       "50%      1.400000e+01  3.100000e+01  9.343000e+03  3.990000e+02  1.000000e+00\n",
       "75%      2.300000e+01  4.700000e+01  1.568400e+04  9.990000e+02  1.000000e+00\n",
       "max      3.300000e+01  5.900000e+01  2.216900e+04  5.920000e+04  6.690000e+02"
      ]
     },
     "execution_count": 132,
     "metadata": {},
     "output_type": "execute_result"
    }
   ],
   "source": [
    "train.describe()"
   ]
  },
  {
   "cell_type": "markdown",
   "metadata": {},
   "source": [
    "Recuento de los diferentes valores que toma cada variable"
   ]
  },
  {
   "cell_type": "code",
   "execution_count": 133,
   "metadata": {},
   "outputs": [
    {
     "data": {
      "text/plain": [
       "date               1034\n",
       "date_block_num       34\n",
       "shop_id              60\n",
       "item_id           21806\n",
       "item_price        19991\n",
       "item_cnt_day        188\n",
       "dtype: int64"
      ]
     },
     "execution_count": 133,
     "metadata": {},
     "output_type": "execute_result"
    }
   ],
   "source": [
    "train.nunique()"
   ]
  },
  {
   "cell_type": "markdown",
   "metadata": {},
   "source": [
    "¿cómo son las ventas a traves del tiempo?, compactamos los datos respecto de la variable \"date_block_num\", que es un identificador de los meses, sumando todas las ventas por cada valor único de esta variable"
   ]
  },
  {
   "cell_type": "code",
   "execution_count": 134,
   "metadata": {},
   "outputs": [
    {
     "data": {
      "text/plain": [
       "Text(0, 0.5, 'Número de artículos vendidos')"
      ]
     },
     "execution_count": 134,
     "metadata": {},
     "output_type": "execute_result"
    },
    {
     "data": {
      "image/png": "[encoded data removed]",
      "text/plain": [
       "<Figure size 432x288 with 1 Axes>"
      ]
     },
     "metadata": {
      "needs_background": "light"
     },
     "output_type": "display_data"
    }
   ],
   "source": [
    "x_v = train.groupby(\"date_block_num\").agg({\"item_cnt_day\": \"sum\"})\n",
    "plt.title(\"Ventas totales por mes\")\n",
    "plt.plot(x_v.index, x_v[\"item_cnt_day\"],\n",
    "         \"b-\")\n",
    "plt.plot(x_v.index, x_v[\"item_cnt_day\"],\n",
    "         \"b.\")\n",
    "\n",
    "plt.grid(color='k',\n",
    "         alpha=0.5,\n",
    "         linestyle='dashed',\n",
    "         linewidth=0.9)\n",
    "\n",
    "plt.xlabel(\"Identificador de mes\")\n",
    "plt.ylabel(\"Número de artículos vendidos\")"
   ]
  },
  {
   "cell_type": "markdown",
   "metadata": {},
   "source": [
    "Sin embargo se puede hacer un análisis mas específico de cada año y ver un comparativo entre años"
   ]
  },
  {
   "cell_type": "code",
   "execution_count": 135,
   "metadata": {},
   "outputs": [],
   "source": [
    "x_1_ano = x_v[x_v.index < 12]\n",
    "\n",
    "x_2_ano = x_v[x_v.index >= 12]\n",
    "x_2_ano = x_2_ano[x_2_ano.index < 24]\n",
    "\n",
    "x_3_ano = x_v[x_v.index >= 24]\n",
    "\n",
    "t = np.arange(1,13)"
   ]
  },
  {
   "cell_type": "code",
   "execution_count": 136,
   "metadata": {},
   "outputs": [
    {
     "data": {
      "text/plain": [
       "Text(0.5, 0, 'Mes del año')"
      ]
     },
     "execution_count": 136,
     "metadata": {},
     "output_type": "execute_result"
    },
    {
     "data": {
      "image/png": "[encoded data removed]",
      "text/plain": [
       "<Figure size 432x288 with 1 Axes>"
      ]
     },
     "metadata": {
      "needs_background": "light"
     },
     "output_type": "display_data"
    }
   ],
   "source": [
    "plt.plot(t, x_1_ano[\"item_cnt_day\"],\n",
    "         \"b-\",\n",
    "         label = \"2013\")\n",
    "plt.plot(t, x_1_ano[\"item_cnt_day\"],\n",
    "         \"b.\")\n",
    "\n",
    "plt.plot(t, x_2_ano[\"item_cnt_day\"],\n",
    "         \"g-\",\n",
    "         label = \"2014\")\n",
    "plt.plot(t, x_2_ano[\"item_cnt_day\"],\n",
    "         \"g.\")\n",
    "\n",
    "plt.plot(t[:-2], x_3_ano[\"item_cnt_day\"],\n",
    "         \"r-\",\n",
    "         label = \"2015\")\n",
    "plt.plot(t[:-2], x_3_ano[\"item_cnt_day\"],\n",
    "         \"r.\",)\n",
    "\n",
    "plt.grid(color='k',\n",
    "         alpha=0.5,\n",
    "         linestyle='dashed',\n",
    "         linewidth=0.9)\n",
    "\n",
    "plt.legend()\n",
    "plt.title(\"Ventas totales por Mes\")\n",
    "plt.ylabel(\"Numero de artículos vendidos\")\n",
    "plt.xlabel(\"Mes del año\")"
   ]
  },
  {
   "cell_type": "markdown",
   "metadata": {},
   "source": [
    "Veamos ahora un diagrama de Paretto para ver la relación entre la cantidad de unidades vendidas y precio"
   ]
  },
  {
   "cell_type": "code",
   "execution_count": 137,
   "metadata": {},
   "outputs": [
    {
     "data": {
      "text/plain": [
       "Text(0, 0.5, 'Número de artículos vendidos')"
      ]
     },
     "execution_count": 137,
     "metadata": {},
     "output_type": "execute_result"
    },
    {
     "data": {
      "image/png": "[encoded data removed]",
      "text/plain": [
       "<Figure size 432x288 with 1 Axes>"
      ]
     },
     "metadata": {
      "needs_background": "light"
     },
     "output_type": "display_data"
    }
   ],
   "source": [
    "x_p = train.groupby(\"item_price\").agg({\"item_cnt_day\": \"sum\"})\n",
    "plt.scatter(x_p.index, x_p[\"item_cnt_day\"],\n",
    "            s=10,\n",
    "            c=\"blue\",\n",
    "            marker=\"o\",\n",
    "            alpha=0.5,\n",
    "            edgecolors=\"face\")\n",
    "\n",
    "plt.grid(color='k',\n",
    "         alpha=0.5,\n",
    "         linestyle='dashed',\n",
    "         linewidth=0.9)\n",
    "\n",
    "plt.title(\"Items vendidos, por precio\")\n",
    "plt.xlabel(\"Precio\")\n",
    "plt.ylabel(\"Número de artículos vendidos\")"
   ]
  },
  {
   "cell_type": "markdown",
   "metadata": {},
   "source": [
    "Se reorganizan lo datos para que se puedan ver como ventas mensuales por items, además se reorganiza la base de datos para tener solamente cuatro variables"
   ]
  },
  {
   "cell_type": "code",
   "execution_count": 138,
   "metadata": {},
   "outputs": [],
   "source": [
    "df = train.groupby([train.date.apply(lambda x: x.strftime('%Y-%m')),'item_id','shop_id']).sum().reset_index()\n",
    "df = df[['date','item_id','shop_id','item_cnt_day']]"
   ]
  },
  {
   "cell_type": "code",
   "execution_count": 139,
   "metadata": {},
   "outputs": [
    {
     "data": {
      "text/html": [
       "<div>\n",
       "<style scoped>\n",
       "    .dataframe tbody tr th:only-of-type {\n",
       "        vertical-align: middle;\n",
       "    }\n",
       "\n",
       "    .dataframe tbody tr th {\n",
       "        vertical-align: top;\n",
       "    }\n",
       "\n",
       "    .dataframe thead th {\n",
       "        text-align: right;\n",
       "    }\n",
       "</style>\n",
       "<table border=\"1\" class=\"dataframe\">\n",
       "  <thead>\n",
       "    <tr style=\"text-align: right;\">\n",
       "      <th></th>\n",
       "      <th>date</th>\n",
       "      <th>item_id</th>\n",
       "      <th>shop_id</th>\n",
       "      <th>item_cnt_day</th>\n",
       "    </tr>\n",
       "  </thead>\n",
       "  <tbody>\n",
       "    <tr>\n",
       "      <th>0</th>\n",
       "      <td>2013-01</td>\n",
       "      <td>19</td>\n",
       "      <td>25</td>\n",
       "      <td>1.0</td>\n",
       "    </tr>\n",
       "    <tr>\n",
       "      <th>1</th>\n",
       "      <td>2013-01</td>\n",
       "      <td>27</td>\n",
       "      <td>1</td>\n",
       "      <td>1.0</td>\n",
       "    </tr>\n",
       "    <tr>\n",
       "      <th>2</th>\n",
       "      <td>2013-01</td>\n",
       "      <td>27</td>\n",
       "      <td>2</td>\n",
       "      <td>1.0</td>\n",
       "    </tr>\n",
       "    <tr>\n",
       "      <th>3</th>\n",
       "      <td>2013-01</td>\n",
       "      <td>27</td>\n",
       "      <td>10</td>\n",
       "      <td>1.0</td>\n",
       "    </tr>\n",
       "    <tr>\n",
       "      <th>4</th>\n",
       "      <td>2013-01</td>\n",
       "      <td>27</td>\n",
       "      <td>19</td>\n",
       "      <td>1.0</td>\n",
       "    </tr>\n",
       "    <tr>\n",
       "      <th>...</th>\n",
       "      <td>...</td>\n",
       "      <td>...</td>\n",
       "      <td>...</td>\n",
       "      <td>...</td>\n",
       "    </tr>\n",
       "    <tr>\n",
       "      <th>1609117</th>\n",
       "      <td>2015-10</td>\n",
       "      <td>22167</td>\n",
       "      <td>28</td>\n",
       "      <td>1.0</td>\n",
       "    </tr>\n",
       "    <tr>\n",
       "      <th>1609118</th>\n",
       "      <td>2015-10</td>\n",
       "      <td>22167</td>\n",
       "      <td>37</td>\n",
       "      <td>1.0</td>\n",
       "    </tr>\n",
       "    <tr>\n",
       "      <th>1609119</th>\n",
       "      <td>2015-10</td>\n",
       "      <td>22167</td>\n",
       "      <td>42</td>\n",
       "      <td>4.0</td>\n",
       "    </tr>\n",
       "    <tr>\n",
       "      <th>1609120</th>\n",
       "      <td>2015-10</td>\n",
       "      <td>22167</td>\n",
       "      <td>47</td>\n",
       "      <td>1.0</td>\n",
       "    </tr>\n",
       "    <tr>\n",
       "      <th>1609121</th>\n",
       "      <td>2015-10</td>\n",
       "      <td>22167</td>\n",
       "      <td>50</td>\n",
       "      <td>1.0</td>\n",
       "    </tr>\n",
       "  </tbody>\n",
       "</table>\n",
       "<p>1609122 rows × 4 columns</p>\n",
       "</div>"
      ],
      "text/plain": [
       "            date  item_id  shop_id  item_cnt_day\n",
       "0        2013-01       19       25           1.0\n",
       "1        2013-01       27        1           1.0\n",
       "2        2013-01       27        2           1.0\n",
       "3        2013-01       27       10           1.0\n",
       "4        2013-01       27       19           1.0\n",
       "...          ...      ...      ...           ...\n",
       "1609117  2015-10    22167       28           1.0\n",
       "1609118  2015-10    22167       37           1.0\n",
       "1609119  2015-10    22167       42           4.0\n",
       "1609120  2015-10    22167       47           1.0\n",
       "1609121  2015-10    22167       50           1.0\n",
       "\n",
       "[1609122 rows x 4 columns]"
      ]
     },
     "execution_count": 139,
     "metadata": {},
     "output_type": "execute_result"
    }
   ],
   "source": [
    "df"
   ]
  },
  {
   "cell_type": "markdown",
   "metadata": {},
   "source": [
    "Ahora se cercan los datos en la variable número de artículos de ventas por días. Poniendo de límite el conjunto [0,20], los valores más altos que veinte se reemplazarán por veinte y los menores de cero, se pondrán como cero"
   ]
  },
  {
   "cell_type": "code",
   "execution_count": 140,
   "metadata": {},
   "outputs": [],
   "source": [
    "df[\"item_cnt_day\"].clip(0.,20.,inplace=True)"
   ]
  },
  {
   "cell_type": "markdown",
   "metadata": {},
   "source": [
    "Ahora lo que se quiere hacer es agrupar los datos, teniendo como referencia las columnas de identificador de itmes(**item_id**) y identificador de tienda (**shop_id**). para poder tener explicitamente el numero de artículos vendidos a traves del tiempo de cada item en cada tienda"
   ]
  },
  {
   "cell_type": "code",
   "execution_count": 141,
   "metadata": {},
   "outputs": [],
   "source": [
    "df = df.pivot_table(index=['item_id','shop_id'], columns='date',values='item_cnt_day',fill_value=0).reset_index()"
   ]
  },
  {
   "cell_type": "code",
   "execution_count": 142,
   "metadata": {},
   "outputs": [
    {
     "data": {
      "text/html": [
       "<div>\n",
       "<style scoped>\n",
       "    .dataframe tbody tr th:only-of-type {\n",
       "        vertical-align: middle;\n",
       "    }\n",
       "\n",
       "    .dataframe tbody tr th {\n",
       "        vertical-align: top;\n",
       "    }\n",
       "\n",
       "    .dataframe thead th {\n",
       "        text-align: right;\n",
       "    }\n",
       "</style>\n",
       "<table border=\"1\" class=\"dataframe\">\n",
       "  <thead>\n",
       "    <tr style=\"text-align: right;\">\n",
       "      <th>date</th>\n",
       "      <th>item_id</th>\n",
       "      <th>shop_id</th>\n",
       "      <th>2013-01</th>\n",
       "      <th>2013-02</th>\n",
       "      <th>2013-03</th>\n",
       "      <th>2013-04</th>\n",
       "      <th>2013-05</th>\n",
       "      <th>2013-06</th>\n",
       "      <th>2013-07</th>\n",
       "      <th>2013-08</th>\n",
       "      <th>...</th>\n",
       "      <th>2015-01</th>\n",
       "      <th>2015-02</th>\n",
       "      <th>2015-03</th>\n",
       "      <th>2015-04</th>\n",
       "      <th>2015-05</th>\n",
       "      <th>2015-06</th>\n",
       "      <th>2015-07</th>\n",
       "      <th>2015-08</th>\n",
       "      <th>2015-09</th>\n",
       "      <th>2015-10</th>\n",
       "    </tr>\n",
       "  </thead>\n",
       "  <tbody>\n",
       "    <tr>\n",
       "      <th>0</th>\n",
       "      <td>0</td>\n",
       "      <td>54</td>\n",
       "      <td>0</td>\n",
       "      <td>0</td>\n",
       "      <td>0</td>\n",
       "      <td>0</td>\n",
       "      <td>0</td>\n",
       "      <td>0</td>\n",
       "      <td>0</td>\n",
       "      <td>0</td>\n",
       "      <td>...</td>\n",
       "      <td>0</td>\n",
       "      <td>0</td>\n",
       "      <td>0</td>\n",
       "      <td>0</td>\n",
       "      <td>0</td>\n",
       "      <td>0</td>\n",
       "      <td>0</td>\n",
       "      <td>0</td>\n",
       "      <td>0</td>\n",
       "      <td>0</td>\n",
       "    </tr>\n",
       "    <tr>\n",
       "      <th>1</th>\n",
       "      <td>1</td>\n",
       "      <td>55</td>\n",
       "      <td>0</td>\n",
       "      <td>0</td>\n",
       "      <td>0</td>\n",
       "      <td>0</td>\n",
       "      <td>0</td>\n",
       "      <td>0</td>\n",
       "      <td>0</td>\n",
       "      <td>0</td>\n",
       "      <td>...</td>\n",
       "      <td>0</td>\n",
       "      <td>0</td>\n",
       "      <td>0</td>\n",
       "      <td>0</td>\n",
       "      <td>0</td>\n",
       "      <td>0</td>\n",
       "      <td>0</td>\n",
       "      <td>0</td>\n",
       "      <td>0</td>\n",
       "      <td>0</td>\n",
       "    </tr>\n",
       "    <tr>\n",
       "      <th>2</th>\n",
       "      <td>2</td>\n",
       "      <td>54</td>\n",
       "      <td>0</td>\n",
       "      <td>0</td>\n",
       "      <td>0</td>\n",
       "      <td>0</td>\n",
       "      <td>0</td>\n",
       "      <td>0</td>\n",
       "      <td>0</td>\n",
       "      <td>0</td>\n",
       "      <td>...</td>\n",
       "      <td>0</td>\n",
       "      <td>0</td>\n",
       "      <td>0</td>\n",
       "      <td>0</td>\n",
       "      <td>0</td>\n",
       "      <td>0</td>\n",
       "      <td>0</td>\n",
       "      <td>0</td>\n",
       "      <td>0</td>\n",
       "      <td>0</td>\n",
       "    </tr>\n",
       "    <tr>\n",
       "      <th>3</th>\n",
       "      <td>3</td>\n",
       "      <td>54</td>\n",
       "      <td>0</td>\n",
       "      <td>0</td>\n",
       "      <td>0</td>\n",
       "      <td>0</td>\n",
       "      <td>0</td>\n",
       "      <td>0</td>\n",
       "      <td>0</td>\n",
       "      <td>0</td>\n",
       "      <td>...</td>\n",
       "      <td>0</td>\n",
       "      <td>0</td>\n",
       "      <td>0</td>\n",
       "      <td>0</td>\n",
       "      <td>0</td>\n",
       "      <td>0</td>\n",
       "      <td>0</td>\n",
       "      <td>0</td>\n",
       "      <td>0</td>\n",
       "      <td>0</td>\n",
       "    </tr>\n",
       "    <tr>\n",
       "      <th>4</th>\n",
       "      <td>4</td>\n",
       "      <td>54</td>\n",
       "      <td>0</td>\n",
       "      <td>0</td>\n",
       "      <td>0</td>\n",
       "      <td>0</td>\n",
       "      <td>0</td>\n",
       "      <td>0</td>\n",
       "      <td>0</td>\n",
       "      <td>0</td>\n",
       "      <td>...</td>\n",
       "      <td>0</td>\n",
       "      <td>0</td>\n",
       "      <td>0</td>\n",
       "      <td>0</td>\n",
       "      <td>0</td>\n",
       "      <td>0</td>\n",
       "      <td>0</td>\n",
       "      <td>0</td>\n",
       "      <td>0</td>\n",
       "      <td>0</td>\n",
       "    </tr>\n",
       "    <tr>\n",
       "      <th>...</th>\n",
       "      <td>...</td>\n",
       "      <td>...</td>\n",
       "      <td>...</td>\n",
       "      <td>...</td>\n",
       "      <td>...</td>\n",
       "      <td>...</td>\n",
       "      <td>...</td>\n",
       "      <td>...</td>\n",
       "      <td>...</td>\n",
       "      <td>...</td>\n",
       "      <td>...</td>\n",
       "      <td>...</td>\n",
       "      <td>...</td>\n",
       "      <td>...</td>\n",
       "      <td>...</td>\n",
       "      <td>...</td>\n",
       "      <td>...</td>\n",
       "      <td>...</td>\n",
       "      <td>...</td>\n",
       "      <td>...</td>\n",
       "      <td>...</td>\n",
       "    </tr>\n",
       "    <tr>\n",
       "      <th>424118</th>\n",
       "      <td>22168</td>\n",
       "      <td>12</td>\n",
       "      <td>1</td>\n",
       "      <td>0</td>\n",
       "      <td>0</td>\n",
       "      <td>0</td>\n",
       "      <td>0</td>\n",
       "      <td>0</td>\n",
       "      <td>0</td>\n",
       "      <td>0</td>\n",
       "      <td>...</td>\n",
       "      <td>0</td>\n",
       "      <td>0</td>\n",
       "      <td>0</td>\n",
       "      <td>0</td>\n",
       "      <td>0</td>\n",
       "      <td>0</td>\n",
       "      <td>0</td>\n",
       "      <td>0</td>\n",
       "      <td>0</td>\n",
       "      <td>0</td>\n",
       "    </tr>\n",
       "    <tr>\n",
       "      <th>424119</th>\n",
       "      <td>22168</td>\n",
       "      <td>16</td>\n",
       "      <td>0</td>\n",
       "      <td>1</td>\n",
       "      <td>0</td>\n",
       "      <td>0</td>\n",
       "      <td>0</td>\n",
       "      <td>0</td>\n",
       "      <td>0</td>\n",
       "      <td>0</td>\n",
       "      <td>...</td>\n",
       "      <td>0</td>\n",
       "      <td>0</td>\n",
       "      <td>0</td>\n",
       "      <td>0</td>\n",
       "      <td>0</td>\n",
       "      <td>0</td>\n",
       "      <td>0</td>\n",
       "      <td>0</td>\n",
       "      <td>0</td>\n",
       "      <td>0</td>\n",
       "    </tr>\n",
       "    <tr>\n",
       "      <th>424120</th>\n",
       "      <td>22168</td>\n",
       "      <td>42</td>\n",
       "      <td>0</td>\n",
       "      <td>1</td>\n",
       "      <td>0</td>\n",
       "      <td>0</td>\n",
       "      <td>0</td>\n",
       "      <td>0</td>\n",
       "      <td>0</td>\n",
       "      <td>0</td>\n",
       "      <td>...</td>\n",
       "      <td>0</td>\n",
       "      <td>0</td>\n",
       "      <td>0</td>\n",
       "      <td>0</td>\n",
       "      <td>0</td>\n",
       "      <td>0</td>\n",
       "      <td>0</td>\n",
       "      <td>0</td>\n",
       "      <td>0</td>\n",
       "      <td>0</td>\n",
       "    </tr>\n",
       "    <tr>\n",
       "      <th>424121</th>\n",
       "      <td>22168</td>\n",
       "      <td>43</td>\n",
       "      <td>0</td>\n",
       "      <td>0</td>\n",
       "      <td>1</td>\n",
       "      <td>0</td>\n",
       "      <td>0</td>\n",
       "      <td>0</td>\n",
       "      <td>0</td>\n",
       "      <td>0</td>\n",
       "      <td>...</td>\n",
       "      <td>0</td>\n",
       "      <td>0</td>\n",
       "      <td>0</td>\n",
       "      <td>0</td>\n",
       "      <td>0</td>\n",
       "      <td>0</td>\n",
       "      <td>0</td>\n",
       "      <td>0</td>\n",
       "      <td>0</td>\n",
       "      <td>0</td>\n",
       "    </tr>\n",
       "    <tr>\n",
       "      <th>424122</th>\n",
       "      <td>22169</td>\n",
       "      <td>25</td>\n",
       "      <td>0</td>\n",
       "      <td>0</td>\n",
       "      <td>0</td>\n",
       "      <td>0</td>\n",
       "      <td>0</td>\n",
       "      <td>0</td>\n",
       "      <td>0</td>\n",
       "      <td>0</td>\n",
       "      <td>...</td>\n",
       "      <td>0</td>\n",
       "      <td>0</td>\n",
       "      <td>0</td>\n",
       "      <td>0</td>\n",
       "      <td>0</td>\n",
       "      <td>0</td>\n",
       "      <td>0</td>\n",
       "      <td>0</td>\n",
       "      <td>0</td>\n",
       "      <td>0</td>\n",
       "    </tr>\n",
       "  </tbody>\n",
       "</table>\n",
       "<p>424123 rows × 36 columns</p>\n",
       "</div>"
      ],
      "text/plain": [
       "date    item_id  shop_id  2013-01  2013-02  2013-03  2013-04  2013-05  \\\n",
       "0             0       54        0        0        0        0        0   \n",
       "1             1       55        0        0        0        0        0   \n",
       "2             2       54        0        0        0        0        0   \n",
       "3             3       54        0        0        0        0        0   \n",
       "4             4       54        0        0        0        0        0   \n",
       "...         ...      ...      ...      ...      ...      ...      ...   \n",
       "424118    22168       12        1        0        0        0        0   \n",
       "424119    22168       16        0        1        0        0        0   \n",
       "424120    22168       42        0        1        0        0        0   \n",
       "424121    22168       43        0        0        1        0        0   \n",
       "424122    22169       25        0        0        0        0        0   \n",
       "\n",
       "date    2013-06  2013-07  2013-08  ...  2015-01  2015-02  2015-03  2015-04  \\\n",
       "0             0        0        0  ...        0        0        0        0   \n",
       "1             0        0        0  ...        0        0        0        0   \n",
       "2             0        0        0  ...        0        0        0        0   \n",
       "3             0        0        0  ...        0        0        0        0   \n",
       "4             0        0        0  ...        0        0        0        0   \n",
       "...         ...      ...      ...  ...      ...      ...      ...      ...   \n",
       "424118        0        0        0  ...        0        0        0        0   \n",
       "424119        0        0        0  ...        0        0        0        0   \n",
       "424120        0        0        0  ...        0        0        0        0   \n",
       "424121        0        0        0  ...        0        0        0        0   \n",
       "424122        0        0        0  ...        0        0        0        0   \n",
       "\n",
       "date    2015-05  2015-06  2015-07  2015-08  2015-09  2015-10  \n",
       "0             0        0        0        0        0        0  \n",
       "1             0        0        0        0        0        0  \n",
       "2             0        0        0        0        0        0  \n",
       "3             0        0        0        0        0        0  \n",
       "4             0        0        0        0        0        0  \n",
       "...         ...      ...      ...      ...      ...      ...  \n",
       "424118        0        0        0        0        0        0  \n",
       "424119        0        0        0        0        0        0  \n",
       "424120        0        0        0        0        0        0  \n",
       "424121        0        0        0        0        0        0  \n",
       "424122        0        0        0        0        0        0  \n",
       "\n",
       "[424123 rows x 36 columns]"
      ]
     },
     "execution_count": 142,
     "metadata": {},
     "output_type": "execute_result"
    }
   ],
   "source": [
    "df"
   ]
  },
  {
   "cell_type": "markdown",
   "metadata": {},
   "source": [
    "Para expandir la data incluimos la base de test y asi tener compacto un conjunto de entrenamiento "
   ]
  },
  {
   "cell_type": "code",
   "execution_count": 143,
   "metadata": {},
   "outputs": [],
   "source": [
    "test = pd.merge(val, df, on=[\"item_id\", \"shop_id\"], how=\"left\").fillna(0)"
   ]
  },
  {
   "cell_type": "markdown",
   "metadata": {},
   "source": [
    "Inicialemnte se considera el modelo más simple, para esto se eliminan los datos categóricos, solamentes se quiere tener series de tiempo sin nungún tipo de procesamiento"
   ]
  },
  {
   "cell_type": "code",
   "execution_count": 144,
   "metadata": {},
   "outputs": [],
   "source": [
    "test = test.drop(labels=[\"item_id\",\"shop_id\"],axis=1)"
   ]
  },
  {
   "cell_type": "code",
   "execution_count": 145,
   "metadata": {},
   "outputs": [
    {
     "data": {
      "text/html": [
       "<div>\n",
       "<style scoped>\n",
       "    .dataframe tbody tr th:only-of-type {\n",
       "        vertical-align: middle;\n",
       "    }\n",
       "\n",
       "    .dataframe tbody tr th {\n",
       "        vertical-align: top;\n",
       "    }\n",
       "\n",
       "    .dataframe thead th {\n",
       "        text-align: right;\n",
       "    }\n",
       "</style>\n",
       "<table border=\"1\" class=\"dataframe\">\n",
       "  <thead>\n",
       "    <tr style=\"text-align: right;\">\n",
       "      <th></th>\n",
       "      <th>ID</th>\n",
       "      <th>2013-01</th>\n",
       "      <th>2013-02</th>\n",
       "      <th>2013-03</th>\n",
       "      <th>2013-04</th>\n",
       "      <th>2013-05</th>\n",
       "      <th>2013-06</th>\n",
       "      <th>2013-07</th>\n",
       "      <th>2013-08</th>\n",
       "      <th>2013-09</th>\n",
       "      <th>...</th>\n",
       "      <th>2015-01</th>\n",
       "      <th>2015-02</th>\n",
       "      <th>2015-03</th>\n",
       "      <th>2015-04</th>\n",
       "      <th>2015-05</th>\n",
       "      <th>2015-06</th>\n",
       "      <th>2015-07</th>\n",
       "      <th>2015-08</th>\n",
       "      <th>2015-09</th>\n",
       "      <th>2015-10</th>\n",
       "    </tr>\n",
       "  </thead>\n",
       "  <tbody>\n",
       "    <tr>\n",
       "      <th>0</th>\n",
       "      <td>0</td>\n",
       "      <td>0.0</td>\n",
       "      <td>0.0</td>\n",
       "      <td>0.0</td>\n",
       "      <td>0.0</td>\n",
       "      <td>0.0</td>\n",
       "      <td>0.0</td>\n",
       "      <td>0.0</td>\n",
       "      <td>0.0</td>\n",
       "      <td>0.0</td>\n",
       "      <td>...</td>\n",
       "      <td>2.0</td>\n",
       "      <td>0.0</td>\n",
       "      <td>0.0</td>\n",
       "      <td>0.0</td>\n",
       "      <td>1.0</td>\n",
       "      <td>1.0</td>\n",
       "      <td>1.0</td>\n",
       "      <td>3.0</td>\n",
       "      <td>1.0</td>\n",
       "      <td>0.0</td>\n",
       "    </tr>\n",
       "    <tr>\n",
       "      <th>1</th>\n",
       "      <td>1</td>\n",
       "      <td>0.0</td>\n",
       "      <td>0.0</td>\n",
       "      <td>0.0</td>\n",
       "      <td>0.0</td>\n",
       "      <td>0.0</td>\n",
       "      <td>0.0</td>\n",
       "      <td>0.0</td>\n",
       "      <td>0.0</td>\n",
       "      <td>0.0</td>\n",
       "      <td>...</td>\n",
       "      <td>0.0</td>\n",
       "      <td>0.0</td>\n",
       "      <td>0.0</td>\n",
       "      <td>0.0</td>\n",
       "      <td>0.0</td>\n",
       "      <td>0.0</td>\n",
       "      <td>0.0</td>\n",
       "      <td>0.0</td>\n",
       "      <td>0.0</td>\n",
       "      <td>0.0</td>\n",
       "    </tr>\n",
       "    <tr>\n",
       "      <th>2</th>\n",
       "      <td>2</td>\n",
       "      <td>0.0</td>\n",
       "      <td>0.0</td>\n",
       "      <td>0.0</td>\n",
       "      <td>0.0</td>\n",
       "      <td>0.0</td>\n",
       "      <td>0.0</td>\n",
       "      <td>0.0</td>\n",
       "      <td>0.0</td>\n",
       "      <td>0.0</td>\n",
       "      <td>...</td>\n",
       "      <td>0.0</td>\n",
       "      <td>0.0</td>\n",
       "      <td>0.0</td>\n",
       "      <td>0.0</td>\n",
       "      <td>3.0</td>\n",
       "      <td>2.0</td>\n",
       "      <td>0.0</td>\n",
       "      <td>1.0</td>\n",
       "      <td>3.0</td>\n",
       "      <td>1.0</td>\n",
       "    </tr>\n",
       "    <tr>\n",
       "      <th>3</th>\n",
       "      <td>3</td>\n",
       "      <td>0.0</td>\n",
       "      <td>0.0</td>\n",
       "      <td>0.0</td>\n",
       "      <td>0.0</td>\n",
       "      <td>0.0</td>\n",
       "      <td>0.0</td>\n",
       "      <td>0.0</td>\n",
       "      <td>0.0</td>\n",
       "      <td>0.0</td>\n",
       "      <td>...</td>\n",
       "      <td>0.0</td>\n",
       "      <td>0.0</td>\n",
       "      <td>0.0</td>\n",
       "      <td>0.0</td>\n",
       "      <td>0.0</td>\n",
       "      <td>0.0</td>\n",
       "      <td>0.0</td>\n",
       "      <td>1.0</td>\n",
       "      <td>0.0</td>\n",
       "      <td>0.0</td>\n",
       "    </tr>\n",
       "    <tr>\n",
       "      <th>4</th>\n",
       "      <td>4</td>\n",
       "      <td>0.0</td>\n",
       "      <td>0.0</td>\n",
       "      <td>0.0</td>\n",
       "      <td>0.0</td>\n",
       "      <td>0.0</td>\n",
       "      <td>0.0</td>\n",
       "      <td>0.0</td>\n",
       "      <td>0.0</td>\n",
       "      <td>0.0</td>\n",
       "      <td>...</td>\n",
       "      <td>0.0</td>\n",
       "      <td>0.0</td>\n",
       "      <td>0.0</td>\n",
       "      <td>0.0</td>\n",
       "      <td>0.0</td>\n",
       "      <td>0.0</td>\n",
       "      <td>0.0</td>\n",
       "      <td>0.0</td>\n",
       "      <td>0.0</td>\n",
       "      <td>0.0</td>\n",
       "    </tr>\n",
       "    <tr>\n",
       "      <th>...</th>\n",
       "      <td>...</td>\n",
       "      <td>...</td>\n",
       "      <td>...</td>\n",
       "      <td>...</td>\n",
       "      <td>...</td>\n",
       "      <td>...</td>\n",
       "      <td>...</td>\n",
       "      <td>...</td>\n",
       "      <td>...</td>\n",
       "      <td>...</td>\n",
       "      <td>...</td>\n",
       "      <td>...</td>\n",
       "      <td>...</td>\n",
       "      <td>...</td>\n",
       "      <td>...</td>\n",
       "      <td>...</td>\n",
       "      <td>...</td>\n",
       "      <td>...</td>\n",
       "      <td>...</td>\n",
       "      <td>...</td>\n",
       "      <td>...</td>\n",
       "    </tr>\n",
       "    <tr>\n",
       "      <th>214195</th>\n",
       "      <td>214195</td>\n",
       "      <td>0.0</td>\n",
       "      <td>0.0</td>\n",
       "      <td>0.0</td>\n",
       "      <td>0.0</td>\n",
       "      <td>0.0</td>\n",
       "      <td>0.0</td>\n",
       "      <td>0.0</td>\n",
       "      <td>0.0</td>\n",
       "      <td>0.0</td>\n",
       "      <td>...</td>\n",
       "      <td>2.0</td>\n",
       "      <td>1.0</td>\n",
       "      <td>1.0</td>\n",
       "      <td>0.0</td>\n",
       "      <td>0.0</td>\n",
       "      <td>0.0</td>\n",
       "      <td>0.0</td>\n",
       "      <td>0.0</td>\n",
       "      <td>0.0</td>\n",
       "      <td>1.0</td>\n",
       "    </tr>\n",
       "    <tr>\n",
       "      <th>214196</th>\n",
       "      <td>214196</td>\n",
       "      <td>0.0</td>\n",
       "      <td>0.0</td>\n",
       "      <td>0.0</td>\n",
       "      <td>0.0</td>\n",
       "      <td>0.0</td>\n",
       "      <td>0.0</td>\n",
       "      <td>0.0</td>\n",
       "      <td>0.0</td>\n",
       "      <td>0.0</td>\n",
       "      <td>...</td>\n",
       "      <td>0.0</td>\n",
       "      <td>0.0</td>\n",
       "      <td>0.0</td>\n",
       "      <td>0.0</td>\n",
       "      <td>0.0</td>\n",
       "      <td>0.0</td>\n",
       "      <td>0.0</td>\n",
       "      <td>0.0</td>\n",
       "      <td>0.0</td>\n",
       "      <td>0.0</td>\n",
       "    </tr>\n",
       "    <tr>\n",
       "      <th>214197</th>\n",
       "      <td>214197</td>\n",
       "      <td>1.0</td>\n",
       "      <td>0.0</td>\n",
       "      <td>0.0</td>\n",
       "      <td>0.0</td>\n",
       "      <td>0.0</td>\n",
       "      <td>0.0</td>\n",
       "      <td>0.0</td>\n",
       "      <td>0.0</td>\n",
       "      <td>0.0</td>\n",
       "      <td>...</td>\n",
       "      <td>1.0</td>\n",
       "      <td>1.0</td>\n",
       "      <td>0.0</td>\n",
       "      <td>0.0</td>\n",
       "      <td>0.0</td>\n",
       "      <td>0.0</td>\n",
       "      <td>0.0</td>\n",
       "      <td>0.0</td>\n",
       "      <td>0.0</td>\n",
       "      <td>0.0</td>\n",
       "    </tr>\n",
       "    <tr>\n",
       "      <th>214198</th>\n",
       "      <td>214198</td>\n",
       "      <td>0.0</td>\n",
       "      <td>0.0</td>\n",
       "      <td>0.0</td>\n",
       "      <td>0.0</td>\n",
       "      <td>0.0</td>\n",
       "      <td>0.0</td>\n",
       "      <td>0.0</td>\n",
       "      <td>0.0</td>\n",
       "      <td>0.0</td>\n",
       "      <td>...</td>\n",
       "      <td>0.0</td>\n",
       "      <td>0.0</td>\n",
       "      <td>0.0</td>\n",
       "      <td>0.0</td>\n",
       "      <td>0.0</td>\n",
       "      <td>0.0</td>\n",
       "      <td>0.0</td>\n",
       "      <td>0.0</td>\n",
       "      <td>0.0</td>\n",
       "      <td>0.0</td>\n",
       "    </tr>\n",
       "    <tr>\n",
       "      <th>214199</th>\n",
       "      <td>214199</td>\n",
       "      <td>0.0</td>\n",
       "      <td>0.0</td>\n",
       "      <td>0.0</td>\n",
       "      <td>0.0</td>\n",
       "      <td>0.0</td>\n",
       "      <td>0.0</td>\n",
       "      <td>0.0</td>\n",
       "      <td>0.0</td>\n",
       "      <td>0.0</td>\n",
       "      <td>...</td>\n",
       "      <td>0.0</td>\n",
       "      <td>0.0</td>\n",
       "      <td>0.0</td>\n",
       "      <td>0.0</td>\n",
       "      <td>0.0</td>\n",
       "      <td>0.0</td>\n",
       "      <td>0.0</td>\n",
       "      <td>0.0</td>\n",
       "      <td>0.0</td>\n",
       "      <td>0.0</td>\n",
       "    </tr>\n",
       "  </tbody>\n",
       "</table>\n",
       "<p>214200 rows × 35 columns</p>\n",
       "</div>"
      ],
      "text/plain": [
       "            ID  2013-01  2013-02  2013-03  2013-04  2013-05  2013-06  2013-07  \\\n",
       "0            0      0.0      0.0      0.0      0.0      0.0      0.0      0.0   \n",
       "1            1      0.0      0.0      0.0      0.0      0.0      0.0      0.0   \n",
       "2            2      0.0      0.0      0.0      0.0      0.0      0.0      0.0   \n",
       "3            3      0.0      0.0      0.0      0.0      0.0      0.0      0.0   \n",
       "4            4      0.0      0.0      0.0      0.0      0.0      0.0      0.0   \n",
       "...        ...      ...      ...      ...      ...      ...      ...      ...   \n",
       "214195  214195      0.0      0.0      0.0      0.0      0.0      0.0      0.0   \n",
       "214196  214196      0.0      0.0      0.0      0.0      0.0      0.0      0.0   \n",
       "214197  214197      1.0      0.0      0.0      0.0      0.0      0.0      0.0   \n",
       "214198  214198      0.0      0.0      0.0      0.0      0.0      0.0      0.0   \n",
       "214199  214199      0.0      0.0      0.0      0.0      0.0      0.0      0.0   \n",
       "\n",
       "        2013-08  2013-09  ...  2015-01  2015-02  2015-03  2015-04  2015-05  \\\n",
       "0           0.0      0.0  ...      2.0      0.0      0.0      0.0      1.0   \n",
       "1           0.0      0.0  ...      0.0      0.0      0.0      0.0      0.0   \n",
       "2           0.0      0.0  ...      0.0      0.0      0.0      0.0      3.0   \n",
       "3           0.0      0.0  ...      0.0      0.0      0.0      0.0      0.0   \n",
       "4           0.0      0.0  ...      0.0      0.0      0.0      0.0      0.0   \n",
       "...         ...      ...  ...      ...      ...      ...      ...      ...   \n",
       "214195      0.0      0.0  ...      2.0      1.0      1.0      0.0      0.0   \n",
       "214196      0.0      0.0  ...      0.0      0.0      0.0      0.0      0.0   \n",
       "214197      0.0      0.0  ...      1.0      1.0      0.0      0.0      0.0   \n",
       "214198      0.0      0.0  ...      0.0      0.0      0.0      0.0      0.0   \n",
       "214199      0.0      0.0  ...      0.0      0.0      0.0      0.0      0.0   \n",
       "\n",
       "        2015-06  2015-07  2015-08  2015-09  2015-10  \n",
       "0           1.0      1.0      3.0      1.0      0.0  \n",
       "1           0.0      0.0      0.0      0.0      0.0  \n",
       "2           2.0      0.0      1.0      3.0      1.0  \n",
       "3           0.0      0.0      1.0      0.0      0.0  \n",
       "4           0.0      0.0      0.0      0.0      0.0  \n",
       "...         ...      ...      ...      ...      ...  \n",
       "214195      0.0      0.0      0.0      0.0      1.0  \n",
       "214196      0.0      0.0      0.0      0.0      0.0  \n",
       "214197      0.0      0.0      0.0      0.0      0.0  \n",
       "214198      0.0      0.0      0.0      0.0      0.0  \n",
       "214199      0.0      0.0      0.0      0.0      0.0  \n",
       "\n",
       "[214200 rows x 35 columns]"
      ]
     },
     "execution_count": 145,
     "metadata": {},
     "output_type": "execute_result"
    }
   ],
   "source": [
    "test"
   ]
  },
  {
   "cell_type": "markdown",
   "metadata": {},
   "source": [
    "veamos algunas series de tiempo de los productos para contextualizar la idea"
   ]
  },
  {
   "cell_type": "code",
   "execution_count": 146,
   "metadata": {},
   "outputs": [
    {
     "data": {
      "text/plain": [
       "Text(0.5, 1.0, 'Series de tiempo venta por tienda y producto')"
      ]
     },
     "execution_count": 146,
     "metadata": {},
     "output_type": "execute_result"
    },
    {
     "data": {
      "image/png": "[encoded data removed]",
      "text/plain": [
       "<Figure size 432x288 with 1 Axes>"
      ]
     },
     "metadata": {
      "needs_background": "light"
     },
     "output_type": "display_data"
    }
   ],
   "source": [
    "muestra = np.random.randint(1, len(test), (1000))\n",
    "\n",
    "for i in muestra:\n",
    "    plt.plot(test.iloc[i][1:])\n",
    "    \n",
    "meses = train.date_block_num.nunique()\n",
    "año = 12\n",
    "plt.xticks(np.arange(0, meses, step=año))    \n",
    "plt.grid(color='k',\n",
    "         alpha=0.5,\n",
    "         linestyle='dashed',\n",
    "         linewidth=0.9)\n",
    "plt.xlabel(\"Meses\")\n",
    "plt.ylabel(\"Cantidad de productos venididos\")\n",
    "plt.title(\"Series de tiempo venta por tienda y producto\")"
   ]
  },
  {
   "cell_type": "markdown",
   "metadata": {},
   "source": [
    "Se recalculan los campos de precio para tener el promedio de precio mensual por atículo, por tienda. Es un propuesta para reducir la complejidad del modelo"
   ]
  },
  {
   "cell_type": "code",
   "execution_count": 147,
   "metadata": {},
   "outputs": [],
   "source": [
    "# scaler = MinMaxScaler(feature_range=(0,1))\n",
    "# train[\"item_price\"] = scaler.fit_transform(train[\"item_price\"].values.reshape(-1,1))\n",
    "df2 = train.groupby([train.date.apply(lambda x: x.strftime('%Y-%m')),'item_id','shop_id']).mean().reset_index()\n",
    "df2 = df2[['date',\n",
    "             'item_id',\n",
    "             'shop_id',\n",
    "             'item_price']].pivot_table(index=['item_id','shop_id'],\n",
    "                                        columns='date',\n",
    "                                        values='item_price',\n",
    "                                        fill_value=0).reset_index()\n",
    "price = pd.merge(val, df2, on=[\"item_id\", \"shop_id\"],how=\"left\").fillna(0)\n",
    "price = price.drop(labels=[\"item_id\",\"shop_id\"], axis =1)"
   ]
  },
  {
   "cell_type": "code",
   "execution_count": 148,
   "metadata": {},
   "outputs": [
    {
     "data": {
      "text/html": [
       "<div>\n",
       "<style scoped>\n",
       "    .dataframe tbody tr th:only-of-type {\n",
       "        vertical-align: middle;\n",
       "    }\n",
       "\n",
       "    .dataframe tbody tr th {\n",
       "        vertical-align: top;\n",
       "    }\n",
       "\n",
       "    .dataframe thead th {\n",
       "        text-align: right;\n",
       "    }\n",
       "</style>\n",
       "<table border=\"1\" class=\"dataframe\">\n",
       "  <thead>\n",
       "    <tr style=\"text-align: right;\">\n",
       "      <th></th>\n",
       "      <th>ID</th>\n",
       "      <th>2013-01</th>\n",
       "      <th>2013-02</th>\n",
       "      <th>2013-03</th>\n",
       "      <th>2013-04</th>\n",
       "      <th>2013-05</th>\n",
       "      <th>2013-06</th>\n",
       "      <th>2013-07</th>\n",
       "      <th>2013-08</th>\n",
       "      <th>2013-09</th>\n",
       "      <th>...</th>\n",
       "      <th>2015-01</th>\n",
       "      <th>2015-02</th>\n",
       "      <th>2015-03</th>\n",
       "      <th>2015-04</th>\n",
       "      <th>2015-05</th>\n",
       "      <th>2015-06</th>\n",
       "      <th>2015-07</th>\n",
       "      <th>2015-08</th>\n",
       "      <th>2015-09</th>\n",
       "      <th>2015-10</th>\n",
       "    </tr>\n",
       "  </thead>\n",
       "  <tbody>\n",
       "    <tr>\n",
       "      <th>0</th>\n",
       "      <td>0</td>\n",
       "      <td>0.0</td>\n",
       "      <td>0.0</td>\n",
       "      <td>0.0</td>\n",
       "      <td>0.0</td>\n",
       "      <td>0.0</td>\n",
       "      <td>0.0</td>\n",
       "      <td>0.0</td>\n",
       "      <td>0.0</td>\n",
       "      <td>0.0</td>\n",
       "      <td>...</td>\n",
       "      <td>1999.0</td>\n",
       "      <td>0.0</td>\n",
       "      <td>0.0</td>\n",
       "      <td>0.0</td>\n",
       "      <td>1299.0</td>\n",
       "      <td>1499.0</td>\n",
       "      <td>1499.0</td>\n",
       "      <td>999.166667</td>\n",
       "      <td>749.5</td>\n",
       "      <td>0.0</td>\n",
       "    </tr>\n",
       "    <tr>\n",
       "      <th>1</th>\n",
       "      <td>1</td>\n",
       "      <td>0.0</td>\n",
       "      <td>0.0</td>\n",
       "      <td>0.0</td>\n",
       "      <td>0.0</td>\n",
       "      <td>0.0</td>\n",
       "      <td>0.0</td>\n",
       "      <td>0.0</td>\n",
       "      <td>0.0</td>\n",
       "      <td>0.0</td>\n",
       "      <td>...</td>\n",
       "      <td>0.0</td>\n",
       "      <td>0.0</td>\n",
       "      <td>0.0</td>\n",
       "      <td>0.0</td>\n",
       "      <td>0.0</td>\n",
       "      <td>0.0</td>\n",
       "      <td>0.0</td>\n",
       "      <td>0.000000</td>\n",
       "      <td>0.0</td>\n",
       "      <td>0.0</td>\n",
       "    </tr>\n",
       "    <tr>\n",
       "      <th>2</th>\n",
       "      <td>2</td>\n",
       "      <td>0.0</td>\n",
       "      <td>0.0</td>\n",
       "      <td>0.0</td>\n",
       "      <td>0.0</td>\n",
       "      <td>0.0</td>\n",
       "      <td>0.0</td>\n",
       "      <td>0.0</td>\n",
       "      <td>0.0</td>\n",
       "      <td>0.0</td>\n",
       "      <td>...</td>\n",
       "      <td>0.0</td>\n",
       "      <td>0.0</td>\n",
       "      <td>0.0</td>\n",
       "      <td>0.0</td>\n",
       "      <td>899.0</td>\n",
       "      <td>599.0</td>\n",
       "      <td>0.0</td>\n",
       "      <td>599.000000</td>\n",
       "      <td>999.0</td>\n",
       "      <td>1199.0</td>\n",
       "    </tr>\n",
       "    <tr>\n",
       "      <th>3</th>\n",
       "      <td>3</td>\n",
       "      <td>0.0</td>\n",
       "      <td>0.0</td>\n",
       "      <td>0.0</td>\n",
       "      <td>0.0</td>\n",
       "      <td>0.0</td>\n",
       "      <td>0.0</td>\n",
       "      <td>0.0</td>\n",
       "      <td>0.0</td>\n",
       "      <td>0.0</td>\n",
       "      <td>...</td>\n",
       "      <td>0.0</td>\n",
       "      <td>0.0</td>\n",
       "      <td>0.0</td>\n",
       "      <td>0.0</td>\n",
       "      <td>0.0</td>\n",
       "      <td>0.0</td>\n",
       "      <td>0.0</td>\n",
       "      <td>599.000000</td>\n",
       "      <td>0.0</td>\n",
       "      <td>0.0</td>\n",
       "    </tr>\n",
       "    <tr>\n",
       "      <th>4</th>\n",
       "      <td>4</td>\n",
       "      <td>0.0</td>\n",
       "      <td>0.0</td>\n",
       "      <td>0.0</td>\n",
       "      <td>0.0</td>\n",
       "      <td>0.0</td>\n",
       "      <td>0.0</td>\n",
       "      <td>0.0</td>\n",
       "      <td>0.0</td>\n",
       "      <td>0.0</td>\n",
       "      <td>...</td>\n",
       "      <td>0.0</td>\n",
       "      <td>0.0</td>\n",
       "      <td>0.0</td>\n",
       "      <td>0.0</td>\n",
       "      <td>0.0</td>\n",
       "      <td>0.0</td>\n",
       "      <td>0.0</td>\n",
       "      <td>0.000000</td>\n",
       "      <td>0.0</td>\n",
       "      <td>0.0</td>\n",
       "    </tr>\n",
       "    <tr>\n",
       "      <th>...</th>\n",
       "      <td>...</td>\n",
       "      <td>...</td>\n",
       "      <td>...</td>\n",
       "      <td>...</td>\n",
       "      <td>...</td>\n",
       "      <td>...</td>\n",
       "      <td>...</td>\n",
       "      <td>...</td>\n",
       "      <td>...</td>\n",
       "      <td>...</td>\n",
       "      <td>...</td>\n",
       "      <td>...</td>\n",
       "      <td>...</td>\n",
       "      <td>...</td>\n",
       "      <td>...</td>\n",
       "      <td>...</td>\n",
       "      <td>...</td>\n",
       "      <td>...</td>\n",
       "      <td>...</td>\n",
       "      <td>...</td>\n",
       "      <td>...</td>\n",
       "    </tr>\n",
       "    <tr>\n",
       "      <th>214195</th>\n",
       "      <td>214195</td>\n",
       "      <td>0.0</td>\n",
       "      <td>0.0</td>\n",
       "      <td>0.0</td>\n",
       "      <td>0.0</td>\n",
       "      <td>0.0</td>\n",
       "      <td>0.0</td>\n",
       "      <td>0.0</td>\n",
       "      <td>0.0</td>\n",
       "      <td>0.0</td>\n",
       "      <td>...</td>\n",
       "      <td>199.0</td>\n",
       "      <td>199.0</td>\n",
       "      <td>199.0</td>\n",
       "      <td>0.0</td>\n",
       "      <td>0.0</td>\n",
       "      <td>0.0</td>\n",
       "      <td>0.0</td>\n",
       "      <td>0.000000</td>\n",
       "      <td>0.0</td>\n",
       "      <td>99.0</td>\n",
       "    </tr>\n",
       "    <tr>\n",
       "      <th>214196</th>\n",
       "      <td>214196</td>\n",
       "      <td>0.0</td>\n",
       "      <td>0.0</td>\n",
       "      <td>0.0</td>\n",
       "      <td>0.0</td>\n",
       "      <td>0.0</td>\n",
       "      <td>0.0</td>\n",
       "      <td>0.0</td>\n",
       "      <td>0.0</td>\n",
       "      <td>0.0</td>\n",
       "      <td>...</td>\n",
       "      <td>0.0</td>\n",
       "      <td>0.0</td>\n",
       "      <td>0.0</td>\n",
       "      <td>0.0</td>\n",
       "      <td>0.0</td>\n",
       "      <td>0.0</td>\n",
       "      <td>0.0</td>\n",
       "      <td>0.000000</td>\n",
       "      <td>0.0</td>\n",
       "      <td>0.0</td>\n",
       "    </tr>\n",
       "    <tr>\n",
       "      <th>214197</th>\n",
       "      <td>214197</td>\n",
       "      <td>199.0</td>\n",
       "      <td>0.0</td>\n",
       "      <td>0.0</td>\n",
       "      <td>0.0</td>\n",
       "      <td>0.0</td>\n",
       "      <td>0.0</td>\n",
       "      <td>0.0</td>\n",
       "      <td>0.0</td>\n",
       "      <td>0.0</td>\n",
       "      <td>...</td>\n",
       "      <td>199.0</td>\n",
       "      <td>199.0</td>\n",
       "      <td>0.0</td>\n",
       "      <td>0.0</td>\n",
       "      <td>0.0</td>\n",
       "      <td>0.0</td>\n",
       "      <td>0.0</td>\n",
       "      <td>0.000000</td>\n",
       "      <td>0.0</td>\n",
       "      <td>0.0</td>\n",
       "    </tr>\n",
       "    <tr>\n",
       "      <th>214198</th>\n",
       "      <td>214198</td>\n",
       "      <td>0.0</td>\n",
       "      <td>0.0</td>\n",
       "      <td>0.0</td>\n",
       "      <td>0.0</td>\n",
       "      <td>0.0</td>\n",
       "      <td>0.0</td>\n",
       "      <td>0.0</td>\n",
       "      <td>0.0</td>\n",
       "      <td>0.0</td>\n",
       "      <td>...</td>\n",
       "      <td>0.0</td>\n",
       "      <td>0.0</td>\n",
       "      <td>0.0</td>\n",
       "      <td>0.0</td>\n",
       "      <td>0.0</td>\n",
       "      <td>0.0</td>\n",
       "      <td>0.0</td>\n",
       "      <td>0.000000</td>\n",
       "      <td>0.0</td>\n",
       "      <td>0.0</td>\n",
       "    </tr>\n",
       "    <tr>\n",
       "      <th>214199</th>\n",
       "      <td>214199</td>\n",
       "      <td>0.0</td>\n",
       "      <td>0.0</td>\n",
       "      <td>0.0</td>\n",
       "      <td>0.0</td>\n",
       "      <td>0.0</td>\n",
       "      <td>0.0</td>\n",
       "      <td>0.0</td>\n",
       "      <td>0.0</td>\n",
       "      <td>0.0</td>\n",
       "      <td>...</td>\n",
       "      <td>0.0</td>\n",
       "      <td>0.0</td>\n",
       "      <td>0.0</td>\n",
       "      <td>0.0</td>\n",
       "      <td>0.0</td>\n",
       "      <td>0.0</td>\n",
       "      <td>0.0</td>\n",
       "      <td>0.000000</td>\n",
       "      <td>0.0</td>\n",
       "      <td>0.0</td>\n",
       "    </tr>\n",
       "  </tbody>\n",
       "</table>\n",
       "<p>214200 rows × 35 columns</p>\n",
       "</div>"
      ],
      "text/plain": [
       "            ID  2013-01  2013-02  2013-03  2013-04  2013-05  2013-06  2013-07  \\\n",
       "0            0      0.0      0.0      0.0      0.0      0.0      0.0      0.0   \n",
       "1            1      0.0      0.0      0.0      0.0      0.0      0.0      0.0   \n",
       "2            2      0.0      0.0      0.0      0.0      0.0      0.0      0.0   \n",
       "3            3      0.0      0.0      0.0      0.0      0.0      0.0      0.0   \n",
       "4            4      0.0      0.0      0.0      0.0      0.0      0.0      0.0   \n",
       "...        ...      ...      ...      ...      ...      ...      ...      ...   \n",
       "214195  214195      0.0      0.0      0.0      0.0      0.0      0.0      0.0   \n",
       "214196  214196      0.0      0.0      0.0      0.0      0.0      0.0      0.0   \n",
       "214197  214197    199.0      0.0      0.0      0.0      0.0      0.0      0.0   \n",
       "214198  214198      0.0      0.0      0.0      0.0      0.0      0.0      0.0   \n",
       "214199  214199      0.0      0.0      0.0      0.0      0.0      0.0      0.0   \n",
       "\n",
       "        2013-08  2013-09  ...  2015-01  2015-02  2015-03  2015-04  2015-05  \\\n",
       "0           0.0      0.0  ...   1999.0      0.0      0.0      0.0   1299.0   \n",
       "1           0.0      0.0  ...      0.0      0.0      0.0      0.0      0.0   \n",
       "2           0.0      0.0  ...      0.0      0.0      0.0      0.0    899.0   \n",
       "3           0.0      0.0  ...      0.0      0.0      0.0      0.0      0.0   \n",
       "4           0.0      0.0  ...      0.0      0.0      0.0      0.0      0.0   \n",
       "...         ...      ...  ...      ...      ...      ...      ...      ...   \n",
       "214195      0.0      0.0  ...    199.0    199.0    199.0      0.0      0.0   \n",
       "214196      0.0      0.0  ...      0.0      0.0      0.0      0.0      0.0   \n",
       "214197      0.0      0.0  ...    199.0    199.0      0.0      0.0      0.0   \n",
       "214198      0.0      0.0  ...      0.0      0.0      0.0      0.0      0.0   \n",
       "214199      0.0      0.0  ...      0.0      0.0      0.0      0.0      0.0   \n",
       "\n",
       "        2015-06  2015-07     2015-08  2015-09  2015-10  \n",
       "0        1499.0   1499.0  999.166667    749.5      0.0  \n",
       "1           0.0      0.0    0.000000      0.0      0.0  \n",
       "2         599.0      0.0  599.000000    999.0   1199.0  \n",
       "3           0.0      0.0  599.000000      0.0      0.0  \n",
       "4           0.0      0.0    0.000000      0.0      0.0  \n",
       "...         ...      ...         ...      ...      ...  \n",
       "214195      0.0      0.0    0.000000      0.0     99.0  \n",
       "214196      0.0      0.0    0.000000      0.0      0.0  \n",
       "214197      0.0      0.0    0.000000      0.0      0.0  \n",
       "214198      0.0      0.0    0.000000      0.0      0.0  \n",
       "214199      0.0      0.0    0.000000      0.0      0.0  \n",
       "\n",
       "[214200 rows x 35 columns]"
      ]
     },
     "execution_count": 148,
     "metadata": {},
     "output_type": "execute_result"
    }
   ],
   "source": [
    "price"
   ]
  },
  {
   "cell_type": "code",
   "execution_count": 149,
   "metadata": {},
   "outputs": [
    {
     "data": {
      "text/plain": [
       "Text(0.5, 1.0, 'Series de tiempo precio por tienda y producto')"
      ]
     },
     "execution_count": 149,
     "metadata": {},
     "output_type": "execute_result"
    },
    {
     "data": {
      "image/png": "[encoded data removed]",
      "text/plain": [
       "<Figure size 432x288 with 1 Axes>"
      ]
     },
     "metadata": {
      "needs_background": "light"
     },
     "output_type": "display_data"
    }
   ],
   "source": [
    "muestra = np.random.randint(1, len(test), (1000))\n",
    "\n",
    "for i in muestra:\n",
    "    plt.plot(price.iloc[i][1:])\n",
    "    \n",
    "plt.xticks(np.arange(0, meses, step=año))    \n",
    "plt.grid(color='k',\n",
    "         alpha=0.5,\n",
    "         linestyle='dashed',\n",
    "         linewidth=0.9)\n",
    "plt.xlabel(\"Meses\")\n",
    "plt.ylabel(\"Precio productos venididos\")\n",
    "plt.title(\"Series de tiempo precio por tienda y producto\")"
   ]
  },
  {
   "cell_type": "markdown",
   "metadata": {},
   "source": [
    "Se designan los conjuntos de entrenamiento y validación"
   ]
  },
  {
   "cell_type": "code",
   "execution_count": 150,
   "metadata": {},
   "outputs": [],
   "source": [
    "y_train = test[\"2015-10\"]\n",
    "x_sales = test.drop(labels=[\"2015-10\"], axis=1)\n",
    "x_prices = price.drop(labels=[\"2015-10\"], axis=1)"
   ]
  },
  {
   "cell_type": "markdown",
   "metadata": {},
   "source": [
    "Se redimenzionaliza para poder pasarla al modelo de la red neuronal \n",
    "\n"
   ]
  },
  {
   "cell_type": "code",
   "execution_count": 151,
   "metadata": {},
   "outputs": [],
   "source": [
    "x_sales = x_sales.values.reshape((x_sales.shape[0], x_sales.shape[1], 1))\n",
    "x_prices= x_prices.values.reshape((x_prices.shape[0], x_prices.shape[1], 1))"
   ]
  },
  {
   "cell_type": "markdown",
   "metadata": {},
   "source": [
    "por ultimo se compactifica en una matriz multidimensional las series temporales, de esta manera se tiene el conjunto de entrenamiento "
   ]
  },
  {
   "cell_type": "code",
   "execution_count": 152,
   "metadata": {},
   "outputs": [
    {
     "name": "stdout",
     "output_type": "stream",
     "text": [
      "Tamaño datos entrenamiento:  (214200, 34, 2)\n",
      "Tamaño datos objetivo:  (214200,)\n"
     ]
    }
   ],
   "source": [
    "X = np.append(x_sales, x_prices, axis=2)\n",
    "y = y_train\n",
    "print(\"Tamaño datos entrenamiento: \",X.shape)\n",
    "print(\"Tamaño datos objetivo: \",y.shape)"
   ]
  },
  {
   "cell_type": "code",
   "execution_count": 153,
   "metadata": {},
   "outputs": [
    {
     "name": "stdout",
     "output_type": "stream",
     "text": [
      "Tamaño de entrenamiento:  (171360, 34, 2)\n",
      "Tamaño de validacion:  (42840, 34, 2)\n",
      "Tamaño objetivo entrenamiento:  (171360,)\n",
      "Tamaño objetivo validación:  (42840,)\n"
     ]
    }
   ],
   "source": [
    "X_train, X_val, y_train, y_val = train_test_split(X,\n",
    "                                                  y,\n",
    "                                                  test_size=0.2,\n",
    "                                                  random_state=11,\n",
    "                                                  shuffle=False) \n",
    "\n",
    "print(\"Tamaño de entrenamiento: \",np.shape(X_train))\n",
    "print(\"Tamaño de validacion: \",X_val.shape)\n",
    "print(\"Tamaño objetivo entrenamiento: \",y_train.shape)\n",
    "print(\"Tamaño objetivo validación: \",y_val.shape)\n",
    "    "
   ]
  },
  {
   "cell_type": "markdown",
   "metadata": {},
   "source": [
    "### Construcción de la Red Neuronal\n",
    "\n"
   ]
  },
  {
   "cell_type": "code",
   "execution_count": 160,
   "metadata": {},
   "outputs": [
    {
     "name": "stdout",
     "output_type": "stream",
     "text": [
      "Model: \"sequential_34\"\n",
      "_________________________________________________________________\n",
      "Layer (type)                 Output Shape              Param #   \n",
      "=================================================================\n",
      "lstm_35 (LSTM)               (None, 64)                17152     \n",
      "_________________________________________________________________\n",
      "dropout_41 (Dropout)         (None, 64)                0         \n",
      "_________________________________________________________________\n",
      "dense_38 (Dense)             (None, 16)                1040      \n",
      "_________________________________________________________________\n",
      "dense_39 (Dense)             (None, 1)                 17        \n",
      "=================================================================\n",
      "Total params: 18,209\n",
      "Trainable params: 18,209\n",
      "Non-trainable params: 0\n",
      "_________________________________________________________________\n",
      "None\n"
     ]
    }
   ],
   "source": [
    "modelo = Sequential()\n",
    "modelo.add(LSTM(64, \n",
    "                activation=\"tanh\",\n",
    "                recurrent_activation=\"softmax\",\n",
    "                use_bias=True,\n",
    "                input_shape=(X.shape[1], X.shape[2])))\n",
    "\n",
    "# modelo.add(Conv1D(filters=64, \n",
    "#                  kernel_size=16, \n",
    "#                  activation='relu'))\n",
    "modelo.add(Dropout(0.5))\n",
    "# modelo.add(LSTM(32))\n",
    "# modelo.add(Dropout(0.5))\n",
    "modelo.add(Dense(16))\n",
    "modelo.add(Dense(1))\n",
    "\n",
    "modelo.compile(optimizer=\"adam\", \n",
    "               loss=\"mse\",\n",
    "               metrics=[\"mse\"])\n",
    "\n",
    "print(modelo.summary())\n",
    "\n",
    "\n"
   ]
  },
  {
   "cell_type": "markdown",
   "metadata": {},
   "source": [
    "Definición de los parámetros de la red"
   ]
  },
  {
   "cell_type": "code",
   "execution_count": 161,
   "metadata": {},
   "outputs": [],
   "source": [
    "LSTM_PARAM = {\"batch_size\": 128,\n",
    "              \"verbose\": 1,\n",
    "              \"epochs\": 100}"
   ]
  },
  {
   "cell_type": "markdown",
   "metadata": {},
   "source": [
    "Definición de parada temprana para evitar sobrecostos computacionales"
   ]
  },
  {
   "cell_type": "code",
   "execution_count": 162,
   "metadata": {},
   "outputs": [],
   "source": [
    "callback = [EarlyStopping(monitor=\"val_loss\",\n",
    "                          min_delta=0.05,\n",
    "                          patience=50,\n",
    "                          mode=\"auto\",\n",
    "                          verbose=1,\n",
    "                          restore_best_weights=True)]"
   ]
  },
  {
   "cell_type": "markdown",
   "metadata": {},
   "source": [
    "Entrenamiento de la red"
   ]
  },
  {
   "cell_type": "code",
   "execution_count": null,
   "metadata": {},
   "outputs": [
    {
     "name": "stdout",
     "output_type": "stream",
     "text": [
      "Epoch 1/100\n",
      "1339/1339 [==============================] - 235s 176ms/step - loss: 1.2779 - mse: 1.2779 - val_loss: 0.6154 - val_mse: 0.6154\n",
      "Epoch 2/100\n",
      "  27/1339 [..............................] - ETA: 3:48 - loss: 1.0055 - mse: 1.0055"
     ]
    }
   ],
   "source": [
    "hist = modelo.fit(X_train,\n",
    "                  y_train,\n",
    "                  validation_data=(X_val,y_val),\n",
    "                  callbacks=callback,\n",
    "                  **LSTM_PARAM)"
   ]
  },
  {
   "cell_type": "markdown",
   "metadata": {},
   "source": [
    "Ahora se prepara el conjunto de validación "
   ]
  },
  {
   "cell_type": "code",
   "execution_count": null,
   "metadata": {},
   "outputs": [],
   "source": [
    "test = test.drop(labels=[\"2013-01\"], axis=1)\n",
    "x_test_sales = test.values.reshape((test.shape[0], test.shape[1], 1))\n",
    "x_test_prices = price.drop(labels=['2013-01'],axis=1)\n",
    "x_test_prices = x_test_prices.values.reshape((x_test_prices.shape[0], x_test_prices.shape[1], 1))\n",
    "\n",
    "test = np.append(x_test_sales,x_test_prices,axis=2)\n"
   ]
  },
  {
   "cell_type": "code",
   "execution_count": null,
   "metadata": {},
   "outputs": [],
   "source": [
    "np.shape(test)"
   ]
  },
  {
   "cell_type": "code",
   "execution_count": null,
   "metadata": {},
   "outputs": [],
   "source": [
    "pred = modelo.predict(test)"
   ]
  },
  {
   "cell_type": "code",
   "execution_count": null,
   "metadata": {},
   "outputs": [],
   "source": [
    "best = np.argmin(hist.history[\"val_loss\"])\n",
    "print(\"Mejor época: \",best)\n",
    "print(\"Puntaje entrenamiento: {}, Puntaje Validación: {}\".format(hist.history[\"loss\"][best],hist.history[\"val_loss\"][best]))"
   ]
  },
  {
   "cell_type": "code",
   "execution_count": null,
   "metadata": {},
   "outputs": [],
   "source": [
    "print(\"Salida para la competencia\")\n",
    "submission = pd.DataFrame(pred,columns=['item_cnt_month'])\n",
    "submission.to_csv('submission.csv',index_label='ID')"
   ]
  },
  {
   "cell_type": "code",
   "execution_count": null,
   "metadata": {},
   "outputs": [],
   "source": [
    "plt.plot(hist.history['loss'], \"r-\", label='train')\n",
    "plt.plot(hist.history['val_loss'], \"b-\", label='validacion')\n",
    "plt.xlabel(\"épocas\")\n",
    "plt.ylabel(\"Error cuadrático promedio\")\n",
    "plt.grid(color='k',\n",
    "         alpha=0.5,\n",
    "         linestyle='dashed',\n",
    "         linewidth=0.9)\n",
    "plt.legend()\n"
   ]
  },
  {
   "cell_type": "code",
   "execution_count": null,
   "metadata": {},
   "outputs": [],
   "source": [
    "submission.item_cnt_month "
   ]
  },
  {
   "cell_type": "code",
   "execution_count": null,
   "metadata": {},
   "outputs": [],
   "source": []
  },
  {
   "cell_type": "code",
   "execution_count": null,
   "metadata": {},
   "outputs": [],
   "source": []
  },
  {
   "cell_type": "code",
   "execution_count": null,
   "metadata": {},
   "outputs": [],
   "source": []
  },
  {
   "cell_type": "code",
   "execution_count": null,
   "metadata": {},
   "outputs": [],
   "source": []
  },
  {
   "cell_type": "code",
   "execution_count": null,
   "metadata": {},
   "outputs": [],
   "source": []
  },
  {
   "cell_type": "code",
   "execution_count": null,
   "metadata": {},
   "outputs": [],
   "source": []
  }
 ],
 "metadata": {
  "kernelspec": {
   "display_name": "Python 3",
   "language": "python",
   "name": "python3"
  },
  "language_info": {
   "codemirror_mode": {
    "name": "ipython",
    "version": 3
   },
   "file_extension": ".py",
   "mimetype": "text/x-python",
   "name": "python",
   "nbconvert_exporter": "python",
   "pygments_lexer": "ipython3",
   "version": "3.8.3"
  }
 },
 "nbformat": 4,
 "nbformat_minor": 4
}
